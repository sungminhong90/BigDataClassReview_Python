{
 "cells": [
  {
   "cell_type": "markdown",
   "metadata": {},
   "source": [
    "# Date, Time\n",
    "\n",
    "## 시간정보"
   ]
  },
  {
   "cell_type": "code",
   "execution_count": 2,
   "metadata": {
    "scrolled": true
   },
   "outputs": [],
   "source": [
    "# 현재 시간을 년-월-일 시:분:초로 출력하기(localtime, strftime)\n",
    "from time import localtime, strftime\n",
    "\n",
    "def writelog(logfile, log):\n",
    "    time_stamp = strftime('%Y-%m-%d %X\\t', localtime())\n",
    "    log = time_stamp + log + '\\n'\n",
    "\n",
    "    with open(logfile, 'a') as f:\n",
    "        f.writelines(log)\n",
    "\n",
    "logfile = 'test.log'\n",
    "# ! rm $logfile\n",
    "! del test.log \n",
    "\n",
    "writelog(logfile, '첫번째 로깅 문장입니다.')"
   ]
  },
  {
   "cell_type": "code",
   "execution_count": 3,
   "metadata": {},
   "outputs": [
    {
     "name": "stdout",
     "output_type": "stream",
     "text": [
      "2019-08-22 21:37:02\t첫번째 로깅 문장입니다.\n"
     ]
    }
   ],
   "source": [
    "#!cat$logfile\n",
    "!type test.log"
   ]
  },
  {
   "cell_type": "code",
   "execution_count": 4,
   "metadata": {},
   "outputs": [
    {
     "name": "stdout",
     "output_type": "stream",
     "text": [
      "time.struct_time(tm_year=2019, tm_mon=8, tm_mday=22, tm_hour=21, tm_min=38, tm_sec=21, tm_wday=3, tm_yday=234, tm_isdst=0)\n",
      "오늘은 [2019-01-01]이후 [234]일째 되는 날입니다.\n"
     ]
    }
   ],
   "source": [
    "# 올해 경과된 날짜수 계산하기(localtime)\n",
    "from time import localtime\n",
    "\n",
    "t = localtime()\n",
    "print(t)\n",
    "\n",
    "start_day = '%d-01-01' %(t.tm_year)\n",
    "elapsed_day = t.tm_yday\n",
    "\n",
    "print('오늘은 [%s]이후 [%d]일째 되는 날입니다.' %(start_day, elapsed_day))"
   ]
  },
  {
   "cell_type": "code",
   "execution_count": 5,
   "metadata": {},
   "outputs": [
    {
     "data": {
      "text/plain": [
       "'2019-8-22'"
      ]
     },
     "execution_count": 5,
     "metadata": {},
     "output_type": "execute_result"
    }
   ],
   "source": [
    "today = '{yy}-{mm}-{dd}'.format(\n",
    "    yy = t.tm_year,\n",
    "    mm = t.tm_mon,\n",
    "    dd = t.tm_mday,\n",
    ")\n",
    "today"
   ]
  },
  {
   "cell_type": "code",
   "execution_count": 6,
   "metadata": {},
   "outputs": [
    {
     "data": {
      "text/plain": [
       "'2002-3-2'"
      ]
     },
     "execution_count": 6,
     "metadata": {},
     "output_type": "execute_result"
    }
   ],
   "source": [
    "mem_day = '{yy}-{mm}-{dd}'.format(\n",
    "    yy = 2002,\n",
    "    mm = 3,\n",
    "    dd = 2\n",
    ")\n",
    "mem_day"
   ]
  },
  {
   "cell_type": "code",
   "execution_count": 7,
   "metadata": {},
   "outputs": [
    {
     "data": {
      "text/plain": [
       "time.struct_time"
      ]
     },
     "execution_count": 7,
     "metadata": {},
     "output_type": "execute_result"
    }
   ],
   "source": [
    "type(t)"
   ]
  },
  {
   "cell_type": "code",
   "execution_count": 9,
   "metadata": {},
   "outputs": [
    {
     "name": "stdout",
     "output_type": "stream",
     "text": [
      "[2019-8-22] 오늘은 [목요일]입니다.\n"
     ]
    }
   ],
   "source": [
    "# 오늘의 요일 계산해보기(localtime)\n",
    "\n",
    "from time import localtime\n",
    "\n",
    "weekdays = ['월요일', '화요일', '수요일', '목요일', '금요일', '토요일', '일요일']\n",
    "\n",
    "t = localtime()\n",
    "today = '%d-%d-%d' %(t.tm_year, t.tm_mon, t.tm_mday)\n",
    "week = weekdays[t.tm_wday]\n",
    "\n",
    "print('[%s] 오늘은 [%s]입니다.' %(today, week))\n"
   ]
  },
  {
   "cell_type": "code",
   "execution_count": 10,
   "metadata": {},
   "outputs": [
    {
     "name": "stdout",
     "output_type": "stream",
     "text": [
      "1에서 백만까지 더합니다.\n",
      "1에서 백만까지 더한 결과: 499999500000\n",
      "총 계산 시간: 0:00:00.681601\n",
      "총 계산 시간: 681ms\n"
     ]
    }
   ],
   "source": [
    "# 프로그램 실행 시간 계산해보기(datetimenow)\n",
    "\n",
    "from datetime import datetime, timedelta\n",
    "\n",
    "start = datetime.now()\n",
    "print('1에서 백만까지 더합니다.')\n",
    "\n",
    "ret = 0\n",
    "for i in range(1000000):\n",
    "    ret += i\n",
    "\n",
    "print('1에서 백만까지 더한 결과: %d' %ret)\n",
    "end = datetime.now()\n",
    "\n",
    "elapsed = end-start\n",
    "print('총 계산 시간: ', end='');   print(elapsed)\n",
    "elapsed_ms = int(elapsed.total_seconds()*1000)\n",
    "print('총 계산 시간: %dms' %elapsed_ms)"
   ]
  },
  {
   "cell_type": "code",
   "execution_count": 11,
   "metadata": {},
   "outputs": [
    {
     "data": {
      "text/plain": [
       "datetime.datetime"
      ]
     },
     "execution_count": 11,
     "metadata": {},
     "output_type": "execute_result"
    }
   ],
   "source": [
    "type(start)"
   ]
  },
  {
   "cell_type": "code",
   "execution_count": 12,
   "metadata": {},
   "outputs": [
    {
     "name": "stdout",
     "output_type": "stream",
     "text": [
      "2019-08-22 21:45:54.300277\n",
      "2019-08-22\n",
      "21:45:54\n",
      "2019-08-22 21:45:54\n"
     ]
    }
   ],
   "source": [
    "from datetime import datetime\n",
    " \n",
    "now = datetime.now()\n",
    "print(now)          # yyyy-MM-dd hh:mm:ss\n",
    " \n",
    "nowDate = now.strftime('%Y-%m-%d')\n",
    "print(nowDate)      # yyyy-MM-dd \n",
    " \n",
    "nowTime = now.strftime('%H:%M:%S')\n",
    "print(nowTime)      # 1hh:mm:ss\n",
    " \n",
    "nowDatetime = now.strftime('%Y-%m-%d %H:%M:%S')\n",
    "print(nowDatetime)  # yyyy-MM-dd hh:mm:ss"
   ]
  },
  {
   "cell_type": "code",
   "execution_count": 13,
   "metadata": {},
   "outputs": [
    {
     "data": {
      "text/plain": [
       "datetime.datetime"
      ]
     },
     "execution_count": 13,
     "metadata": {},
     "output_type": "execute_result"
    }
   ],
   "source": [
    "type(now)"
   ]
  },
  {
   "cell_type": "code",
   "execution_count": 14,
   "metadata": {},
   "outputs": [
    {
     "data": {
      "text/plain": [
       "datetime.datetime(2002, 3, 2, 0, 0)"
      ]
     },
     "execution_count": 14,
     "metadata": {},
     "output_type": "execute_result"
    }
   ],
   "source": [
    "m_day = datetime(2002,3,2)\n",
    "# m_day = m_day.strftime('%Y-%m-%d')\n",
    "m_day"
   ]
  },
  {
   "cell_type": "code",
   "execution_count": 15,
   "metadata": {},
   "outputs": [
    {
     "data": {
      "text/plain": [
       "datetime.datetime(2019, 8, 22, 21, 46, 44, 308637)"
      ]
     },
     "execution_count": 15,
     "metadata": {},
     "output_type": "execute_result"
    }
   ],
   "source": [
    "today = datetime.now()\n",
    "today"
   ]
  },
  {
   "cell_type": "code",
   "execution_count": 16,
   "metadata": {},
   "outputs": [
    {
     "data": {
      "text/plain": [
       "datetime.timedelta(days=6382, seconds=78404, microseconds=308637)"
      ]
     },
     "execution_count": 16,
     "metadata": {},
     "output_type": "execute_result"
    }
   ],
   "source": [
    "elapsed = today - m_day\n",
    "elapsed"
   ]
  },
  {
   "cell_type": "code",
   "execution_count": 17,
   "metadata": {},
   "outputs": [
    {
     "data": {
      "text/plain": [
       "(6382, 78404, 308637)"
      ]
     },
     "execution_count": 17,
     "metadata": {},
     "output_type": "execute_result"
    }
   ],
   "source": [
    "elapsed.days, elapsed.seconds, elapsed.microseconds"
   ]
  },
  {
   "cell_type": "code",
   "execution_count": 18,
   "metadata": {},
   "outputs": [
    {
     "data": {
      "text/plain": [
       "'러블리~ 우리 함께한지 벌써 6382일이나 지났고, 월수는 212개월, 년수는 17년이 지났네~!!'"
      ]
     },
     "execution_count": 18,
     "metadata": {},
     "output_type": "execute_result"
    }
   ],
   "source": [
    "elapsed_day   = elapsed.days\n",
    "elapsed_month = elapsed_day / 30\n",
    "elapsed_year  = elapsed_day / 365\n",
    "\n",
    "'러블리~ 우리 함께한지 벌써 {e_dd}일이나 지났고, 월수는 {e_mm}개월, 년수는 {e_yy}년이 지났네~!!'.format(\n",
    "    e_dd = elapsed_day,\n",
    "    e_mm = int(elapsed_month),\n",
    "    e_yy = int(elapsed_year)\n",
    ")"
   ]
  },
  {
   "cell_type": "code",
   "execution_count": null,
   "metadata": {},
   "outputs": [],
   "source": []
  }
 ],
 "metadata": {
  "kernelspec": {
   "display_name": "Python 3",
   "language": "python",
   "name": "python3"
  },
  "language_info": {
   "codemirror_mode": {
    "name": "ipython",
    "version": 3
   },
   "file_extension": ".py",
   "mimetype": "text/x-python",
   "name": "python",
   "nbconvert_exporter": "python",
   "pygments_lexer": "ipython3",
   "version": "3.7.3"
  }
 },
 "nbformat": 4,
 "nbformat_minor": 2
}
