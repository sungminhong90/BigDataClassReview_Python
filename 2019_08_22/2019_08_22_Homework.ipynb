{
 "cells": [
  {
   "cell_type": "code",
   "execution_count": 49,
   "metadata": {},
   "outputs": [],
   "source": [
    "from datetime import datetime\n",
    "\n",
    "def getMemorialDay(year, month, day, mem_day='기념일', is_msg=True):\n",
    "    today = datetime.now()\n",
    "    special_day = datetime(year,month,day)\n",
    "    elapsed = today - special_day\n",
    "\n",
    "    elapsed_day = elapsed.days\n",
    "    elapsed_month = elapsed_day / 30\n",
    "    elapsed_year = elapsed_day / 365\n",
    "\n",
    "    return ('오늘은 \"{mem_day}\"로부터 {e_dd:,}일 경과되었고, 달 수로는 {e_mm:,}개월째, 연 수로는 {e_yy:,}년째 되었습니다!!'.format(\n",
    "        mem_day = mem_day,\n",
    "        e_dd=elapsed_day,\n",
    "        e_mm=int(elapsed_month),\n",
    "        e_yy=int(elapsed_year)\n",
    "    ))"
   ]
  },
  {
   "cell_type": "code",
   "execution_count": 50,
   "metadata": {},
   "outputs": [
    {
     "data": {
      "text/plain": [
       "'오늘은 \"밀레니엄일\"로부터 7,173일 경과되었고, 달 수로는 239개월째, 연 수로는 19년째 되었습니다!!'"
      ]
     },
     "execution_count": 50,
     "metadata": {},
     "output_type": "execute_result"
    }
   ],
   "source": [
    "getMemorialDay(2000,1,1, '밀레니엄일')"
   ]
  },
  {
   "cell_type": "code",
   "execution_count": null,
   "metadata": {},
   "outputs": [],
   "source": []
  }
 ],
 "metadata": {
  "kernelspec": {
   "display_name": "Python 3",
   "language": "python",
   "name": "python3"
  },
  "language_info": {
   "codemirror_mode": {
    "name": "ipython",
    "version": 3
   },
   "file_extension": ".py",
   "mimetype": "text/x-python",
   "name": "python",
   "nbconvert_exporter": "python",
   "pygments_lexer": "ipython3",
   "version": "3.7.3"
  }
 },
 "nbformat": 4,
 "nbformat_minor": 2
}
