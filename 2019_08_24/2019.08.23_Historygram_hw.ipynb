{
 "cells": [
  {
   "cell_type": "markdown",
   "metadata": {},
   "source": [
    "## 실습. Histogram 함수 작성해보기\n",
    "### 리스트를 받아서 히스토그램 함수 그려보기\n",
    "\n",
    "- 입력값: [\"cat\",\"cat\",\"cat\",\"cat\",\"sheep\",\"sheep\",\"sheep\",\"sheep\",\"sheep\",\"duck\",\"duck\",\"duck\" ]"
   ]
  },
  {
   "cell_type": "code",
   "execution_count": 2,
   "metadata": {},
   "outputs": [],
   "source": [
    "#1. 히스토그램을 그리는 함수\n",
    "# input : {'cat':4, \"sheep\":5, \"duck\":3} "
   ]
  },
  {
   "cell_type": "code",
   "execution_count": 3,
   "metadata": {},
   "outputs": [],
   "source": [
    "from functools import*\n",
    "data = [\"cat\",\"cat\",\"cat\",\"cat\",\"sheep\",\"sheep\",\"sheep\",\"sheep\",\"sheep\",\"duck\",\"duck\",\"duck\" ]"
   ]
  },
  {
   "cell_type": "code",
   "execution_count": 6,
   "metadata": {},
   "outputs": [
    {
     "name": "stdout",
     "output_type": "stream",
     "text": [
      "{'cat': 4, 'sheep': 5, 'duck': 3}\n",
      "---------------------------------------- \n",
      "  cat ===\n",
      "  sheep ==\n",
      "  duck ====\n",
      "\n"
     ]
    }
   ],
   "source": [
    "result_dict = {'cat':4, \"sheep\":5, \"duck\":3} \n",
    "result_hist = \"\"\"\n",
    "  cat ===\n",
    "  sheep ==\n",
    "  duck ====\n",
    "\"\"\"\n",
    "\n",
    "print(result_dict)\n",
    "print('-'*40, result_hist)"
   ]
  },
  {
   "cell_type": "code",
   "execution_count": 7,
   "metadata": {},
   "outputs": [],
   "source": [
    "#### 각자 reduce를 활용하여 아래와 같은 Histogram이 출력되도록 함수를 구현해보세요!"
   ]
  },
  {
   "cell_type": "code",
   "execution_count": 9,
   "metadata": {},
   "outputs": [],
   "source": [
    "def get_count(result, element):\n",
    "    \n",
    "    if result.get(element):\n",
    "        result[element] += 1\n",
    "    else:\n",
    "        result[element] = 1\n",
    "    \n",
    "    #check process\n",
    "    print(element, '\\t:', result)\n",
    "    \n",
    "    return result"
   ]
  },
  {
   "cell_type": "code",
   "execution_count": 10,
   "metadata": {},
   "outputs": [
    {
     "name": "stdout",
     "output_type": "stream",
     "text": [
      "result \t: {} \n",
      "------------------------------------------\n",
      "cat \t: {'cat': 1}\n",
      "cat \t: {'cat': 2}\n",
      "cat \t: {'cat': 3}\n",
      "cat \t: {'cat': 4}\n",
      "sheep \t: {'cat': 4, 'sheep': 1}\n",
      "sheep \t: {'cat': 4, 'sheep': 2}\n",
      "sheep \t: {'cat': 4, 'sheep': 3}\n",
      "sheep \t: {'cat': 4, 'sheep': 4}\n",
      "sheep \t: {'cat': 4, 'sheep': 5}\n",
      "duck \t: {'cat': 4, 'sheep': 5, 'duck': 1}\n",
      "duck \t: {'cat': 4, 'sheep': 5, 'duck': 2}\n",
      "duck \t: {'cat': 4, 'sheep': 5, 'duck': 3}\n"
     ]
    },
    {
     "data": {
      "text/plain": [
       "{'cat': 4, 'sheep': 5, 'duck': 3}"
      ]
     },
     "execution_count": 10,
     "metadata": {},
     "output_type": "execute_result"
    }
   ],
   "source": [
    "print('result \\t:', {}, '\\n------------------------------------------')\n",
    "\n",
    "reduce(\n",
    "    get_count,\n",
    "    data,\n",
    "    {}\n",
    ")"
   ]
  },
  {
   "cell_type": "code",
   "execution_count": 30,
   "metadata": {},
   "outputs": [],
   "source": [
    "def get_histogram_dict(data):\n",
    "    def get_count(result, element):\n",
    "        if result.get(element):\n",
    "            result[element] += 1\n",
    "        else:\n",
    "            result[element] = 1\n",
    "        return result\n",
    "    return reduce(\n",
    "        get_count,\n",
    "        data,\n",
    "        {},\n",
    "    )\n",
    "\n",
    "def print_histogram(histogram_dict):\n",
    "    rows = []\n",
    "    for key, value in histogram_dict.items():\n",
    "        row = \"{key}{spaces}{value_count}\".format(\n",
    "            key   = key,\n",
    "            spaces  = \" \"*(7-len(key)),\n",
    "            value_count = \"=\"*value,\n",
    "        )\n",
    "        rows.append(row)\n",
    "    \n",
    "    print(\"\\n\".join(rows))\n",
    "    \n",
    "def draw_histogram(data):\n",
    "    histogram_dict = get_histogram_dict(data)\n",
    "    print_histogram(histogram_dict)"
   ]
  },
  {
   "cell_type": "code",
   "execution_count": 31,
   "metadata": {},
   "outputs": [
    {
     "data": {
      "text/plain": [
       "{'cat': 4, 'sheep': 5, 'duck': 3}"
      ]
     },
     "execution_count": 31,
     "metadata": {},
     "output_type": "execute_result"
    }
   ],
   "source": [
    "data = [\"cat\",\"cat\",\"cat\",\"cat\",\"sheep\",\"sheep\",\"sheep\",\"sheep\",\"sheep\",\"duck\",\"duck\",\"duck\" ]\n",
    "histogram_dict = get_histogram_dict(data)\n",
    "histogram_dict"
   ]
  },
  {
   "cell_type": "code",
   "execution_count": 32,
   "metadata": {},
   "outputs": [
    {
     "name": "stdout",
     "output_type": "stream",
     "text": [
      "cat    ====\n",
      "sheep  =====\n",
      "duck   ===\n"
     ]
    }
   ],
   "source": [
    "print_histogram(histogram_dict)"
   ]
  },
  {
   "cell_type": "code",
   "execution_count": 33,
   "metadata": {},
   "outputs": [],
   "source": [
    "### 투표결과 Random Histogram!!!"
   ]
  },
  {
   "cell_type": "code",
   "execution_count": 34,
   "metadata": {},
   "outputs": [],
   "source": [
    "from random import*\n",
    "\n",
    "candidate = [\"Team Red\",\"Team Blue\",\"Team Violet\",\"Team White\",\"Team Pink\"]\n",
    "num_of_voters = 100"
   ]
  },
  {
   "cell_type": "code",
   "execution_count": 35,
   "metadata": {},
   "outputs": [
    {
     "name": "stdout",
     "output_type": "stream",
     "text": [
      "Team Blue==================\n",
      "Team White====================\n",
      "Team Violet========================\n",
      "Team Pink===================\n",
      "Team Red===================\n"
     ]
    }
   ],
   "source": [
    "voting_result = list()\n",
    "for _ in range(num_of_voters):\n",
    "    c_num = randint (0,4)\n",
    "    voting_result.append(candidate[c_num])\n",
    "    \n",
    "draw_histogram(voting_result)"
   ]
  },
  {
   "cell_type": "markdown",
   "metadata": {},
   "source": [
    "### #Refactoring!!!"
   ]
  },
  {
   "cell_type": "code",
   "execution_count": 36,
   "metadata": {},
   "outputs": [],
   "source": [
    "from random import*\n",
    "from functools import*"
   ]
  },
  {
   "cell_type": "code",
   "execution_count": 37,
   "metadata": {},
   "outputs": [],
   "source": [
    "def cmd_histogram(data):\n",
    "    \n",
    "    #get_count = lambda result, key: {result[key]+= 1 if result.get(key) else result[key] =1}\n",
    "    #get_count = lambda reuslt, key:result[key]+1\n",
    "    \n",
    "    def get_count(result, key):\n",
    "        if result.get(key): result[key] += 1\n",
    "        else:               result[key] = 1\n",
    "        return result\n",
    "    \n",
    "    result_dict = reduce(get_count, data, {})\n",
    "    \n",
    "    for k, v in result_dict.items():\n",
    "        #print(k,v)\n",
    "        print(\"{k} {space}: {mark} {count}\".format(\n",
    "        k = k,\n",
    "        space = (7-len(k))*\"\",\n",
    "        mark = v*\"=\",\n",
    "        count = v\n",
    "        ))\n",
    "        \n",
    "    return result_dict"
   ]
  },
  {
   "cell_type": "code",
   "execution_count": 38,
   "metadata": {},
   "outputs": [
    {
     "name": "stdout",
     "output_type": "stream",
     "text": [
      "tiger : ============================================= 45\n",
      "monkey : ====================================== 38\n",
      "cow : ============================================ 44\n",
      "horse : ==================================================== 52\n",
      "dragon : ====================================== 38\n",
      "mouse : ================================================= 49\n",
      "snake : =================================== 35\n",
      "dog : ======================================= 39\n",
      "chicken : ================================================ 48\n",
      "sheep : ===================================== 37\n",
      "rabbit : =================================== 35\n",
      "pig : ======================================== 40\n"
     ]
    }
   ],
   "source": [
    "data_count = 500\n",
    "animal_data = ['쥐','소','호랑이','토끼','용','뱀','말','양','원숭이','닭','개','돼지',]\n",
    "animal_data = ['mouse','cow','tiger','rabbit','dragon','snake','horse','sheep','monkey','chicken','dog','pig']\n",
    "\n",
    "gen_data = list()\n",
    "for _ in range(data_count):\n",
    "    c_num = randint(0, len(animal_data)-1 )\n",
    "    gen_data.append(animal_data[c_num])\n",
    "    \n",
    "result_dict = cmd_histogram(gen_data)"
   ]
  },
  {
   "cell_type": "code",
   "execution_count": null,
   "metadata": {},
   "outputs": [],
   "source": []
  }
 ],
 "metadata": {
  "kernelspec": {
   "display_name": "Python 3",
   "language": "python",
   "name": "python3"
  },
  "language_info": {
   "codemirror_mode": {
    "name": "ipython",
    "version": 3
   },
   "file_extension": ".py",
   "mimetype": "text/x-python",
   "name": "python",
   "nbconvert_exporter": "python",
   "pygments_lexer": "ipython3",
   "version": "3.7.3"
  }
 },
 "nbformat": 4,
 "nbformat_minor": 2
}
