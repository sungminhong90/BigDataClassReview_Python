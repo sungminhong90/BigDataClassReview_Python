{
 "cells": [
  {
   "cell_type": "markdown",
   "metadata": {},
   "source": [
    "## JSON (JavaScript Object Notation)\n",
    "### 자바스크립트 객체 표기법\n",
    "\n",
    "- JSON (JavaScript Object Notation)은 경량의 DATA-교환 형식이다. \n",
    "\n",
    "- XML은 태그속에 데이타가 들어 있으므로 데이타를 사용하는게 조금 번거롭다. \n",
    "- JSON은 객체이므로 바로 꺼집어내어 사용이 가능하며, 또한 무겁지도 않다. \n",
    "\n",
    "- JSON은 두개의 구조를 기본으로 두고 있다.\n",
    "\n",
    "- 1) name/value 형태의 쌍으로 collection 타입. \n",
    "  - 다양한 언어들에서, 이는 object, record, struct(구조체), dictionary, hash table, 키가 있는 list, 또는 연상배열로서 실현 되었다. \n",
    "- 2) 값들의 순서화된 리스트. \n",
    "  - 대부분의 언어들에서, 이는 array, vector, list, 또는 sequence로서 실현 되었다.\n",
    "\n",
    "- 참조사이트 : http://www.json.org/"
   ]
  },
  {
   "cell_type": "markdown",
   "metadata": {},
   "source": [
    "### JSON 파일 읽어오기"
   ]
  },
  {
   "cell_type": "code",
   "execution_count": 2,
   "metadata": {},
   "outputs": [],
   "source": [
    "import json\n",
    "from pprint import pprint\n",
    "#pretty print...."
   ]
  },
  {
   "cell_type": "code",
   "execution_count": 3,
   "metadata": {},
   "outputs": [],
   "source": [
    "json_data = {\n",
    "    'firstname' : '길동',\n",
    "    'lastname'  : '홍',\n",
    "    'age'       : 20, \n",
    "    'country'   : '율도국'\n",
    "}"
   ]
  },
  {
   "cell_type": "code",
   "execution_count": 4,
   "metadata": {},
   "outputs": [
    {
     "name": "stdout",
     "output_type": "stream",
     "text": [
      "{\"firstname\": \"\\uae38\\ub3d9\", \"lastname\": \"\\ud64d\", \"age\": 20, \"country\": \"\\uc728\\ub3c4\\uad6d\"}\n"
     ]
    }
   ],
   "source": [
    "json_code = json.JSONEncoder().encode(json_data)\n",
    "print(json_code)"
   ]
  },
  {
   "cell_type": "code",
   "execution_count": 5,
   "metadata": {},
   "outputs": [
    {
     "name": "stdout",
     "output_type": "stream",
     "text": [
      "\"\\ud55c\\uae00\"\n"
     ]
    }
   ],
   "source": [
    "check = json.dumps('한글')\n",
    "print(check)"
   ]
  },
  {
   "cell_type": "code",
   "execution_count": 6,
   "metadata": {},
   "outputs": [
    {
     "name": "stdout",
     "output_type": "stream",
     "text": [
      "\"한글\"\n"
     ]
    }
   ],
   "source": [
    "check = json.dumps('한글',ensure_ascii = False)\n",
    "print(check)"
   ]
  },
  {
   "cell_type": "code",
   "execution_count": 7,
   "metadata": {},
   "outputs": [
    {
     "name": "stdout",
     "output_type": "stream",
     "text": [
      "{\"firstname\": \"길동\", \"lastname\": \"홍\", \"age\": 20, \"country\": \"율도국\"}\n"
     ]
    }
   ],
   "source": [
    "check= json.dumps(json_data, ensure_ascii = False)\n",
    "print(check)"
   ]
  },
  {
   "cell_type": "code",
   "execution_count": 8,
   "metadata": {},
   "outputs": [
    {
     "data": {
      "text/plain": [
       "{'firstname': '길동', 'lastname': '홍', 'age': 20, 'country': '율도국'}"
      ]
     },
     "execution_count": 8,
     "metadata": {},
     "output_type": "execute_result"
    }
   ],
   "source": [
    "json_code = json.JSONDecoder().decode(check)\n",
    "json_code"
   ]
  },
  {
   "cell_type": "code",
   "execution_count": 9,
   "metadata": {},
   "outputs": [
    {
     "data": {
      "text/plain": [
       "'율도국'"
      ]
     },
     "execution_count": 9,
     "metadata": {},
     "output_type": "execute_result"
    }
   ],
   "source": [
    "json_code['country']"
   ]
  },
  {
   "cell_type": "code",
   "execution_count": 10,
   "metadata": {},
   "outputs": [
    {
     "data": {
      "text/plain": [
       "'홍길동은 20살 이고, 율도국에 살고 있습니다.'"
      ]
     },
     "execution_count": 10,
     "metadata": {},
     "output_type": "execute_result"
    }
   ],
   "source": [
    "\"{}{}은 {}살 이고, {}에 살고 있습니다.\".format(\n",
    "    json_code['lastname'],\n",
    "    json_code['firstname'],\n",
    "    json_code['age'],\n",
    "    json_code['country'],\n",
    ")"
   ]
  },
  {
   "cell_type": "markdown",
   "metadata": {},
   "source": [
    "### JSON 코드 작성하기\n",
    "#### JSON 코드1\n",
    "- girlgroup.json \n",
    "────────────────────────────────────────────────── \n",
    "[ \"소녀시대\", \"애프터스쿨\", \"에이핑크\", \"걸스데이\", \"우주소녀\" ]\n",
    "\n",
    "#### 출력 : 내가 좋아하는 걸그룹은 에이핑크와 우주소녀입니다."
   ]
  },
  {
   "cell_type": "code",
   "execution_count": 14,
   "metadata": {},
   "outputs": [],
   "source": [
    "with open('data/girlgroup.json', 'w') as fp:\n",
    "    data = '[ \"소녀시대\", \"앱터스쿨\", \"에이핑크\", \"걸스데이\", \"우주소녀\" ]'\n",
    "    fp.write(data)"
   ]
  },
  {
   "cell_type": "code",
   "execution_count": 15,
   "metadata": {},
   "outputs": [],
   "source": [
    "with open('data/girlgroup.json') as data_file:\n",
    "    girlgroup = json.load(data_file)"
   ]
  },
  {
   "cell_type": "code",
   "execution_count": 16,
   "metadata": {},
   "outputs": [
    {
     "data": {
      "text/plain": [
       "['소녀시대', '앱터스쿨', '에이핑크', '걸스데이', '우주소녀']"
      ]
     },
     "execution_count": 16,
     "metadata": {},
     "output_type": "execute_result"
    }
   ],
   "source": [
    "girlgroup"
   ]
  },
  {
   "cell_type": "code",
   "execution_count": 17,
   "metadata": {},
   "outputs": [
    {
     "data": {
      "text/plain": [
       "'내가 좋아하는 걸그룹은 앱터스쿨와 우주소녀입니다.'"
      ]
     },
     "execution_count": 17,
     "metadata": {},
     "output_type": "execute_result"
    }
   ],
   "source": [
    "'내가 좋아하는 걸그룹은 {}와 {}입니다.'.format(\n",
    "    girlgroup[1], girlgroup[4]\n",
    ")"
   ]
  },
  {
   "cell_type": "markdown",
   "metadata": {},
   "source": [
    "#### JSON 코드2\n",
    "- member.json \n",
    "────────────────────────────────────────────────── \n",
    "{ \n",
    "    \"name\" : \"홍길동\", \n",
    "    \"age\" : 20, \n",
    "    \"addr\" : { \n",
    "        \"city\" : \"서울시\", \n",
    "        \"dong\" : \"염창동\" \n",
    "    } \n",
    "}\n",
    "\n",
    "#### 출력 : 홍길동은 20살 이고, 서울시 염창동에 살고 있습니다."
   ]
  },
  {
   "cell_type": "code",
   "execution_count": 19,
   "metadata": {},
   "outputs": [
    {
     "name": "stdout",
     "output_type": "stream",
     "text": [
      "Writing data/member2.json\n"
     ]
    }
   ],
   "source": [
    "%%writefile data/member2.json\n",
    " {\n",
    "        \"name\" : \"홍길동\",\n",
    "        \"age\"  : 20,\n",
    "        \"addr\" : {\n",
    "            \"city\"  : \"서울시\",\n",
    "            \"dong\"  : \"염창동\"\n",
    "        }\n",
    "    }"
   ]
  },
  {
   "cell_type": "code",
   "execution_count": 20,
   "metadata": {},
   "outputs": [
    {
     "name": "stdout",
     "output_type": "stream",
     "text": [
      "{'name': '홍길동', 'age': 20, 'addr': {'city': '서울시', 'dong': '염창동'}}\n"
     ]
    }
   ],
   "source": [
    "with open('data/member2.json', encoding = 'utf-8') as data_file:\n",
    "    member = json.load(data_file)\n",
    "    print(member)"
   ]
  },
  {
   "cell_type": "code",
   "execution_count": 21,
   "metadata": {},
   "outputs": [],
   "source": [
    "data = '''\n",
    " {\n",
    "        \"name\" : \"홍길동\",\n",
    "        \"age\"  : 20,\n",
    "        \"addr\" : {\n",
    "            \"city\"  : \"서울시\",\n",
    "            \"dong\"  : \"염창동\"\n",
    "        }\n",
    "    }\n",
    "'''\n",
    "\n",
    "with open('data/member.json', 'w') as fp:\n",
    "    fp.write(data)"
   ]
  },
  {
   "cell_type": "code",
   "execution_count": 22,
   "metadata": {},
   "outputs": [
    {
     "name": "stdout",
     "output_type": "stream",
     "text": [
      "{'name': '홍길동', 'age': 20, 'addr': {'city': '서울시', 'dong': '염창동'}}\n"
     ]
    }
   ],
   "source": [
    "with open ('data/member.json') as data_file:\n",
    "    member = json.load(data_file)\n",
    "    print(member)"
   ]
  },
  {
   "cell_type": "code",
   "execution_count": 23,
   "metadata": {},
   "outputs": [
    {
     "data": {
      "text/plain": [
       "'홍길동은 20살 이고, 서울시 염창동에 살고 있습니다.'"
      ]
     },
     "execution_count": 23,
     "metadata": {},
     "output_type": "execute_result"
    }
   ],
   "source": [
    "\"{}은 {}살 이고, {} {}에 살고 있습니다.\".format(\n",
    "    member[\"name\"],\n",
    "    member[\"age\"],\n",
    "    member[\"addr\"][\"city\"], \n",
    "    member[\"addr\"][\"dong\"], \n",
    ")"
   ]
  },
  {
   "cell_type": "markdown",
   "metadata": {},
   "source": [
    "#### JSON 코드3 -아래 예시는 4차원\n",
    "- person.json \n",
    "────────────────────────────────────────────────── \n",
    "{ \n",
    "    \"name\" : \"홍길동\", \n",
    "    \"dog\" : { \n",
    "        \"name\" : \"순둥이\", \n",
    "        \"toys\" : [ \n",
    "            { \"name\" : \"뽀로로\" }, \n",
    "            { \"name\" : \"토마스\" } \n",
    "        ] \n",
    "    } \n",
    "}\n",
    "\n",
    "#### 출력 : 홍길동의 개 순둥이의 장난감은 뽀로로, 토마스입니다."
   ]
  },
  {
   "cell_type": "code",
   "execution_count": 31,
   "metadata": {},
   "outputs": [],
   "source": [
    "data = '''\n",
    "{\n",
    "    \"name\" : \"홍길동\",\n",
    "    \"dog\"  : {\n",
    "        \"name\" : \"순둥이\",\n",
    "        \"toys\" : [\n",
    "                { \"name\" : \"뽀로로\" },\n",
    "                { \"name\" : \"토마스\" }\n",
    "        ]\n",
    "    }\n",
    "}\n",
    "'''\n",
    "\n",
    "with open('data/person.json','w') as fp:\n",
    "    fp.write(data)"
   ]
  },
  {
   "cell_type": "code",
   "execution_count": 32,
   "metadata": {},
   "outputs": [
    {
     "name": "stdout",
     "output_type": "stream",
     "text": [
      "{'name': '홍길동', 'dog': {'name': '순둥이', 'toys': [{'name': '뽀로로'}, {'name': '토마스'}]}}\n"
     ]
    }
   ],
   "source": [
    "with open('data/person.json') as data_file:\n",
    "    person = json.load(data_file)\n",
    "print(person)"
   ]
  },
  {
   "cell_type": "markdown",
   "metadata": {},
   "source": [
    "#### 아래와 같이 출력하는 JSON 코드로 작성하세요.\n",
    "##### 출력 : 홍길동의 개 순둥이의 장난감은 뽀로로, 토마스입니다.\n",
    "\n",
    "#### JSON코드로 완성하기\n",
    "#### \"{}의 개 {}의 장난감은 {}, {}입니다.\".format( )"
   ]
  },
  {
   "cell_type": "code",
   "execution_count": 42,
   "metadata": {},
   "outputs": [
    {
     "data": {
      "text/plain": [
       "'홍길동의 개 순둥이의 장난감은 뽀로로, 토마스입니다.'"
      ]
     },
     "execution_count": 42,
     "metadata": {},
     "output_type": "execute_result"
    }
   ],
   "source": [
    "\"{}의 개 {}의 장난감은 {}, {}입니다.\".format(\n",
    "    person[\"name\"],\n",
    "    person[\"dog\"][\"name\"],\n",
    "    person[\"dog\"][\"toys\"][0]['name'],\n",
    "    person[\"dog\"][\"toys\"][1]['name'],\n",
    ")"
   ]
  },
  {
   "cell_type": "code",
   "execution_count": null,
   "metadata": {},
   "outputs": [],
   "source": []
  }
 ],
 "metadata": {
  "kernelspec": {
   "display_name": "Python 3",
   "language": "python",
   "name": "python3"
  },
  "language_info": {
   "codemirror_mode": {
    "name": "ipython",
    "version": 3
   },
   "file_extension": ".py",
   "mimetype": "text/x-python",
   "name": "python",
   "nbconvert_exporter": "python",
   "pygments_lexer": "ipython3",
   "version": "3.7.3"
  }
 },
 "nbformat": 4,
 "nbformat_minor": 2
}
