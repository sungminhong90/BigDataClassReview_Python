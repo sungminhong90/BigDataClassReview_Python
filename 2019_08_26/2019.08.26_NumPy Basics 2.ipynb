{
 "cells": [
  {
   "cell_type": "markdown",
   "metadata": {},
   "source": [
    "## NumPy Basics 2"
   ]
  },
  {
   "cell_type": "code",
   "execution_count": 1,
   "metadata": {},
   "outputs": [],
   "source": [
    "# from images import bigpycraft_bda as bpc\n",
    "from IPython.display import Image\n",
    "from numpy.random import randn\n",
    "import numpy as np"
   ]
  },
  {
   "cell_type": "markdown",
   "metadata": {},
   "source": [
    "### 2. Universal Functions: Fast element-wise array functions\n",
    "\n",
    "#### 유니버설 함수\n",
    "- ufunc라고 불리는 유니버설 함수는 ndarray 안에 있는 데이터 원소별로 연산을 수행하는 함수다.\n",
    "- 하나 이상의 스칼라 값을 받아서 하나 이상의 스칼라 결과 값을 반환하는 간단한 함수를 고속으로 수행할 수 있는 벡터화된 래퍼 함수\n",
    "- 많은 ufunc는 sqrt나 exp 같은 간단한 변형을 전체 원소에 적용할 수 있다.\n",
    "\n",
    "#### np.random\n",
    "- random.randint 와 np.random.randint : 모두 (시작, n-1) 사이의 랜덤숫자 1개 뽑아내기\n",
    "- np.random.rand(m, n) : 0~1의 균일분포 표준정규분포 난수를 matrix array(m, n) 생성\n",
    "- np.random.randn(m, n) : 평균0, 표준편차1의 가우시안 표준정규분포 난수를 matrix array(m, n) 생성"
   ]
  },
  {
   "cell_type": "code",
   "execution_count": 2,
   "metadata": {},
   "outputs": [
    {
     "data": {
      "text/plain": [
       "array([0, 1, 2, 3, 4, 5, 6, 7, 8, 9])"
      ]
     },
     "execution_count": 2,
     "metadata": {},
     "output_type": "execute_result"
    }
   ],
   "source": [
    "arr = np.arange(10)\n",
    "arr"
   ]
  },
  {
   "cell_type": "code",
   "execution_count": 3,
   "metadata": {},
   "outputs": [
    {
     "data": {
      "text/plain": [
       "array([0.        , 1.        , 1.41421356, 1.73205081, 2.        ,\n",
       "       2.23606798, 2.44948974, 2.64575131, 2.82842712, 3.        ])"
      ]
     },
     "execution_count": 3,
     "metadata": {},
     "output_type": "execute_result"
    }
   ],
   "source": [
    "np.sqrt(arr)"
   ]
  },
  {
   "cell_type": "code",
   "execution_count": 4,
   "metadata": {},
   "outputs": [
    {
     "data": {
      "text/plain": [
       "array([1.00000000e+00, 2.71828183e+00, 7.38905610e+00, 2.00855369e+01,\n",
       "       5.45981500e+01, 1.48413159e+02, 4.03428793e+02, 1.09663316e+03,\n",
       "       2.98095799e+03, 8.10308393e+03])"
      ]
     },
     "execution_count": 4,
     "metadata": {},
     "output_type": "execute_result"
    }
   ],
   "source": [
    "np.exp(arr)"
   ]
  },
  {
   "cell_type": "code",
   "execution_count": 5,
   "metadata": {},
   "outputs": [
    {
     "data": {
      "text/plain": [
       "array([-0.18604857, -0.79845024,  0.91668238,  0.08122074,  0.03935205,\n",
       "        0.27018509,  1.68279563, -0.65033845])"
      ]
     },
     "execution_count": 5,
     "metadata": {},
     "output_type": "execute_result"
    }
   ],
   "source": [
    "x = randn(8)\n",
    "x"
   ]
  },
  {
   "cell_type": "code",
   "execution_count": 6,
   "metadata": {},
   "outputs": [
    {
     "data": {
      "text/plain": [
       "array([-0.13035372,  0.37352433,  1.45615843,  0.02480627,  0.35132236,\n",
       "        0.039181  ,  1.74085417, -0.46445157])"
      ]
     },
     "execution_count": 6,
     "metadata": {},
     "output_type": "execute_result"
    }
   ],
   "source": [
    "y = randn(8)\n",
    "y"
   ]
  },
  {
   "cell_type": "code",
   "execution_count": 7,
   "metadata": {},
   "outputs": [
    {
     "data": {
      "text/plain": [
       "array([-0.13035372,  0.37352433,  1.45615843,  0.08122074,  0.35132236,\n",
       "        0.27018509,  1.74085417, -0.46445157])"
      ]
     },
     "execution_count": 7,
     "metadata": {},
     "output_type": "execute_result"
    }
   ],
   "source": [
    "np.maximum(x,y) #element-wise maximum"
   ]
  },
  {
   "cell_type": "code",
   "execution_count": 8,
   "metadata": {},
   "outputs": [
    {
     "data": {
      "text/plain": [
       "array([ -2.27750674,  -0.98105402,   0.76112975,   1.941429  ,\n",
       "        11.70492623, -10.2786755 ,  -2.82761849])"
      ]
     },
     "execution_count": 8,
     "metadata": {},
     "output_type": "execute_result"
    }
   ],
   "source": [
    "arr = randn(7)*5\n",
    "arr"
   ]
  },
  {
   "cell_type": "markdown",
   "metadata": {},
   "source": [
    "- modf는 실수파트와 정수파트를 함께 반환"
   ]
  },
  {
   "cell_type": "code",
   "execution_count": 9,
   "metadata": {},
   "outputs": [
    {
     "data": {
      "text/plain": [
       "(array([-0.27750674, -0.98105402,  0.76112975,  0.941429  ,  0.70492623,\n",
       "        -0.2786755 , -0.82761849]),\n",
       " array([ -2.,  -0.,   0.,   1.,  11., -10.,  -2.]))"
      ]
     },
     "execution_count": 9,
     "metadata": {},
     "output_type": "execute_result"
    }
   ],
   "source": [
    "np.modf(arr)"
   ]
  },
  {
   "cell_type": "markdown",
   "metadata": {},
   "source": [
    "### 3. Data processing using arrays\n",
    "#### 배열을 사용한 데이터 처리\n",
    "- NupPy 배열을 사용하면 반복문을 작성하지 않고 간결한 배열연산을 통해 많은 종류의 데이터 처리 작업 가능\n",
    "- 벡터화 : 배열연산을 사용해서 반복문을 명시적으로 제거하는 기법\n",
    "- 일반적으로 벡터화된 배열에 대한 산술연산은 순수 파이썬 연산에 비애 2~3배, 많게는 수백배까지 빠름\n",
    "\n",
    "#### Eg. 그리드에서 sqrt(x^2 + y^2) 계산 :: np.meshgrid 함수는 2개의 1차원 배열을 받아 가능한 한 모든 (x, y)짝을 만들 수 있는 2차원 배열 2개를 반환"
   ]
  },
  {
   "cell_type": "code",
   "execution_count": 10,
   "metadata": {},
   "outputs": [
    {
     "data": {
      "text/plain": [
       "array([-5.0000000e+00, -4.9900000e+00, -4.9800000e+00, -4.9700000e+00,\n",
       "       -4.9600000e+00, -4.9500000e+00, -4.9400000e+00, -4.9300000e+00,\n",
       "       -4.9200000e+00, -4.9100000e+00, -4.9000000e+00, -4.8900000e+00,\n",
       "       -4.8800000e+00, -4.8700000e+00, -4.8600000e+00, -4.8500000e+00,\n",
       "       -4.8400000e+00, -4.8300000e+00, -4.8200000e+00, -4.8100000e+00,\n",
       "       -4.8000000e+00, -4.7900000e+00, -4.7800000e+00, -4.7700000e+00,\n",
       "       -4.7600000e+00, -4.7500000e+00, -4.7400000e+00, -4.7300000e+00,\n",
       "       -4.7200000e+00, -4.7100000e+00, -4.7000000e+00, -4.6900000e+00,\n",
       "       -4.6800000e+00, -4.6700000e+00, -4.6600000e+00, -4.6500000e+00,\n",
       "       -4.6400000e+00, -4.6300000e+00, -4.6200000e+00, -4.6100000e+00,\n",
       "       -4.6000000e+00, -4.5900000e+00, -4.5800000e+00, -4.5700000e+00,\n",
       "       -4.5600000e+00, -4.5500000e+00, -4.5400000e+00, -4.5300000e+00,\n",
       "       -4.5200000e+00, -4.5100000e+00, -4.5000000e+00, -4.4900000e+00,\n",
       "       -4.4800000e+00, -4.4700000e+00, -4.4600000e+00, -4.4500000e+00,\n",
       "       -4.4400000e+00, -4.4300000e+00, -4.4200000e+00, -4.4100000e+00,\n",
       "       -4.4000000e+00, -4.3900000e+00, -4.3800000e+00, -4.3700000e+00,\n",
       "       -4.3600000e+00, -4.3500000e+00, -4.3400000e+00, -4.3300000e+00,\n",
       "       -4.3200000e+00, -4.3100000e+00, -4.3000000e+00, -4.2900000e+00,\n",
       "       -4.2800000e+00, -4.2700000e+00, -4.2600000e+00, -4.2500000e+00,\n",
       "       -4.2400000e+00, -4.2300000e+00, -4.2200000e+00, -4.2100000e+00,\n",
       "       -4.2000000e+00, -4.1900000e+00, -4.1800000e+00, -4.1700000e+00,\n",
       "       -4.1600000e+00, -4.1500000e+00, -4.1400000e+00, -4.1300000e+00,\n",
       "       -4.1200000e+00, -4.1100000e+00, -4.1000000e+00, -4.0900000e+00,\n",
       "       -4.0800000e+00, -4.0700000e+00, -4.0600000e+00, -4.0500000e+00,\n",
       "       -4.0400000e+00, -4.0300000e+00, -4.0200000e+00, -4.0100000e+00,\n",
       "       -4.0000000e+00, -3.9900000e+00, -3.9800000e+00, -3.9700000e+00,\n",
       "       -3.9600000e+00, -3.9500000e+00, -3.9400000e+00, -3.9300000e+00,\n",
       "       -3.9200000e+00, -3.9100000e+00, -3.9000000e+00, -3.8900000e+00,\n",
       "       -3.8800000e+00, -3.8700000e+00, -3.8600000e+00, -3.8500000e+00,\n",
       "       -3.8400000e+00, -3.8300000e+00, -3.8200000e+00, -3.8100000e+00,\n",
       "       -3.8000000e+00, -3.7900000e+00, -3.7800000e+00, -3.7700000e+00,\n",
       "       -3.7600000e+00, -3.7500000e+00, -3.7400000e+00, -3.7300000e+00,\n",
       "       -3.7200000e+00, -3.7100000e+00, -3.7000000e+00, -3.6900000e+00,\n",
       "       -3.6800000e+00, -3.6700000e+00, -3.6600000e+00, -3.6500000e+00,\n",
       "       -3.6400000e+00, -3.6300000e+00, -3.6200000e+00, -3.6100000e+00,\n",
       "       -3.6000000e+00, -3.5900000e+00, -3.5800000e+00, -3.5700000e+00,\n",
       "       -3.5600000e+00, -3.5500000e+00, -3.5400000e+00, -3.5300000e+00,\n",
       "       -3.5200000e+00, -3.5100000e+00, -3.5000000e+00, -3.4900000e+00,\n",
       "       -3.4800000e+00, -3.4700000e+00, -3.4600000e+00, -3.4500000e+00,\n",
       "       -3.4400000e+00, -3.4300000e+00, -3.4200000e+00, -3.4100000e+00,\n",
       "       -3.4000000e+00, -3.3900000e+00, -3.3800000e+00, -3.3700000e+00,\n",
       "       -3.3600000e+00, -3.3500000e+00, -3.3400000e+00, -3.3300000e+00,\n",
       "       -3.3200000e+00, -3.3100000e+00, -3.3000000e+00, -3.2900000e+00,\n",
       "       -3.2800000e+00, -3.2700000e+00, -3.2600000e+00, -3.2500000e+00,\n",
       "       -3.2400000e+00, -3.2300000e+00, -3.2200000e+00, -3.2100000e+00,\n",
       "       -3.2000000e+00, -3.1900000e+00, -3.1800000e+00, -3.1700000e+00,\n",
       "       -3.1600000e+00, -3.1500000e+00, -3.1400000e+00, -3.1300000e+00,\n",
       "       -3.1200000e+00, -3.1100000e+00, -3.1000000e+00, -3.0900000e+00,\n",
       "       -3.0800000e+00, -3.0700000e+00, -3.0600000e+00, -3.0500000e+00,\n",
       "       -3.0400000e+00, -3.0300000e+00, -3.0200000e+00, -3.0100000e+00,\n",
       "       -3.0000000e+00, -2.9900000e+00, -2.9800000e+00, -2.9700000e+00,\n",
       "       -2.9600000e+00, -2.9500000e+00, -2.9400000e+00, -2.9300000e+00,\n",
       "       -2.9200000e+00, -2.9100000e+00, -2.9000000e+00, -2.8900000e+00,\n",
       "       -2.8800000e+00, -2.8700000e+00, -2.8600000e+00, -2.8500000e+00,\n",
       "       -2.8400000e+00, -2.8300000e+00, -2.8200000e+00, -2.8100000e+00,\n",
       "       -2.8000000e+00, -2.7900000e+00, -2.7800000e+00, -2.7700000e+00,\n",
       "       -2.7600000e+00, -2.7500000e+00, -2.7400000e+00, -2.7300000e+00,\n",
       "       -2.7200000e+00, -2.7100000e+00, -2.7000000e+00, -2.6900000e+00,\n",
       "       -2.6800000e+00, -2.6700000e+00, -2.6600000e+00, -2.6500000e+00,\n",
       "       -2.6400000e+00, -2.6300000e+00, -2.6200000e+00, -2.6100000e+00,\n",
       "       -2.6000000e+00, -2.5900000e+00, -2.5800000e+00, -2.5700000e+00,\n",
       "       -2.5600000e+00, -2.5500000e+00, -2.5400000e+00, -2.5300000e+00,\n",
       "       -2.5200000e+00, -2.5100000e+00, -2.5000000e+00, -2.4900000e+00,\n",
       "       -2.4800000e+00, -2.4700000e+00, -2.4600000e+00, -2.4500000e+00,\n",
       "       -2.4400000e+00, -2.4300000e+00, -2.4200000e+00, -2.4100000e+00,\n",
       "       -2.4000000e+00, -2.3900000e+00, -2.3800000e+00, -2.3700000e+00,\n",
       "       -2.3600000e+00, -2.3500000e+00, -2.3400000e+00, -2.3300000e+00,\n",
       "       -2.3200000e+00, -2.3100000e+00, -2.3000000e+00, -2.2900000e+00,\n",
       "       -2.2800000e+00, -2.2700000e+00, -2.2600000e+00, -2.2500000e+00,\n",
       "       -2.2400000e+00, -2.2300000e+00, -2.2200000e+00, -2.2100000e+00,\n",
       "       -2.2000000e+00, -2.1900000e+00, -2.1800000e+00, -2.1700000e+00,\n",
       "       -2.1600000e+00, -2.1500000e+00, -2.1400000e+00, -2.1300000e+00,\n",
       "       -2.1200000e+00, -2.1100000e+00, -2.1000000e+00, -2.0900000e+00,\n",
       "       -2.0800000e+00, -2.0700000e+00, -2.0600000e+00, -2.0500000e+00,\n",
       "       -2.0400000e+00, -2.0300000e+00, -2.0200000e+00, -2.0100000e+00,\n",
       "       -2.0000000e+00, -1.9900000e+00, -1.9800000e+00, -1.9700000e+00,\n",
       "       -1.9600000e+00, -1.9500000e+00, -1.9400000e+00, -1.9300000e+00,\n",
       "       -1.9200000e+00, -1.9100000e+00, -1.9000000e+00, -1.8900000e+00,\n",
       "       -1.8800000e+00, -1.8700000e+00, -1.8600000e+00, -1.8500000e+00,\n",
       "       -1.8400000e+00, -1.8300000e+00, -1.8200000e+00, -1.8100000e+00,\n",
       "       -1.8000000e+00, -1.7900000e+00, -1.7800000e+00, -1.7700000e+00,\n",
       "       -1.7600000e+00, -1.7500000e+00, -1.7400000e+00, -1.7300000e+00,\n",
       "       -1.7200000e+00, -1.7100000e+00, -1.7000000e+00, -1.6900000e+00,\n",
       "       -1.6800000e+00, -1.6700000e+00, -1.6600000e+00, -1.6500000e+00,\n",
       "       -1.6400000e+00, -1.6300000e+00, -1.6200000e+00, -1.6100000e+00,\n",
       "       -1.6000000e+00, -1.5900000e+00, -1.5800000e+00, -1.5700000e+00,\n",
       "       -1.5600000e+00, -1.5500000e+00, -1.5400000e+00, -1.5300000e+00,\n",
       "       -1.5200000e+00, -1.5100000e+00, -1.5000000e+00, -1.4900000e+00,\n",
       "       -1.4800000e+00, -1.4700000e+00, -1.4600000e+00, -1.4500000e+00,\n",
       "       -1.4400000e+00, -1.4300000e+00, -1.4200000e+00, -1.4100000e+00,\n",
       "       -1.4000000e+00, -1.3900000e+00, -1.3800000e+00, -1.3700000e+00,\n",
       "       -1.3600000e+00, -1.3500000e+00, -1.3400000e+00, -1.3300000e+00,\n",
       "       -1.3200000e+00, -1.3100000e+00, -1.3000000e+00, -1.2900000e+00,\n",
       "       -1.2800000e+00, -1.2700000e+00, -1.2600000e+00, -1.2500000e+00,\n",
       "       -1.2400000e+00, -1.2300000e+00, -1.2200000e+00, -1.2100000e+00,\n",
       "       -1.2000000e+00, -1.1900000e+00, -1.1800000e+00, -1.1700000e+00,\n",
       "       -1.1600000e+00, -1.1500000e+00, -1.1400000e+00, -1.1300000e+00,\n",
       "       -1.1200000e+00, -1.1100000e+00, -1.1000000e+00, -1.0900000e+00,\n",
       "       -1.0800000e+00, -1.0700000e+00, -1.0600000e+00, -1.0500000e+00,\n",
       "       -1.0400000e+00, -1.0300000e+00, -1.0200000e+00, -1.0100000e+00,\n",
       "       -1.0000000e+00, -9.9000000e-01, -9.8000000e-01, -9.7000000e-01,\n",
       "       -9.6000000e-01, -9.5000000e-01, -9.4000000e-01, -9.3000000e-01,\n",
       "       -9.2000000e-01, -9.1000000e-01, -9.0000000e-01, -8.9000000e-01,\n",
       "       -8.8000000e-01, -8.7000000e-01, -8.6000000e-01, -8.5000000e-01,\n",
       "       -8.4000000e-01, -8.3000000e-01, -8.2000000e-01, -8.1000000e-01,\n",
       "       -8.0000000e-01, -7.9000000e-01, -7.8000000e-01, -7.7000000e-01,\n",
       "       -7.6000000e-01, -7.5000000e-01, -7.4000000e-01, -7.3000000e-01,\n",
       "       -7.2000000e-01, -7.1000000e-01, -7.0000000e-01, -6.9000000e-01,\n",
       "       -6.8000000e-01, -6.7000000e-01, -6.6000000e-01, -6.5000000e-01,\n",
       "       -6.4000000e-01, -6.3000000e-01, -6.2000000e-01, -6.1000000e-01,\n",
       "       -6.0000000e-01, -5.9000000e-01, -5.8000000e-01, -5.7000000e-01,\n",
       "       -5.6000000e-01, -5.5000000e-01, -5.4000000e-01, -5.3000000e-01,\n",
       "       -5.2000000e-01, -5.1000000e-01, -5.0000000e-01, -4.9000000e-01,\n",
       "       -4.8000000e-01, -4.7000000e-01, -4.6000000e-01, -4.5000000e-01,\n",
       "       -4.4000000e-01, -4.3000000e-01, -4.2000000e-01, -4.1000000e-01,\n",
       "       -4.0000000e-01, -3.9000000e-01, -3.8000000e-01, -3.7000000e-01,\n",
       "       -3.6000000e-01, -3.5000000e-01, -3.4000000e-01, -3.3000000e-01,\n",
       "       -3.2000000e-01, -3.1000000e-01, -3.0000000e-01, -2.9000000e-01,\n",
       "       -2.8000000e-01, -2.7000000e-01, -2.6000000e-01, -2.5000000e-01,\n",
       "       -2.4000000e-01, -2.3000000e-01, -2.2000000e-01, -2.1000000e-01,\n",
       "       -2.0000000e-01, -1.9000000e-01, -1.8000000e-01, -1.7000000e-01,\n",
       "       -1.6000000e-01, -1.5000000e-01, -1.4000000e-01, -1.3000000e-01,\n",
       "       -1.2000000e-01, -1.1000000e-01, -1.0000000e-01, -9.0000000e-02,\n",
       "       -8.0000000e-02, -7.0000000e-02, -6.0000000e-02, -5.0000000e-02,\n",
       "       -4.0000000e-02, -3.0000000e-02, -2.0000000e-02, -1.0000000e-02,\n",
       "       -1.0658141e-13,  1.0000000e-02,  2.0000000e-02,  3.0000000e-02,\n",
       "        4.0000000e-02,  5.0000000e-02,  6.0000000e-02,  7.0000000e-02,\n",
       "        8.0000000e-02,  9.0000000e-02,  1.0000000e-01,  1.1000000e-01,\n",
       "        1.2000000e-01,  1.3000000e-01,  1.4000000e-01,  1.5000000e-01,\n",
       "        1.6000000e-01,  1.7000000e-01,  1.8000000e-01,  1.9000000e-01,\n",
       "        2.0000000e-01,  2.1000000e-01,  2.2000000e-01,  2.3000000e-01,\n",
       "        2.4000000e-01,  2.5000000e-01,  2.6000000e-01,  2.7000000e-01,\n",
       "        2.8000000e-01,  2.9000000e-01,  3.0000000e-01,  3.1000000e-01,\n",
       "        3.2000000e-01,  3.3000000e-01,  3.4000000e-01,  3.5000000e-01,\n",
       "        3.6000000e-01,  3.7000000e-01,  3.8000000e-01,  3.9000000e-01,\n",
       "        4.0000000e-01,  4.1000000e-01,  4.2000000e-01,  4.3000000e-01,\n",
       "        4.4000000e-01,  4.5000000e-01,  4.6000000e-01,  4.7000000e-01,\n",
       "        4.8000000e-01,  4.9000000e-01,  5.0000000e-01,  5.1000000e-01,\n",
       "        5.2000000e-01,  5.3000000e-01,  5.4000000e-01,  5.5000000e-01,\n",
       "        5.6000000e-01,  5.7000000e-01,  5.8000000e-01,  5.9000000e-01,\n",
       "        6.0000000e-01,  6.1000000e-01,  6.2000000e-01,  6.3000000e-01,\n",
       "        6.4000000e-01,  6.5000000e-01,  6.6000000e-01,  6.7000000e-01,\n",
       "        6.8000000e-01,  6.9000000e-01,  7.0000000e-01,  7.1000000e-01,\n",
       "        7.2000000e-01,  7.3000000e-01,  7.4000000e-01,  7.5000000e-01,\n",
       "        7.6000000e-01,  7.7000000e-01,  7.8000000e-01,  7.9000000e-01,\n",
       "        8.0000000e-01,  8.1000000e-01,  8.2000000e-01,  8.3000000e-01,\n",
       "        8.4000000e-01,  8.5000000e-01,  8.6000000e-01,  8.7000000e-01,\n",
       "        8.8000000e-01,  8.9000000e-01,  9.0000000e-01,  9.1000000e-01,\n",
       "        9.2000000e-01,  9.3000000e-01,  9.4000000e-01,  9.5000000e-01,\n",
       "        9.6000000e-01,  9.7000000e-01,  9.8000000e-01,  9.9000000e-01,\n",
       "        1.0000000e+00,  1.0100000e+00,  1.0200000e+00,  1.0300000e+00,\n",
       "        1.0400000e+00,  1.0500000e+00,  1.0600000e+00,  1.0700000e+00,\n",
       "        1.0800000e+00,  1.0900000e+00,  1.1000000e+00,  1.1100000e+00,\n",
       "        1.1200000e+00,  1.1300000e+00,  1.1400000e+00,  1.1500000e+00,\n",
       "        1.1600000e+00,  1.1700000e+00,  1.1800000e+00,  1.1900000e+00,\n",
       "        1.2000000e+00,  1.2100000e+00,  1.2200000e+00,  1.2300000e+00,\n",
       "        1.2400000e+00,  1.2500000e+00,  1.2600000e+00,  1.2700000e+00,\n",
       "        1.2800000e+00,  1.2900000e+00,  1.3000000e+00,  1.3100000e+00,\n",
       "        1.3200000e+00,  1.3300000e+00,  1.3400000e+00,  1.3500000e+00,\n",
       "        1.3600000e+00,  1.3700000e+00,  1.3800000e+00,  1.3900000e+00,\n",
       "        1.4000000e+00,  1.4100000e+00,  1.4200000e+00,  1.4300000e+00,\n",
       "        1.4400000e+00,  1.4500000e+00,  1.4600000e+00,  1.4700000e+00,\n",
       "        1.4800000e+00,  1.4900000e+00,  1.5000000e+00,  1.5100000e+00,\n",
       "        1.5200000e+00,  1.5300000e+00,  1.5400000e+00,  1.5500000e+00,\n",
       "        1.5600000e+00,  1.5700000e+00,  1.5800000e+00,  1.5900000e+00,\n",
       "        1.6000000e+00,  1.6100000e+00,  1.6200000e+00,  1.6300000e+00,\n",
       "        1.6400000e+00,  1.6500000e+00,  1.6600000e+00,  1.6700000e+00,\n",
       "        1.6800000e+00,  1.6900000e+00,  1.7000000e+00,  1.7100000e+00,\n",
       "        1.7200000e+00,  1.7300000e+00,  1.7400000e+00,  1.7500000e+00,\n",
       "        1.7600000e+00,  1.7700000e+00,  1.7800000e+00,  1.7900000e+00,\n",
       "        1.8000000e+00,  1.8100000e+00,  1.8200000e+00,  1.8300000e+00,\n",
       "        1.8400000e+00,  1.8500000e+00,  1.8600000e+00,  1.8700000e+00,\n",
       "        1.8800000e+00,  1.8900000e+00,  1.9000000e+00,  1.9100000e+00,\n",
       "        1.9200000e+00,  1.9300000e+00,  1.9400000e+00,  1.9500000e+00,\n",
       "        1.9600000e+00,  1.9700000e+00,  1.9800000e+00,  1.9900000e+00,\n",
       "        2.0000000e+00,  2.0100000e+00,  2.0200000e+00,  2.0300000e+00,\n",
       "        2.0400000e+00,  2.0500000e+00,  2.0600000e+00,  2.0700000e+00,\n",
       "        2.0800000e+00,  2.0900000e+00,  2.1000000e+00,  2.1100000e+00,\n",
       "        2.1200000e+00,  2.1300000e+00,  2.1400000e+00,  2.1500000e+00,\n",
       "        2.1600000e+00,  2.1700000e+00,  2.1800000e+00,  2.1900000e+00,\n",
       "        2.2000000e+00,  2.2100000e+00,  2.2200000e+00,  2.2300000e+00,\n",
       "        2.2400000e+00,  2.2500000e+00,  2.2600000e+00,  2.2700000e+00,\n",
       "        2.2800000e+00,  2.2900000e+00,  2.3000000e+00,  2.3100000e+00,\n",
       "        2.3200000e+00,  2.3300000e+00,  2.3400000e+00,  2.3500000e+00,\n",
       "        2.3600000e+00,  2.3700000e+00,  2.3800000e+00,  2.3900000e+00,\n",
       "        2.4000000e+00,  2.4100000e+00,  2.4200000e+00,  2.4300000e+00,\n",
       "        2.4400000e+00,  2.4500000e+00,  2.4600000e+00,  2.4700000e+00,\n",
       "        2.4800000e+00,  2.4900000e+00,  2.5000000e+00,  2.5100000e+00,\n",
       "        2.5200000e+00,  2.5300000e+00,  2.5400000e+00,  2.5500000e+00,\n",
       "        2.5600000e+00,  2.5700000e+00,  2.5800000e+00,  2.5900000e+00,\n",
       "        2.6000000e+00,  2.6100000e+00,  2.6200000e+00,  2.6300000e+00,\n",
       "        2.6400000e+00,  2.6500000e+00,  2.6600000e+00,  2.6700000e+00,\n",
       "        2.6800000e+00,  2.6900000e+00,  2.7000000e+00,  2.7100000e+00,\n",
       "        2.7200000e+00,  2.7300000e+00,  2.7400000e+00,  2.7500000e+00,\n",
       "        2.7600000e+00,  2.7700000e+00,  2.7800000e+00,  2.7900000e+00,\n",
       "        2.8000000e+00,  2.8100000e+00,  2.8200000e+00,  2.8300000e+00,\n",
       "        2.8400000e+00,  2.8500000e+00,  2.8600000e+00,  2.8700000e+00,\n",
       "        2.8800000e+00,  2.8900000e+00,  2.9000000e+00,  2.9100000e+00,\n",
       "        2.9200000e+00,  2.9300000e+00,  2.9400000e+00,  2.9500000e+00,\n",
       "        2.9600000e+00,  2.9700000e+00,  2.9800000e+00,  2.9900000e+00,\n",
       "        3.0000000e+00,  3.0100000e+00,  3.0200000e+00,  3.0300000e+00,\n",
       "        3.0400000e+00,  3.0500000e+00,  3.0600000e+00,  3.0700000e+00,\n",
       "        3.0800000e+00,  3.0900000e+00,  3.1000000e+00,  3.1100000e+00,\n",
       "        3.1200000e+00,  3.1300000e+00,  3.1400000e+00,  3.1500000e+00,\n",
       "        3.1600000e+00,  3.1700000e+00,  3.1800000e+00,  3.1900000e+00,\n",
       "        3.2000000e+00,  3.2100000e+00,  3.2200000e+00,  3.2300000e+00,\n",
       "        3.2400000e+00,  3.2500000e+00,  3.2600000e+00,  3.2700000e+00,\n",
       "        3.2800000e+00,  3.2900000e+00,  3.3000000e+00,  3.3100000e+00,\n",
       "        3.3200000e+00,  3.3300000e+00,  3.3400000e+00,  3.3500000e+00,\n",
       "        3.3600000e+00,  3.3700000e+00,  3.3800000e+00,  3.3900000e+00,\n",
       "        3.4000000e+00,  3.4100000e+00,  3.4200000e+00,  3.4300000e+00,\n",
       "        3.4400000e+00,  3.4500000e+00,  3.4600000e+00,  3.4700000e+00,\n",
       "        3.4800000e+00,  3.4900000e+00,  3.5000000e+00,  3.5100000e+00,\n",
       "        3.5200000e+00,  3.5300000e+00,  3.5400000e+00,  3.5500000e+00,\n",
       "        3.5600000e+00,  3.5700000e+00,  3.5800000e+00,  3.5900000e+00,\n",
       "        3.6000000e+00,  3.6100000e+00,  3.6200000e+00,  3.6300000e+00,\n",
       "        3.6400000e+00,  3.6500000e+00,  3.6600000e+00,  3.6700000e+00,\n",
       "        3.6800000e+00,  3.6900000e+00,  3.7000000e+00,  3.7100000e+00,\n",
       "        3.7200000e+00,  3.7300000e+00,  3.7400000e+00,  3.7500000e+00,\n",
       "        3.7600000e+00,  3.7700000e+00,  3.7800000e+00,  3.7900000e+00,\n",
       "        3.8000000e+00,  3.8100000e+00,  3.8200000e+00,  3.8300000e+00,\n",
       "        3.8400000e+00,  3.8500000e+00,  3.8600000e+00,  3.8700000e+00,\n",
       "        3.8800000e+00,  3.8900000e+00,  3.9000000e+00,  3.9100000e+00,\n",
       "        3.9200000e+00,  3.9300000e+00,  3.9400000e+00,  3.9500000e+00,\n",
       "        3.9600000e+00,  3.9700000e+00,  3.9800000e+00,  3.9900000e+00,\n",
       "        4.0000000e+00,  4.0100000e+00,  4.0200000e+00,  4.0300000e+00,\n",
       "        4.0400000e+00,  4.0500000e+00,  4.0600000e+00,  4.0700000e+00,\n",
       "        4.0800000e+00,  4.0900000e+00,  4.1000000e+00,  4.1100000e+00,\n",
       "        4.1200000e+00,  4.1300000e+00,  4.1400000e+00,  4.1500000e+00,\n",
       "        4.1600000e+00,  4.1700000e+00,  4.1800000e+00,  4.1900000e+00,\n",
       "        4.2000000e+00,  4.2100000e+00,  4.2200000e+00,  4.2300000e+00,\n",
       "        4.2400000e+00,  4.2500000e+00,  4.2600000e+00,  4.2700000e+00,\n",
       "        4.2800000e+00,  4.2900000e+00,  4.3000000e+00,  4.3100000e+00,\n",
       "        4.3200000e+00,  4.3300000e+00,  4.3400000e+00,  4.3500000e+00,\n",
       "        4.3600000e+00,  4.3700000e+00,  4.3800000e+00,  4.3900000e+00,\n",
       "        4.4000000e+00,  4.4100000e+00,  4.4200000e+00,  4.4300000e+00,\n",
       "        4.4400000e+00,  4.4500000e+00,  4.4600000e+00,  4.4700000e+00,\n",
       "        4.4800000e+00,  4.4900000e+00,  4.5000000e+00,  4.5100000e+00,\n",
       "        4.5200000e+00,  4.5300000e+00,  4.5400000e+00,  4.5500000e+00,\n",
       "        4.5600000e+00,  4.5700000e+00,  4.5800000e+00,  4.5900000e+00,\n",
       "        4.6000000e+00,  4.6100000e+00,  4.6200000e+00,  4.6300000e+00,\n",
       "        4.6400000e+00,  4.6500000e+00,  4.6600000e+00,  4.6700000e+00,\n",
       "        4.6800000e+00,  4.6900000e+00,  4.7000000e+00,  4.7100000e+00,\n",
       "        4.7200000e+00,  4.7300000e+00,  4.7400000e+00,  4.7500000e+00,\n",
       "        4.7600000e+00,  4.7700000e+00,  4.7800000e+00,  4.7900000e+00,\n",
       "        4.8000000e+00,  4.8100000e+00,  4.8200000e+00,  4.8300000e+00,\n",
       "        4.8400000e+00,  4.8500000e+00,  4.8600000e+00,  4.8700000e+00,\n",
       "        4.8800000e+00,  4.8900000e+00,  4.9000000e+00,  4.9100000e+00,\n",
       "        4.9200000e+00,  4.9300000e+00,  4.9400000e+00,  4.9500000e+00,\n",
       "        4.9600000e+00,  4.9700000e+00,  4.9800000e+00,  4.9900000e+00])"
      ]
     },
     "execution_count": 10,
     "metadata": {},
     "output_type": "execute_result"
    }
   ],
   "source": [
    "points = np.arange(-5, 5, 0.01) # 1000 equally spaced points \n",
    "points"
   ]
  },
  {
   "cell_type": "code",
   "execution_count": 11,
   "metadata": {},
   "outputs": [],
   "source": [
    "xs, ys = np.meshgrid(points, points)"
   ]
  },
  {
   "cell_type": "code",
   "execution_count": 12,
   "metadata": {},
   "outputs": [
    {
     "data": {
      "text/plain": [
       "array([[-5.  , -4.99, -4.98, ...,  4.97,  4.98,  4.99],\n",
       "       [-5.  , -4.99, -4.98, ...,  4.97,  4.98,  4.99],\n",
       "       [-5.  , -4.99, -4.98, ...,  4.97,  4.98,  4.99],\n",
       "       ...,\n",
       "       [-5.  , -4.99, -4.98, ...,  4.97,  4.98,  4.99],\n",
       "       [-5.  , -4.99, -4.98, ...,  4.97,  4.98,  4.99],\n",
       "       [-5.  , -4.99, -4.98, ...,  4.97,  4.98,  4.99]])"
      ]
     },
     "execution_count": 12,
     "metadata": {},
     "output_type": "execute_result"
    }
   ],
   "source": [
    "xs"
   ]
  },
  {
   "cell_type": "code",
   "execution_count": 14,
   "metadata": {},
   "outputs": [
    {
     "data": {
      "text/plain": [
       "array([[-5.  , -5.  , -5.  , ..., -5.  , -5.  , -5.  ],\n",
       "       [-4.99, -4.99, -4.99, ..., -4.99, -4.99, -4.99],\n",
       "       [-4.98, -4.98, -4.98, ..., -4.98, -4.98, -4.98],\n",
       "       ...,\n",
       "       [ 4.97,  4.97,  4.97, ...,  4.97,  4.97,  4.97],\n",
       "       [ 4.98,  4.98,  4.98, ...,  4.98,  4.98,  4.98],\n",
       "       [ 4.99,  4.99,  4.99, ...,  4.99,  4.99,  4.99]])"
      ]
     },
     "execution_count": 14,
     "metadata": {},
     "output_type": "execute_result"
    }
   ],
   "source": [
    "ys"
   ]
  },
  {
   "cell_type": "code",
   "execution_count": null,
   "metadata": {},
   "outputs": [],
   "source": []
  },
  {
   "cell_type": "code",
   "execution_count": 17,
   "metadata": {},
   "outputs": [],
   "source": [
    "from matplotlib.pyplot import imshow, title\n",
    "import matplotlib.pyplot as plt"
   ]
  },
  {
   "cell_type": "code",
   "execution_count": 18,
   "metadata": {},
   "outputs": [
    {
     "data": {
      "text/plain": [
       "array([[7.07106781, 7.06400028, 7.05693985, ..., 7.04988652, 7.05693985,\n",
       "        7.06400028],\n",
       "       [7.06400028, 7.05692568, 7.04985815, ..., 7.04279774, 7.04985815,\n",
       "        7.05692568],\n",
       "       [7.05693985, 7.04985815, 7.04278354, ..., 7.03571603, 7.04278354,\n",
       "        7.04985815],\n",
       "       ...,\n",
       "       [7.04988652, 7.04279774, 7.03571603, ..., 7.0286414 , 7.03571603,\n",
       "        7.04279774],\n",
       "       [7.05693985, 7.04985815, 7.04278354, ..., 7.03571603, 7.04278354,\n",
       "        7.04985815],\n",
       "       [7.06400028, 7.05692568, 7.04985815, ..., 7.04279774, 7.04985815,\n",
       "        7.05692568]])"
      ]
     },
     "execution_count": 18,
     "metadata": {},
     "output_type": "execute_result"
    }
   ],
   "source": [
    "z = np.sqrt(xs ** 2 + ys ** 2)\n",
    "z"
   ]
  },
  {
   "cell_type": "code",
   "execution_count": 19,
   "metadata": {},
   "outputs": [
    {
     "data": {
      "text/plain": [
       "<matplotlib.colorbar.Colorbar at 0x1a8760efba8>"
      ]
     },
     "execution_count": 19,
     "metadata": {},
     "output_type": "execute_result"
    },
    {
     "data": {
      "image/png": "[encoded data removed]",
      "text/plain": [
       "<Figure size 432x288 with 2 Axes>"
      ]
     },
     "metadata": {
      "needs_background": "light"
     },
     "output_type": "display_data"
    }
   ],
   "source": [
    "plt.imshow(z, cmap=plt.cm.gray); \n",
    "plt.colorbar()"
   ]
  },
  {
   "cell_type": "code",
   "execution_count": 20,
   "metadata": {},
   "outputs": [
    {
     "data": {
      "text/plain": [
       "Text(0.5, 1.0, 'Image plot of $\\\\sqrt{x^2 + y^2}$ for a grid of values')"
      ]
     },
     "execution_count": 20,
     "metadata": {},
     "output_type": "execute_result"
    },
    {
     "data": {
      "image/png": "[encoded data removed]",
      "text/plain": [
       "<Figure size 432x288 with 1 Axes>"
      ]
     },
     "metadata": {
      "needs_background": "light"
     },
     "output_type": "display_data"
    }
   ],
   "source": [
    "plt.title(\"Image plot of $\\sqrt{x^2 + y^2}$ for a grid of values\")"
   ]
  },
  {
   "cell_type": "code",
   "execution_count": 21,
   "metadata": {},
   "outputs": [
    {
     "data": {
      "image/png": "[encoded data removed]",
      "text/plain": [
       "<Figure size 432x288 with 2 Axes>"
      ]
     },
     "metadata": {
      "needs_background": "light"
     },
     "output_type": "display_data"
    }
   ],
   "source": [
    "plt.imshow(z, cmap=plt.cm.gray); \n",
    "plt.colorbar()\n",
    "plt.title(\"Image plot of $\\sqrt{x^2 + y^2}$ for a grid of values\")\n",
    "plt.draw()"
   ]
  },
  {
   "cell_type": "markdown",
   "metadata": {},
   "source": [
    "### Expressing conditional logic as array operations \n",
    "\n",
    "#### 배열 연산으로 조건절 표현하기"
   ]
  },
  {
   "cell_type": "code",
   "execution_count": 22,
   "metadata": {},
   "outputs": [],
   "source": [
    "xarr = np.array([1.1, 1.2, 1.3, 1.4, 1.5])\n",
    "yarr = np.array([2.1, 2.2, 2.3, 2.4, 2.5])\n",
    "cond = np.array([True, False, True, True, False])"
   ]
  },
  {
   "cell_type": "code",
   "execution_count": 23,
   "metadata": {},
   "outputs": [
    {
     "data": {
      "text/plain": [
       "[1.1, 2.2, 1.3, 1.4, 2.5]"
      ]
     },
     "execution_count": 23,
     "metadata": {},
     "output_type": "execute_result"
    }
   ],
   "source": [
    "result = [(x if c else y)\n",
    "          for x, y, c in zip(xarr, yarr, cond)]\n",
    "result"
   ]
  },
  {
   "cell_type": "code",
   "execution_count": 24,
   "metadata": {},
   "outputs": [
    {
     "data": {
      "text/plain": [
       "array([1.1, 2.2, 1.3, 1.4, 2.5])"
      ]
     },
     "execution_count": 24,
     "metadata": {},
     "output_type": "execute_result"
    }
   ],
   "source": [
    "result = np.where(cond, xarr, yarr)\n",
    "result"
   ]
  },
  {
   "cell_type": "code",
   "execution_count": 25,
   "metadata": {},
   "outputs": [
    {
     "data": {
      "text/plain": [
       "array([[-1.02848768,  0.21692676,  0.01494498,  0.20127907],\n",
       "       [-2.73699469, -0.36169467,  0.22794754,  1.08609362],\n",
       "       [ 0.98553321, -1.48540032, -0.43527653, -1.53696358],\n",
       "       [ 0.2208011 ,  0.06874777, -0.70387058, -0.32487999]])"
      ]
     },
     "execution_count": 25,
     "metadata": {},
     "output_type": "execute_result"
    }
   ],
   "source": [
    "arr = randn(4,4)\n",
    "arr"
   ]
  },
  {
   "cell_type": "code",
   "execution_count": 26,
   "metadata": {},
   "outputs": [
    {
     "data": {
      "text/plain": [
       "array([[-2,  2,  2,  2],\n",
       "       [-2, -2,  2,  2],\n",
       "       [ 2, -2, -2, -2],\n",
       "       [ 2,  2, -2, -2]])"
      ]
     },
     "execution_count": 26,
     "metadata": {},
     "output_type": "execute_result"
    }
   ],
   "source": [
    "np.where(arr>0, 2, -2)"
   ]
  },
  {
   "cell_type": "code",
   "execution_count": 27,
   "metadata": {},
   "outputs": [
    {
     "data": {
      "text/plain": [
       "array([[-1.02848768,  2.        ,  2.        ,  2.        ],\n",
       "       [-2.73699469, -0.36169467,  2.        ,  2.        ],\n",
       "       [ 2.        , -1.48540032, -0.43527653, -1.53696358],\n",
       "       [ 2.        ,  2.        , -0.70387058, -0.32487999]])"
      ]
     },
     "execution_count": 27,
     "metadata": {},
     "output_type": "execute_result"
    }
   ],
   "source": [
    "np.where(arr>0, 2, arr) #set only positive values to 2"
   ]
  },
  {
   "cell_type": "markdown",
   "metadata": {},
   "source": [
    "- where에 넘긴 배열은 같은 크기의 배열이거나 스칼라 값일 수 있다.\n",
    "- where를 사용하면 좀더 복잡한 연산을 수행할 수 있다."
   ]
  },
  {
   "cell_type": "markdown",
   "metadata": {},
   "source": [
    "### Mathematical and statistical methods\n",
    "### 수학 메소드와 통계 메소드\n",
    "- 배열 전체 혹은 배열에서 한 축에 따르는 자료에 대한 통계를 계산하기 위한 수학 함수는 배열 메소드를 사용\n",
    "- 전체의 합(sum)이나 평균(mean), 표준편차(std)는 NumPy의 최상위 함수를 이용하거나 배열의 인스턴스 메소드를 사용"
   ]
  },
  {
   "cell_type": "code",
   "execution_count": 28,
   "metadata": {},
   "outputs": [
    {
     "data": {
      "text/plain": [
       "array([[-0.58160638, -0.05597263,  1.19272979,  0.70243799],\n",
       "       [ 0.68269019, -0.17218623, -0.16472517,  0.02894085],\n",
       "       [ 0.63192569,  0.87588047, -1.17808033,  0.41301472],\n",
       "       [-0.4415392 ,  1.08892882,  0.26363062, -0.57349917],\n",
       "       [-1.02401041,  0.55576244,  0.6882715 ,  0.17811205]])"
      ]
     },
     "execution_count": 28,
     "metadata": {},
     "output_type": "execute_result"
    }
   ],
   "source": [
    "arr = np.random.randn(5, 4) # normally-distributed data\n",
    "arr"
   ]
  },
  {
   "cell_type": "code",
   "execution_count": 29,
   "metadata": {},
   "outputs": [
    {
     "data": {
      "text/plain": [
       "0.155535279709554"
      ]
     },
     "execution_count": 29,
     "metadata": {},
     "output_type": "execute_result"
    }
   ],
   "source": [
    "arr.mean()"
   ]
  },
  {
   "cell_type": "code",
   "execution_count": 30,
   "metadata": {},
   "outputs": [
    {
     "data": {
      "text/plain": [
       "0.155535279709554"
      ]
     },
     "execution_count": 30,
     "metadata": {},
     "output_type": "execute_result"
    }
   ],
   "source": [
    "np.mean(arr)"
   ]
  },
  {
   "cell_type": "code",
   "execution_count": 31,
   "metadata": {},
   "outputs": [
    {
     "data": {
      "text/plain": [
       "3.1107055941910797"
      ]
     },
     "execution_count": 31,
     "metadata": {},
     "output_type": "execute_result"
    }
   ],
   "source": [
    "arr.sum()"
   ]
  },
  {
   "cell_type": "code",
   "execution_count": 32,
   "metadata": {},
   "outputs": [
    {
     "data": {
      "text/plain": [
       "array([0.31439719, 0.09367991, 0.18568514, 0.08438027, 0.09953389])"
      ]
     },
     "execution_count": 32,
     "metadata": {},
     "output_type": "execute_result"
    }
   ],
   "source": [
    "arr.mean(axis=1) #여기서 axis 1은 열을 뜻한다."
   ]
  },
  {
   "cell_type": "code",
   "execution_count": 33,
   "metadata": {},
   "outputs": [
    {
     "data": {
      "text/plain": [
       "array([-0.73254012,  2.29241287,  0.8018264 ,  0.74900644])"
      ]
     },
     "execution_count": 33,
     "metadata": {},
     "output_type": "execute_result"
    }
   ],
   "source": [
    "arr.sum(0)"
   ]
  },
  {
   "cell_type": "code",
   "execution_count": 34,
   "metadata": {},
   "outputs": [
    {
     "data": {
      "text/plain": [
       "array([[0, 1, 2],\n",
       "       [3, 4, 5],\n",
       "       [6, 7, 8]])"
      ]
     },
     "execution_count": 34,
     "metadata": {},
     "output_type": "execute_result"
    }
   ],
   "source": [
    "arr = np.array([[0, 1, 2], [3, 4, 5], [6, 7, 8]])\n",
    "arr"
   ]
  },
  {
   "cell_type": "code",
   "execution_count": 35,
   "metadata": {},
   "outputs": [
    {
     "data": {
      "text/plain": [
       "array([[ 0,  1,  2],\n",
       "       [ 3,  5,  7],\n",
       "       [ 9, 12, 15]], dtype=int32)"
      ]
     },
     "execution_count": 35,
     "metadata": {},
     "output_type": "execute_result"
    }
   ],
   "source": [
    "# 각 원소의 누적 합\n",
    "# 0/0+3/ 0+3+6\n",
    "arr.cumsum(0)"
   ]
  },
  {
   "cell_type": "code",
   "execution_count": 36,
   "metadata": {},
   "outputs": [
    {
     "data": {
      "text/plain": [
       "array([[  0,   0,   0],\n",
       "       [  3,  12,  60],\n",
       "       [  6,  42, 336]], dtype=int32)"
      ]
     },
     "execution_count": 36,
     "metadata": {},
     "output_type": "execute_result"
    }
   ],
   "source": [
    "# 각 원소의 누적 곱\n",
    "# 3/3*4/3*4*5\n",
    "arr.cumprod(1)"
   ]
  },
  {
   "cell_type": "markdown",
   "metadata": {},
   "source": [
    "### Methods for boolean arrays\n",
    "\n",
    "### 불리언 배열을 위한 메소드\n",
    "\n",
    "- 불리언 값은 1(True), 0(False)으로 취급\n",
    "- 따라서 불리언 배열에 대한 sum 메소드를 실행하면 True인 원소의 개수를 반환\n",
    "- any() : 하나 이상의 True 값이 있는 지 검사\n",
    "- all() : 모든 원소가 True 인지 검사"
   ]
  },
  {
   "cell_type": "code",
   "execution_count": 37,
   "metadata": {},
   "outputs": [
    {
     "data": {
      "text/plain": [
       "array([-2.39549838,  0.72263249, -0.11379926, -0.26103347,  0.7347328 ,\n",
       "       -0.64227309, -0.22288995,  1.39539106,  0.43453291, -0.99750433,\n",
       "        0.59257486, -0.6033863 ,  0.29141964, -0.04785683,  1.3461519 ,\n",
       "        0.88305489, -1.41085589,  0.7610339 ,  1.70734451, -0.32763374,\n",
       "       -0.32150767,  1.11795209,  0.23413207, -0.91305751, -0.10791996,\n",
       "       -0.37790192,  0.1230798 ,  0.10677994, -0.25466552,  0.38820416,\n",
       "        0.9662977 , -0.9846082 , -1.4000874 ,  0.7223992 ,  0.05635967,\n",
       "        0.16077982,  1.40260918, -0.88850587,  0.8653358 , -0.82737094,\n",
       "       -0.5483371 , -0.39454846, -1.30169139,  0.5787744 ,  0.35987739,\n",
       "       -1.24320001,  1.03897366,  1.97992059,  0.60797111,  0.90808172,\n",
       "       -0.54524557,  0.69089838,  0.33052576, -0.89436152, -1.13025305,\n",
       "       -0.18330821,  0.42492384,  1.0571073 , -0.78585862,  1.06028156,\n",
       "       -0.26348322, -0.46626084, -0.00588571,  0.80537339,  0.79980296,\n",
       "       -1.57033797,  0.43687331,  2.6875349 ,  1.71126709,  1.36913877,\n",
       "       -1.3103306 , -0.58203168,  1.2180812 , -0.29384624,  1.13016491,\n",
       "       -0.35995651, -0.12224541, -1.65281036, -0.24575791,  0.47328647,\n",
       "       -0.95267859, -0.31897487, -1.379485  ,  1.68370086, -0.06361682,\n",
       "       -0.99283942,  0.6322832 , -3.26054819,  2.19585457,  1.35046662,\n",
       "        0.38899991,  0.31787573,  0.06749377, -0.05707777,  1.68100791,\n",
       "       -1.14946318,  0.10500689,  1.96306357,  0.41744384, -0.15305033])"
      ]
     },
     "execution_count": 37,
     "metadata": {},
     "output_type": "execute_result"
    }
   ],
   "source": [
    "arr = randn(100)\n",
    "arr"
   ]
  },
  {
   "cell_type": "code",
   "execution_count": 38,
   "metadata": {},
   "outputs": [
    {
     "data": {
      "text/plain": [
       "52"
      ]
     },
     "execution_count": 38,
     "metadata": {},
     "output_type": "execute_result"
    }
   ],
   "source": [
    "(arr > 0).sum() # Number of positive values"
   ]
  },
  {
   "cell_type": "code",
   "execution_count": 39,
   "metadata": {},
   "outputs": [
    {
     "data": {
      "text/plain": [
       "array([False, False,  True, False])"
      ]
     },
     "execution_count": 39,
     "metadata": {},
     "output_type": "execute_result"
    }
   ],
   "source": [
    "bools = np.array([False, False, True, False])\n",
    "bools"
   ]
  },
  {
   "cell_type": "code",
   "execution_count": 40,
   "metadata": {},
   "outputs": [
    {
     "data": {
      "text/plain": [
       "True"
      ]
     },
     "execution_count": 40,
     "metadata": {},
     "output_type": "execute_result"
    }
   ],
   "source": [
    "bools.any()"
   ]
  },
  {
   "cell_type": "code",
   "execution_count": 41,
   "metadata": {},
   "outputs": [
    {
     "data": {
      "text/plain": [
       "False"
      ]
     },
     "execution_count": 41,
     "metadata": {},
     "output_type": "execute_result"
    }
   ],
   "source": [
    "bools.all()"
   ]
  },
  {
   "cell_type": "markdown",
   "metadata": {},
   "source": [
    "### Sorting"
   ]
  },
  {
   "cell_type": "code",
   "execution_count": 43,
   "metadata": {},
   "outputs": [
    {
     "data": {
      "text/plain": [
       "array([ 0.60978088,  0.0091674 ,  1.34847452, -0.99793402, -2.29067136,\n",
       "        0.96800141, -0.87991142,  0.82431803])"
      ]
     },
     "execution_count": 43,
     "metadata": {},
     "output_type": "execute_result"
    }
   ],
   "source": [
    "arr = randn(8)\n",
    "arr"
   ]
  },
  {
   "cell_type": "code",
   "execution_count": 44,
   "metadata": {},
   "outputs": [
    {
     "data": {
      "text/plain": [
       "array([-2.29067136, -0.99793402, -0.87991142,  0.0091674 ,  0.60978088,\n",
       "        0.82431803,  0.96800141,  1.34847452])"
      ]
     },
     "execution_count": 44,
     "metadata": {},
     "output_type": "execute_result"
    }
   ],
   "source": [
    "arr.sort()\n",
    "arr"
   ]
  },
  {
   "cell_type": "code",
   "execution_count": 45,
   "metadata": {},
   "outputs": [
    {
     "data": {
      "text/plain": [
       "array([[-1.65458712, -1.93285191,  0.76286148],\n",
       "       [ 0.84938204,  0.10325088, -0.84139833],\n",
       "       [ 0.12054071, -0.19454189, -2.54303599],\n",
       "       [ 1.46649881, -0.50214204,  0.84682293],\n",
       "       [-0.08390956,  1.1227004 ,  0.17627287]])"
      ]
     },
     "execution_count": 45,
     "metadata": {},
     "output_type": "execute_result"
    }
   ],
   "source": [
    "arr = randn(5, 3)\n",
    "arr"
   ]
  },
  {
   "cell_type": "code",
   "execution_count": 46,
   "metadata": {},
   "outputs": [
    {
     "data": {
      "text/plain": [
       "array([[-1.93285191, -1.65458712,  0.76286148],\n",
       "       [-0.84139833,  0.10325088,  0.84938204],\n",
       "       [-2.54303599, -0.19454189,  0.12054071],\n",
       "       [-0.50214204,  0.84682293,  1.46649881],\n",
       "       [-0.08390956,  0.17627287,  1.1227004 ]])"
      ]
     },
     "execution_count": 46,
     "metadata": {},
     "output_type": "execute_result"
    }
   ],
   "source": [
    "arr.sort(1)\n",
    "arr"
   ]
  },
  {
   "cell_type": "code",
   "execution_count": 47,
   "metadata": {},
   "outputs": [
    {
     "data": {
      "text/plain": [
       "array([ 1.54344996e+00, -5.07844302e-01, -8.25035214e-02, -5.56898045e-01,\n",
       "        1.39920126e-01, -9.08915354e-01, -2.88101618e-01, -1.14303277e+00,\n",
       "       -6.11464935e-01, -1.79848412e+00, -1.05674364e+00, -1.56562352e-01,\n",
       "       -5.98431605e-01, -9.56555504e-01, -9.78616955e-01, -1.39524190e+00,\n",
       "       -5.83367237e-01,  6.28673250e-02, -4.58725618e-01, -2.66513952e-01,\n",
       "        3.22942328e-01,  8.26305364e-02,  9.76591519e-01,  2.57418136e-01,\n",
       "        1.55049628e+00,  1.22693541e+00,  9.72613326e-01, -9.04664642e-02,\n",
       "        4.86642695e-02,  6.42217268e-01,  1.90247149e-01, -9.81363101e-01,\n",
       "        4.76160231e-01, -7.01688703e-01,  5.03351089e-01, -6.08017473e-01,\n",
       "        1.52340347e+00, -2.33459560e-01, -1.06063770e-01,  1.84999711e+00,\n",
       "       -9.83289296e-01, -1.53541943e+00,  1.21081794e+00, -3.64272041e-01,\n",
       "        5.84782551e-03,  6.19594112e-01, -2.32845682e+00, -5.86324630e-01,\n",
       "        6.30212616e-01,  9.09185639e-01, -1.32961098e+00, -5.59437677e-01,\n",
       "        2.00958195e+00,  1.16366102e+00, -1.54998588e-01, -5.91589434e-01,\n",
       "        3.88848575e-01, -1.55071575e+00,  3.88496745e-01, -1.11624777e+00,\n",
       "       -2.92847467e+00, -2.02912619e+00, -4.25821939e-01,  2.54004473e+00,\n",
       "       -2.96433579e-01,  9.09658147e-01,  1.12192012e+00,  7.05641087e-01,\n",
       "        4.81350813e-01,  1.07538929e-01,  5.91670365e-01,  1.22710992e+00,\n",
       "        9.09816263e-01, -1.14879910e+00,  8.86060410e-01, -2.05961922e+00,\n",
       "       -4.33819261e-01,  9.85677631e-01,  1.41725917e+00,  1.61544832e+00,\n",
       "        8.87393529e-01,  9.24908061e-01, -1.18444593e+00, -6.67805437e-01,\n",
       "        1.70331699e+00,  7.78936573e-01,  1.42308649e+00, -9.15223659e-01,\n",
       "        1.61326049e+00,  2.69590099e-01,  5.43847653e-01, -2.64902309e+00,\n",
       "        1.39057978e+00,  1.09713304e+00,  5.81897237e-01,  1.89119051e+00,\n",
       "       -6.37996857e-01,  2.59721109e+00, -5.34751986e-01,  3.78727247e-01,\n",
       "        8.81964113e-03,  5.93234536e-01,  3.09522319e-01,  6.18801951e-01,\n",
       "        1.89557728e+00, -4.31017597e-01,  4.55939424e-01, -2.46451031e+00,\n",
       "       -9.53244851e-01, -8.29177764e-01, -1.32183383e+00, -1.51126948e+00,\n",
       "        7.22275674e-01,  1.36647033e+00,  4.23871013e-01,  2.22457284e-01,\n",
       "       -3.29798867e-01, -1.97708029e+00, -6.48873301e-01,  1.13346331e+00,\n",
       "        5.86002216e-01, -5.75719727e-01, -9.90400181e-01, -1.42965182e+00,\n",
       "        1.06887305e+00, -1.53181919e+00,  2.43524207e+00,  2.37401111e+00,\n",
       "       -1.20566011e-02,  2.69470459e-01,  2.97929656e-01,  7.84372149e-01,\n",
       "       -5.52104903e-01, -1.27340715e+00, -6.87166613e-01, -1.01727569e+00,\n",
       "        2.68820421e-02,  7.39102820e-01, -1.76343813e-01, -1.08005978e+00,\n",
       "        1.74237942e-01,  7.60677467e-01, -1.02094926e+00, -9.02969346e-01,\n",
       "        1.27883560e-01, -3.60500018e-01, -7.48661096e-01, -5.87718811e-01,\n",
       "        1.49661749e+00,  1.30324823e+00, -1.11245253e+00, -4.15752958e-01,\n",
       "        8.29853614e-02,  7.56014556e-01,  9.85327284e-01, -2.42751242e+00,\n",
       "       -9.85469572e-01,  9.35968811e-01, -1.38363564e-01, -1.05529119e+00,\n",
       "       -7.84681195e-01,  8.55909194e-01,  1.56554941e-03, -2.34025030e-01,\n",
       "       -3.36883291e-01, -7.99258554e-01, -7.16484781e-01,  1.34321176e+00,\n",
       "       -8.81009836e-01,  7.53363310e-01,  2.44373110e-01,  8.27898912e-01,\n",
       "        1.08872992e+00, -4.66372738e-01, -3.03262685e-01, -1.47651556e+00,\n",
       "       -1.31195326e+00,  1.32969044e+00,  6.01629776e-01, -4.72498179e-01,\n",
       "       -1.26126157e-01,  5.46875457e-01,  1.17576800e+00, -1.48491608e+00,\n",
       "        2.41882852e+00,  8.00223180e-04, -5.87791886e-01,  2.25337042e+00,\n",
       "       -6.31074753e-01,  6.73822184e-01,  5.29814259e-01,  9.69439970e-01,\n",
       "        4.76614470e-01,  9.48498868e-01,  1.10173374e+00, -4.47480116e-01,\n",
       "       -7.31737699e-01, -1.48237738e+00,  2.98704791e-01,  1.03701832e+00,\n",
       "       -1.84534232e+00,  3.51306826e-01,  5.37053306e-02, -1.52660359e+00,\n",
       "       -6.26180085e-01,  1.57421513e+00, -2.95113133e-01, -9.50283213e-02,\n",
       "       -1.12651840e+00,  1.04162944e-01, -1.71466994e+00, -1.26883872e+00,\n",
       "        3.48238901e-01,  2.51407511e-02,  9.12126053e-01,  1.78709322e+00,\n",
       "       -4.61567597e-01, -3.61073326e-01,  1.31317139e+00, -1.63599529e+00,\n",
       "       -2.08373740e+00, -2.16127032e-01,  1.74714643e+00,  2.19698888e-01,\n",
       "       -1.40899678e-01, -6.27979017e-01, -6.43312388e-01, -5.74995270e-01,\n",
       "        1.75127266e+00,  1.42398501e+00, -4.03465813e-01,  1.61573873e+00,\n",
       "       -8.10250248e-02, -3.93760852e-01,  1.06412867e+00,  4.94156924e-01,\n",
       "       -7.29441131e-01, -6.41433563e-01,  1.70629515e+00, -1.92545776e+00,\n",
       "       -6.10657047e-01,  2.79331787e-01,  5.25634771e-01,  1.68917081e-02,\n",
       "       -2.11008095e-01, -1.27098872e+00, -2.69569494e+00,  1.40213155e+00,\n",
       "       -6.39986232e-01,  1.38218312e+00,  9.62412499e-01, -1.82552560e+00,\n",
       "       -1.18575724e+00,  5.01556995e-01, -6.76075525e-01, -1.13578154e+00,\n",
       "        1.28744911e-01,  8.87572901e-02, -5.67090409e-01,  4.52838273e-01,\n",
       "        8.13386833e-02,  3.38292148e-01,  1.25966689e-01,  1.68537872e-01,\n",
       "        2.27045665e+00,  7.81441975e-01,  1.72200304e+00, -5.50991838e-02,\n",
       "        6.20484754e-01, -9.26991164e-01, -6.39967227e-01, -1.53965544e+00,\n",
       "        7.61738268e-01,  1.03484927e+00, -5.63916375e-01, -3.82773523e-01,\n",
       "        1.16198652e-01, -6.79615372e-01, -3.42193040e-02, -1.26989426e+00,\n",
       "        1.46548752e+00,  8.57059176e-02, -2.56034329e-01, -3.81746140e-01,\n",
       "       -3.71344252e-01,  1.69791827e+00,  1.03465013e+00,  3.55847721e-01,\n",
       "        4.68846493e-01,  1.24582277e+00, -6.93399008e-01, -6.93621802e-01,\n",
       "       -3.61864967e-01,  1.77512414e-01,  2.98646038e-01, -4.02472719e-01,\n",
       "       -4.35126989e-01, -8.08544130e-01,  4.07567826e-01,  7.81597410e-01,\n",
       "       -2.76660777e-01,  2.44883844e-01, -2.44061276e-01, -1.07877156e+00,\n",
       "       -1.10026482e+00,  1.15273792e-01, -1.72475814e+00, -1.02966275e+00,\n",
       "       -3.96701641e-01, -7.48183252e-01, -1.21122742e+00, -1.65988322e-01,\n",
       "        8.85391901e-01, -1.58831383e-01,  2.22194538e+00,  3.87218338e-01,\n",
       "       -7.79433140e-02,  1.23400947e+00, -2.29347151e-01, -6.51109719e-01,\n",
       "       -1.37371962e+00,  1.69578425e+00, -4.27630215e-01, -6.95203709e-02,\n",
       "       -8.22999487e-01,  8.63932927e-01, -1.11400556e+00,  8.07616763e-01,\n",
       "        2.61890372e+00, -7.45576800e-01,  1.06781902e+00,  1.09151832e+00,\n",
       "       -3.27956018e+00,  1.19705168e+00,  3.00671141e-01,  5.77664181e-01,\n",
       "        6.36632870e-01,  1.77719059e+00, -1.69916860e+00, -1.44483073e+00,\n",
       "        4.05910040e-01,  1.25574172e+00,  1.14318809e-01,  1.45451994e+00,\n",
       "        9.91658387e-02, -2.24443300e+00, -5.67907563e-01,  1.48599561e+00,\n",
       "       -2.20210918e-01,  1.95415431e-01,  5.70683020e-01, -4.54726454e-01,\n",
       "       -4.33118155e-01, -9.86063711e-01,  2.59267670e+00, -1.34304262e+00,\n",
       "        5.11470411e-01, -4.43143828e-01,  7.93247820e-01, -1.47854326e+00,\n",
       "       -3.00231936e-01, -1.27880956e+00, -4.57562051e-01, -1.53062576e+00,\n",
       "       -1.73811201e+00,  1.16375721e+00, -2.73942254e-01, -1.09671506e-01,\n",
       "       -4.55206815e-01,  1.21280523e+00,  4.14819027e-01, -9.41165161e-01,\n",
       "       -7.22765195e-01, -4.17189298e-01, -1.69597589e-01, -7.02296668e-01,\n",
       "       -5.88158790e-01, -2.32085859e+00, -1.70403664e+00, -4.96378141e-01,\n",
       "       -4.70830455e-01, -1.50778718e+00,  2.43567876e+00,  8.42289534e-01,\n",
       "        1.04506639e+00,  6.59933130e-01,  4.66320579e-01,  1.90129480e+00,\n",
       "       -1.04536584e+00, -1.78988454e+00, -2.95655211e-01, -8.36977006e-01,\n",
       "        3.41075724e-02,  1.04545066e+00,  5.83501957e-01, -1.62405294e+00,\n",
       "       -4.73302985e-01,  6.50331615e-01, -3.46388924e-01,  7.87836076e-01,\n",
       "       -1.19233683e+00,  1.50286921e-01,  3.99816493e-01, -2.41037601e-01,\n",
       "       -2.03499417e+00, -2.85365388e-01,  7.71626919e-01,  7.77466222e-01,\n",
       "        9.40774138e-01, -5.57039676e-01,  2.27521324e+00, -2.30527219e+00,\n",
       "        6.33030910e-02, -4.91839843e-01,  1.33726560e-01, -1.38040059e+00,\n",
       "       -1.29706427e+00, -1.47845574e+00,  2.72042804e-01,  1.72536019e-01,\n",
       "        6.11860533e-01,  2.85255734e-01,  2.67284519e+00,  3.56234497e-02,\n",
       "       -3.17574312e-01, -8.56854606e-01,  7.67067202e-02,  9.01219693e-01,\n",
       "       -6.37181282e-01,  1.59563924e+00, -1.01375876e+00,  2.51217373e+00,\n",
       "        1.11290180e-01, -9.43010821e-01,  2.51369991e+00, -8.34986419e-01,\n",
       "        1.57276953e+00,  1.76640191e+00, -3.38157949e-01,  1.89065881e+00,\n",
       "        1.01978463e+00,  1.00001115e+00, -1.18727860e+00,  2.54037900e-01,\n",
       "        2.26530263e-01, -2.16322293e-01, -1.43821802e+00,  1.85948810e+00,\n",
       "       -5.75715186e-01,  8.82337554e-01,  9.17446681e-01,  1.44677784e+00,\n",
       "        8.67059639e-01,  1.07712789e-01,  3.59329140e-02, -4.77794035e-01,\n",
       "       -1.79572258e+00,  6.75494620e-02, -6.99029067e-01,  4.92453773e-01,\n",
       "       -5.31518011e-01,  4.98314271e-01,  1.29358476e+00, -3.21875214e-01,\n",
       "       -2.73968729e-02, -8.91538210e-02,  7.19879378e-01,  5.31886810e-03,\n",
       "       -8.81375295e-01, -1.37935167e+00,  6.74154172e-02, -8.37518733e-01,\n",
       "       -1.72834887e+00, -7.70984271e-01, -1.92175980e+00,  8.43681205e-01,\n",
       "        5.98481636e-01, -1.67876239e+00,  6.15427127e-01, -1.64047796e+00,\n",
       "        9.49980219e-02, -3.32184999e-01, -3.92466586e-01,  1.16447566e+00,\n",
       "       -5.94858394e-02, -3.69099753e-02, -2.34458279e+00,  2.36533208e-01,\n",
       "       -5.25947003e-01, -1.85520472e+00,  1.44539941e-01,  3.88025970e-02,\n",
       "       -7.52484707e-02, -2.76975242e-02,  3.21143630e-01, -1.01196044e+00,\n",
       "        1.21401051e+00,  3.45761722e-01,  8.85639980e-01,  2.46998885e-01,\n",
       "        2.35297985e-01,  9.90825887e-01, -1.69780860e+00,  6.64210872e-01,\n",
       "       -1.20378635e+00, -7.06704059e-01,  3.43229334e-01, -4.57184256e-01,\n",
       "       -6.47152479e-01,  1.02658885e+00,  1.86764395e+00, -4.81802838e-01,\n",
       "       -7.13360267e-01, -5.97739149e-01, -7.56982064e-01,  2.27667934e-01,\n",
       "       -2.62945323e-01,  6.74664252e-01,  1.17724701e+00,  4.71378329e-01,\n",
       "       -1.49859427e+00, -1.04776308e+00, -9.34531524e-02, -1.42585701e+00,\n",
       "       -3.13798923e-01, -7.28394244e-01, -4.90547867e-01, -8.81562170e-01,\n",
       "       -7.18861675e-01,  1.52831941e+00,  1.47828703e+00, -8.97069313e-01,\n",
       "        3.89727529e-01,  1.68319487e+00,  7.11073412e-01, -6.15385169e-01,\n",
       "        6.75742175e-01,  5.69887299e-01,  2.14124869e-02, -2.22445525e-01,\n",
       "       -1.89147326e+00, -1.58114340e-01, -5.46365095e-01,  1.58077133e+00,\n",
       "        9.03592615e-01,  1.40353109e+00, -5.34986758e-01,  7.41371826e-01,\n",
       "        4.08629445e-01,  1.04520864e+00, -9.12835359e-01,  1.35995123e+00,\n",
       "       -1.37488150e+00,  1.05608056e+00,  2.11284638e-01,  5.81779471e-03,\n",
       "       -2.02538013e+00, -4.09242959e-02, -1.36387470e+00,  1.26361043e+00,\n",
       "        1.64050964e-01,  1.61608748e-01,  9.88014629e-01,  8.93399342e-01,\n",
       "       -1.25599356e+00, -1.80726015e+00, -5.85289096e-01,  1.09379400e+00,\n",
       "       -1.61097787e+00, -3.87694354e-02,  4.06059038e-01,  8.79066764e-01,\n",
       "       -6.39206155e-02,  2.43140960e-01,  4.99046390e-01, -2.48969210e-01,\n",
       "       -4.72109983e-01, -9.27772851e-01, -3.17082186e-01,  1.38969613e+00,\n",
       "       -8.80219563e-01, -6.36511249e-01, -1.62729727e-01,  5.17226829e-02,\n",
       "        2.09903874e-01, -6.56421416e-01,  1.20425479e+00, -7.99013665e-01,\n",
       "        4.08926039e-01,  2.75793516e-01, -1.23802002e-01, -5.60790486e-01,\n",
       "       -1.47569487e+00,  3.99712781e-01, -7.80455260e-02, -8.85850739e-01,\n",
       "        7.43239858e-01,  1.71095099e+00, -1.12364599e+00,  9.08344329e-01,\n",
       "        6.86542392e-01, -1.32984007e+00, -9.10196966e-01,  3.97737100e-01,\n",
       "       -1.78807812e-01, -2.11952881e-01,  1.84576822e-01, -3.12024356e-01,\n",
       "       -1.17932190e+00, -1.47830062e-01, -8.64157036e-01,  2.86346574e-02,\n",
       "       -1.37028209e-01,  1.43446310e+00, -1.07935847e+00,  3.45487289e-01,\n",
       "       -2.23090374e-01, -1.98774546e-01,  1.50870488e+00,  4.91644800e-01,\n",
       "        5.31335052e-01, -8.31007717e-01, -3.61636369e-01,  1.22327400e-01,\n",
       "       -1.66008584e-01, -8.88041478e-01, -1.41081499e-01,  1.11131282e+00,\n",
       "        1.56124945e+00,  3.51608876e-01,  1.90747764e-01, -3.46441155e-01,\n",
       "       -9.19795763e-01, -1.81384165e-01, -3.77634259e-01, -5.43645660e-01,\n",
       "        2.83509411e-01, -1.11751210e+00, -1.13314058e+00, -1.02266867e+00,\n",
       "        1.39301486e+00, -2.65414318e+00,  1.58721890e+00, -1.65372917e+00,\n",
       "        6.53133505e-02,  9.97204303e-01,  5.26347836e-01,  3.97753917e-01,\n",
       "        5.83506729e-01, -1.01522152e+00, -6.55013720e-01, -6.84593726e-01,\n",
       "       -1.92927271e+00,  4.20199294e-01,  1.04358497e-01, -3.12143152e-01,\n",
       "       -3.18692193e-01,  9.52160308e-01,  7.52149218e-01,  1.79893628e+00,\n",
       "        7.12835338e-01,  8.83256633e-01,  2.98640677e-01,  2.72072499e-02,\n",
       "        1.29068275e+00, -1.51361073e+00,  3.88167155e-01,  8.06735352e-01,\n",
       "       -1.14080574e+00, -1.50739269e+00,  4.52768413e-01,  2.66407326e-01,\n",
       "        1.45937614e+00,  1.26246593e+00, -4.56913399e-01,  3.62543128e-01,\n",
       "        2.65710145e-01, -1.14468713e+00,  1.19077770e+00, -1.57355763e+00,\n",
       "       -1.49001030e+00, -3.18296715e-02,  2.89037558e-01, -3.88057365e-01,\n",
       "        2.27529585e+00,  2.00265553e+00,  2.85658113e-01, -1.43240220e-01,\n",
       "        1.34439856e+00, -1.05970825e+00, -2.33208246e-01, -1.49396385e+00,\n",
       "       -1.65097309e-01,  3.16211213e-01, -1.18259913e+00, -4.71985584e-02,\n",
       "       -1.25072269e+00, -3.88356070e-01,  9.28184802e-01, -1.54534272e+00,\n",
       "       -1.17589574e+00,  1.07724073e+00,  4.48736000e-01,  8.78611251e-01,\n",
       "        2.05935698e-01, -1.01697249e+00,  1.79497282e+00, -1.73840057e+00,\n",
       "       -3.41797400e-01, -6.50573852e-01,  6.38597286e-01, -2.40320585e-01,\n",
       "       -7.75353744e-01,  9.64042724e-01,  2.18510730e+00, -1.28675340e+00,\n",
       "       -7.01333873e-01,  1.82866713e+00, -1.27913056e+00, -2.80309073e+00,\n",
       "        1.16355155e+00, -9.51183737e-02,  8.72164704e-02,  4.98786954e-01,\n",
       "        2.87089355e+00,  6.68437310e-01,  3.41812751e-01, -9.11523617e-01,\n",
       "        1.00451534e+00,  2.25682549e-01,  4.05131167e-01, -5.94807937e-04,\n",
       "       -2.95513863e-01, -1.22711056e-01, -9.97266721e-03,  1.67328342e+00,\n",
       "        5.40124211e-01, -3.39464018e-01,  9.66464708e-01, -3.36515920e+00,\n",
       "        4.55377103e-01,  9.65480652e-01,  1.26393862e+00, -1.50654220e+00,\n",
       "        3.29231815e-01,  2.77637265e-01,  2.54449282e-01,  2.38753914e+00,\n",
       "       -1.74959236e+00,  3.73338039e-02, -5.57549880e-01,  5.27099171e-02,\n",
       "        6.18423516e-01,  9.27469150e-01,  9.35353072e-01,  7.44246146e-02,\n",
       "       -5.47401872e-01,  7.75833991e-01,  1.27949633e+00,  7.42654289e-02,\n",
       "        4.90950487e-01,  1.40901098e+00, -6.13813734e-01, -9.58800630e-01,\n",
       "       -5.26941274e-01,  7.63090799e-01, -5.15326033e-01, -5.72694273e-01,\n",
       "       -4.95312054e-01, -1.33215021e+00,  1.11854229e+00,  1.32654708e+00,\n",
       "        3.94689786e-02,  1.44425751e-01, -1.18970113e+00,  1.08336175e+00,\n",
       "       -1.09801135e-01,  3.31609932e-01,  7.31790318e-01, -3.87639231e-01,\n",
       "        3.91831238e-01,  8.10391880e-02,  7.42427533e-01,  6.69330139e-01,\n",
       "        1.88565927e-01, -7.42031759e-02, -1.12646364e+00, -1.74084673e-01,\n",
       "        5.40523694e-01,  1.03292973e+00,  6.73933143e-02,  2.73190906e-01,\n",
       "       -5.88378574e-01, -1.25423961e+00, -1.84200375e+00, -8.60850873e-01,\n",
       "        6.09119614e-01,  1.96235970e-01,  9.54811937e-01, -2.06569792e-01,\n",
       "       -1.78982467e-01,  6.90557151e-03,  1.13949548e+00, -4.32560113e-01,\n",
       "        2.24224423e+00,  1.01415470e+00,  2.56755705e+00,  1.16522491e+00,\n",
       "       -1.60271692e+00, -8.32987000e-01, -2.83043034e-01, -7.24087028e-01,\n",
       "        4.56891304e-01,  5.61911909e-01,  1.16720474e-01,  2.37710544e-01,\n",
       "        4.37964447e-01, -7.52077326e-01, -2.04492727e-01,  3.38625117e-01,\n",
       "        2.32374242e-01,  2.64615754e+00,  8.42408416e-01, -3.23774150e-01,\n",
       "        1.88316454e-01,  1.37734911e+00, -1.21790585e+00,  2.43485062e-01,\n",
       "        3.87070539e-01, -1.75150304e-01,  1.08157562e+00, -2.77280629e+00,\n",
       "       -4.76205496e-01,  1.05081419e+00,  3.37593490e-01,  8.21361126e-01,\n",
       "       -8.21563446e-01,  2.14274496e-01, -1.13514589e+00,  2.67644176e+00,\n",
       "        9.10720132e-01,  7.54480531e-01,  9.56358398e-01,  1.66753470e+00,\n",
       "       -1.18753130e+00,  7.01543919e-01,  3.41124287e-01, -5.51521952e-01,\n",
       "       -1.32947183e+00, -1.06279357e+00, -8.16089998e-01,  7.25444735e-01,\n",
       "        9.20411202e-01,  8.51407307e-01, -3.25205052e-01, -7.94104643e-01,\n",
       "        2.39293033e-01, -4.02547013e-02,  8.16511836e-02,  3.78964814e-01,\n",
       "       -5.23458874e-01,  4.59640997e-01,  2.82421879e-01, -1.41616815e+00,\n",
       "       -2.39040705e-01, -2.23482950e+00, -3.18005195e-01, -1.40290686e+00,\n",
       "        4.60789917e-01,  1.62501784e+00, -8.51258809e-01, -5.53697765e-01,\n",
       "       -3.25297041e-01,  2.08156605e+00, -5.25654830e-02, -3.09699338e-01,\n",
       "       -8.52457282e-01, -1.93427558e+00,  1.66617085e+00, -1.18848823e+00,\n",
       "        1.22843004e+00, -3.17647739e-01, -1.65799532e-01, -8.04988401e-01,\n",
       "       -6.27666096e-01, -1.09508243e+00, -6.66186318e-01,  6.15750888e-01,\n",
       "       -1.97062545e-01, -1.15387922e+00, -2.22397242e+00, -5.92459200e-01,\n",
       "       -8.99355084e-01, -1.60766347e+00, -2.15748120e+00, -1.27861068e+00,\n",
       "       -1.87234795e+00,  3.66913876e-01,  2.61740736e+00,  6.57571287e-01,\n",
       "        6.22730362e-01,  1.66263379e+00,  1.72206379e+00, -3.93769554e-02,\n",
       "       -2.06424400e-01,  1.79223377e+00, -1.66635380e-01, -5.84758847e-01,\n",
       "       -8.95163923e-01,  2.10437220e-01,  8.61704937e-01,  8.14595838e-01,\n",
       "       -2.65809476e-01,  9.70465804e-01,  2.64454560e-01, -1.58620257e+00,\n",
       "        6.34351074e-02, -4.12374800e-01,  8.57808377e-02, -5.91445106e-01,\n",
       "       -6.74044050e-01, -2.35026882e-01, -1.96111176e-01,  3.42073646e-01,\n",
       "        1.59767754e+00, -8.80267070e-01,  2.50566834e-01, -3.48977287e-01,\n",
       "       -2.04603041e-01,  3.63736807e-01,  3.54651585e-01,  1.22784189e+00,\n",
       "       -5.59561684e-01,  1.04100342e+00, -9.88848186e-01,  1.39883495e-01,\n",
       "       -1.78724214e+00, -1.66575172e+00,  5.37080145e-01, -4.68819070e-01,\n",
       "       -3.72209580e-01, -8.11266379e-03,  1.86934380e+00,  3.57925182e-01,\n",
       "       -8.69163592e-01, -1.32870024e-01,  3.28998732e+00,  2.56225548e-01,\n",
       "        7.55603068e-01,  2.45490013e-01,  4.76869452e-01,  4.14769054e-01,\n",
       "        5.26002109e-01, -9.06924220e-01,  1.27967145e+00, -1.56417110e+00,\n",
       "       -3.96132226e-01,  5.28544330e-01, -3.61873075e-01, -4.10762438e-01,\n",
       "       -2.63081020e+00,  3.82416702e-01,  2.98180327e-01,  1.99393183e-01,\n",
       "       -9.73176344e-01,  2.02635249e+00,  2.43812171e+00, -1.40149093e-01,\n",
       "       -1.30416656e-01, -4.94656079e-03, -2.34921066e-01,  4.97724631e-02,\n",
       "       -1.07575051e+00,  1.86446378e-01,  8.54516610e-01,  1.22390230e-01,\n",
       "       -2.60524926e+00,  2.32275160e+00,  3.07882950e-01, -1.03329429e+00,\n",
       "       -8.44195767e-01, -8.72573934e-01, -9.37092338e-01, -1.83709352e+00,\n",
       "        1.53854884e+00,  5.69316109e-03,  9.33320570e-01,  8.74665140e-01,\n",
       "        9.77885529e-02, -2.66937244e-01, -7.00301393e-01,  4.05372870e-01,\n",
       "        5.94659233e-01, -4.13327927e-01, -1.83343253e-02, -2.51136859e-01,\n",
       "       -1.75146719e+00,  7.60607704e-01, -2.21388245e+00,  3.82989085e-01])"
      ]
     },
     "execution_count": 47,
     "metadata": {},
     "output_type": "execute_result"
    }
   ],
   "source": [
    "large_arr = randn(1000)\n",
    "large_arr"
   ]
  },
  {
   "cell_type": "code",
   "execution_count": 48,
   "metadata": {},
   "outputs": [
    {
     "data": {
      "text/plain": [
       "array([-3.36515920e+00, -3.27956018e+00, -2.92847467e+00, -2.80309073e+00,\n",
       "       -2.77280629e+00, -2.69569494e+00, -2.65414318e+00, -2.64902309e+00,\n",
       "       -2.63081020e+00, -2.60524926e+00, -2.46451031e+00, -2.42751242e+00,\n",
       "       -2.34458279e+00, -2.32845682e+00, -2.32085859e+00, -2.30527219e+00,\n",
       "       -2.24443300e+00, -2.23482950e+00, -2.22397242e+00, -2.21388245e+00,\n",
       "       -2.15748120e+00, -2.08373740e+00, -2.05961922e+00, -2.03499417e+00,\n",
       "       -2.02912619e+00, -2.02538013e+00, -1.97708029e+00, -1.93427558e+00,\n",
       "       -1.92927271e+00, -1.92545776e+00, -1.92175980e+00, -1.89147326e+00,\n",
       "       -1.87234795e+00, -1.85520472e+00, -1.84534232e+00, -1.84200375e+00,\n",
       "       -1.83709352e+00, -1.82552560e+00, -1.80726015e+00, -1.79848412e+00,\n",
       "       -1.79572258e+00, -1.78988454e+00, -1.78724214e+00, -1.75146719e+00,\n",
       "       -1.74959236e+00, -1.73840057e+00, -1.73811201e+00, -1.72834887e+00,\n",
       "       -1.72475814e+00, -1.71466994e+00, -1.70403664e+00, -1.69916860e+00,\n",
       "       -1.69780860e+00, -1.67876239e+00, -1.66575172e+00, -1.65372917e+00,\n",
       "       -1.64047796e+00, -1.63599529e+00, -1.62405294e+00, -1.61097787e+00,\n",
       "       -1.60766347e+00, -1.60271692e+00, -1.58620257e+00, -1.57355763e+00,\n",
       "       -1.56417110e+00, -1.55071575e+00, -1.54534272e+00, -1.53965544e+00,\n",
       "       -1.53541943e+00, -1.53181919e+00, -1.53062576e+00, -1.52660359e+00,\n",
       "       -1.51361073e+00, -1.51126948e+00, -1.50778718e+00, -1.50739269e+00,\n",
       "       -1.50654220e+00, -1.49859427e+00, -1.49396385e+00, -1.49001030e+00,\n",
       "       -1.48491608e+00, -1.48237738e+00, -1.47854326e+00, -1.47845574e+00,\n",
       "       -1.47651556e+00, -1.47569487e+00, -1.44483073e+00, -1.43821802e+00,\n",
       "       -1.42965182e+00, -1.42585701e+00, -1.41616815e+00, -1.40290686e+00,\n",
       "       -1.39524190e+00, -1.38040059e+00, -1.37935167e+00, -1.37488150e+00,\n",
       "       -1.37371962e+00, -1.36387470e+00, -1.34304262e+00, -1.33215021e+00,\n",
       "       -1.32984007e+00, -1.32961098e+00, -1.32947183e+00, -1.32183383e+00,\n",
       "       -1.31195326e+00, -1.29706427e+00, -1.28675340e+00, -1.27913056e+00,\n",
       "       -1.27880956e+00, -1.27861068e+00, -1.27340715e+00, -1.27098872e+00,\n",
       "       -1.26989426e+00, -1.26883872e+00, -1.25599356e+00, -1.25423961e+00,\n",
       "       -1.25072269e+00, -1.21790585e+00, -1.21122742e+00, -1.20378635e+00,\n",
       "       -1.19233683e+00, -1.18970113e+00, -1.18848823e+00, -1.18753130e+00,\n",
       "       -1.18727860e+00, -1.18575724e+00, -1.18444593e+00, -1.18259913e+00,\n",
       "       -1.17932190e+00, -1.17589574e+00, -1.15387922e+00, -1.14879910e+00,\n",
       "       -1.14468713e+00, -1.14303277e+00, -1.14080574e+00, -1.13578154e+00,\n",
       "       -1.13514589e+00, -1.13314058e+00, -1.12651840e+00, -1.12646364e+00,\n",
       "       -1.12364599e+00, -1.11751210e+00, -1.11624777e+00, -1.11400556e+00,\n",
       "       -1.11245253e+00, -1.10026482e+00, -1.09508243e+00, -1.08005978e+00,\n",
       "       -1.07935847e+00, -1.07877156e+00, -1.07575051e+00, -1.06279357e+00,\n",
       "       -1.05970825e+00, -1.05674364e+00, -1.05529119e+00, -1.04776308e+00,\n",
       "       -1.04536584e+00, -1.03329429e+00, -1.02966275e+00, -1.02266867e+00,\n",
       "       -1.02094926e+00, -1.01727569e+00, -1.01697249e+00, -1.01522152e+00,\n",
       "       -1.01375876e+00, -1.01196044e+00, -9.90400181e-01, -9.88848186e-01,\n",
       "       -9.86063711e-01, -9.85469572e-01, -9.83289296e-01, -9.81363101e-01,\n",
       "       -9.78616955e-01, -9.73176344e-01, -9.58800630e-01, -9.56555504e-01,\n",
       "       -9.53244851e-01, -9.43010821e-01, -9.41165161e-01, -9.37092338e-01,\n",
       "       -9.27772851e-01, -9.26991164e-01, -9.19795763e-01, -9.15223659e-01,\n",
       "       -9.12835359e-01, -9.11523617e-01, -9.10196966e-01, -9.08915354e-01,\n",
       "       -9.06924220e-01, -9.02969346e-01, -8.99355084e-01, -8.97069313e-01,\n",
       "       -8.95163923e-01, -8.88041478e-01, -8.85850739e-01, -8.81562170e-01,\n",
       "       -8.81375295e-01, -8.81009836e-01, -8.80267070e-01, -8.80219563e-01,\n",
       "       -8.72573934e-01, -8.69163592e-01, -8.64157036e-01, -8.60850873e-01,\n",
       "       -8.56854606e-01, -8.52457282e-01, -8.51258809e-01, -8.44195767e-01,\n",
       "       -8.37518733e-01, -8.36977006e-01, -8.34986419e-01, -8.32987000e-01,\n",
       "       -8.31007717e-01, -8.29177764e-01, -8.22999487e-01, -8.21563446e-01,\n",
       "       -8.16089998e-01, -8.08544130e-01, -8.04988401e-01, -7.99258554e-01,\n",
       "       -7.99013665e-01, -7.94104643e-01, -7.84681195e-01, -7.75353744e-01,\n",
       "       -7.70984271e-01, -7.56982064e-01, -7.52077326e-01, -7.48661096e-01,\n",
       "       -7.48183252e-01, -7.45576800e-01, -7.31737699e-01, -7.29441131e-01,\n",
       "       -7.28394244e-01, -7.24087028e-01, -7.22765195e-01, -7.18861675e-01,\n",
       "       -7.16484781e-01, -7.13360267e-01, -7.06704059e-01, -7.02296668e-01,\n",
       "       -7.01688703e-01, -7.01333873e-01, -7.00301393e-01, -6.99029067e-01,\n",
       "       -6.93621802e-01, -6.93399008e-01, -6.87166613e-01, -6.84593726e-01,\n",
       "       -6.79615372e-01, -6.76075525e-01, -6.74044050e-01, -6.67805437e-01,\n",
       "       -6.66186318e-01, -6.56421416e-01, -6.55013720e-01, -6.51109719e-01,\n",
       "       -6.50573852e-01, -6.48873301e-01, -6.47152479e-01, -6.43312388e-01,\n",
       "       -6.41433563e-01, -6.39986232e-01, -6.39967227e-01, -6.37996857e-01,\n",
       "       -6.37181282e-01, -6.36511249e-01, -6.31074753e-01, -6.27979017e-01,\n",
       "       -6.27666096e-01, -6.26180085e-01, -6.15385169e-01, -6.13813734e-01,\n",
       "       -6.11464935e-01, -6.10657047e-01, -6.08017473e-01, -5.98431605e-01,\n",
       "       -5.97739149e-01, -5.92459200e-01, -5.91589434e-01, -5.91445106e-01,\n",
       "       -5.88378574e-01, -5.88158790e-01, -5.87791886e-01, -5.87718811e-01,\n",
       "       -5.86324630e-01, -5.85289096e-01, -5.84758847e-01, -5.83367237e-01,\n",
       "       -5.75719727e-01, -5.75715186e-01, -5.74995270e-01, -5.72694273e-01,\n",
       "       -5.67907563e-01, -5.67090409e-01, -5.63916375e-01, -5.60790486e-01,\n",
       "       -5.59561684e-01, -5.59437677e-01, -5.57549880e-01, -5.57039676e-01,\n",
       "       -5.56898045e-01, -5.53697765e-01, -5.52104903e-01, -5.51521952e-01,\n",
       "       -5.47401872e-01, -5.46365095e-01, -5.43645660e-01, -5.34986758e-01,\n",
       "       -5.34751986e-01, -5.31518011e-01, -5.26941274e-01, -5.25947003e-01,\n",
       "       -5.23458874e-01, -5.15326033e-01, -5.07844302e-01, -4.96378141e-01,\n",
       "       -4.95312054e-01, -4.91839843e-01, -4.90547867e-01, -4.81802838e-01,\n",
       "       -4.77794035e-01, -4.76205496e-01, -4.73302985e-01, -4.72498179e-01,\n",
       "       -4.72109983e-01, -4.70830455e-01, -4.68819070e-01, -4.66372738e-01,\n",
       "       -4.61567597e-01, -4.58725618e-01, -4.57562051e-01, -4.57184256e-01,\n",
       "       -4.56913399e-01, -4.55206815e-01, -4.54726454e-01, -4.47480116e-01,\n",
       "       -4.43143828e-01, -4.35126989e-01, -4.33819261e-01, -4.33118155e-01,\n",
       "       -4.32560113e-01, -4.31017597e-01, -4.27630215e-01, -4.25821939e-01,\n",
       "       -4.17189298e-01, -4.15752958e-01, -4.13327927e-01, -4.12374800e-01,\n",
       "       -4.10762438e-01, -4.03465813e-01, -4.02472719e-01, -3.96701641e-01,\n",
       "       -3.96132226e-01, -3.93760852e-01, -3.92466586e-01, -3.88356070e-01,\n",
       "       -3.88057365e-01, -3.87639231e-01, -3.82773523e-01, -3.81746140e-01,\n",
       "       -3.77634259e-01, -3.72209580e-01, -3.71344252e-01, -3.64272041e-01,\n",
       "       -3.61873075e-01, -3.61864967e-01, -3.61636369e-01, -3.61073326e-01,\n",
       "       -3.60500018e-01, -3.48977287e-01, -3.46441155e-01, -3.46388924e-01,\n",
       "       -3.41797400e-01, -3.39464018e-01, -3.38157949e-01, -3.36883291e-01,\n",
       "       -3.32184999e-01, -3.29798867e-01, -3.25297041e-01, -3.25205052e-01,\n",
       "       -3.23774150e-01, -3.21875214e-01, -3.18692193e-01, -3.18005195e-01,\n",
       "       -3.17647739e-01, -3.17574312e-01, -3.17082186e-01, -3.13798923e-01,\n",
       "       -3.12143152e-01, -3.12024356e-01, -3.09699338e-01, -3.03262685e-01,\n",
       "       -3.00231936e-01, -2.96433579e-01, -2.95655211e-01, -2.95513863e-01,\n",
       "       -2.95113133e-01, -2.88101618e-01, -2.85365388e-01, -2.83043034e-01,\n",
       "       -2.76660777e-01, -2.73942254e-01, -2.66937244e-01, -2.66513952e-01,\n",
       "       -2.65809476e-01, -2.62945323e-01, -2.56034329e-01, -2.51136859e-01,\n",
       "       -2.48969210e-01, -2.44061276e-01, -2.41037601e-01, -2.40320585e-01,\n",
       "       -2.39040705e-01, -2.35026882e-01, -2.34921066e-01, -2.34025030e-01,\n",
       "       -2.33459560e-01, -2.33208246e-01, -2.29347151e-01, -2.23090374e-01,\n",
       "       -2.22445525e-01, -2.20210918e-01, -2.16322293e-01, -2.16127032e-01,\n",
       "       -2.11952881e-01, -2.11008095e-01, -2.06569792e-01, -2.06424400e-01,\n",
       "       -2.04603041e-01, -2.04492727e-01, -1.98774546e-01, -1.97062545e-01,\n",
       "       -1.96111176e-01, -1.81384165e-01, -1.78982467e-01, -1.78807812e-01,\n",
       "       -1.76343813e-01, -1.75150304e-01, -1.74084673e-01, -1.69597589e-01,\n",
       "       -1.66635380e-01, -1.66008584e-01, -1.65988322e-01, -1.65799532e-01,\n",
       "       -1.65097309e-01, -1.62729727e-01, -1.58831383e-01, -1.58114340e-01,\n",
       "       -1.56562352e-01, -1.54998588e-01, -1.47830062e-01, -1.43240220e-01,\n",
       "       -1.41081499e-01, -1.40899678e-01, -1.40149093e-01, -1.38363564e-01,\n",
       "       -1.37028209e-01, -1.32870024e-01, -1.30416656e-01, -1.26126157e-01,\n",
       "       -1.23802002e-01, -1.22711056e-01, -1.09801135e-01, -1.09671506e-01,\n",
       "       -1.06063770e-01, -9.51183737e-02, -9.50283213e-02, -9.34531524e-02,\n",
       "       -9.04664642e-02, -8.91538210e-02, -8.25035214e-02, -8.10250248e-02,\n",
       "       -7.80455260e-02, -7.79433140e-02, -7.52484707e-02, -7.42031759e-02,\n",
       "       -6.95203709e-02, -6.39206155e-02, -5.94858394e-02, -5.50991838e-02,\n",
       "       -5.25654830e-02, -4.71985584e-02, -4.09242959e-02, -4.02547013e-02,\n",
       "       -3.93769554e-02, -3.87694354e-02, -3.69099753e-02, -3.42193040e-02,\n",
       "       -3.18296715e-02, -2.76975242e-02, -2.73968729e-02, -1.83343253e-02,\n",
       "       -1.20566011e-02, -9.97266721e-03, -8.11266379e-03, -4.94656079e-03,\n",
       "       -5.94807937e-04,  8.00223180e-04,  1.56554941e-03,  5.31886810e-03,\n",
       "        5.69316109e-03,  5.81779471e-03,  5.84782551e-03,  6.90557151e-03,\n",
       "        8.81964113e-03,  1.68917081e-02,  2.14124869e-02,  2.51407511e-02,\n",
       "        2.68820421e-02,  2.72072499e-02,  2.86346574e-02,  3.41075724e-02,\n",
       "        3.56234497e-02,  3.59329140e-02,  3.73338039e-02,  3.88025970e-02,\n",
       "        3.94689786e-02,  4.86642695e-02,  4.97724631e-02,  5.17226829e-02,\n",
       "        5.27099171e-02,  5.37053306e-02,  6.28673250e-02,  6.33030910e-02,\n",
       "        6.34351074e-02,  6.53133505e-02,  6.73933143e-02,  6.74154172e-02,\n",
       "        6.75494620e-02,  7.42654289e-02,  7.44246146e-02,  7.67067202e-02,\n",
       "        8.10391880e-02,  8.13386833e-02,  8.16511836e-02,  8.26305364e-02,\n",
       "        8.29853614e-02,  8.57059176e-02,  8.57808377e-02,  8.72164704e-02,\n",
       "        8.87572901e-02,  9.49980219e-02,  9.77885529e-02,  9.91658387e-02,\n",
       "        1.04162944e-01,  1.04358497e-01,  1.07538929e-01,  1.07712789e-01,\n",
       "        1.11290180e-01,  1.14318809e-01,  1.15273792e-01,  1.16198652e-01,\n",
       "        1.16720474e-01,  1.22327400e-01,  1.22390230e-01,  1.25966689e-01,\n",
       "        1.27883560e-01,  1.28744911e-01,  1.33726560e-01,  1.39883495e-01,\n",
       "        1.39920126e-01,  1.44425751e-01,  1.44539941e-01,  1.50286921e-01,\n",
       "        1.61608748e-01,  1.64050964e-01,  1.68537872e-01,  1.72536019e-01,\n",
       "        1.74237942e-01,  1.77512414e-01,  1.84576822e-01,  1.86446378e-01,\n",
       "        1.88316454e-01,  1.88565927e-01,  1.90247149e-01,  1.90747764e-01,\n",
       "        1.95415431e-01,  1.96235970e-01,  1.99393183e-01,  2.05935698e-01,\n",
       "        2.09903874e-01,  2.10437220e-01,  2.11284638e-01,  2.14274496e-01,\n",
       "        2.19698888e-01,  2.22457284e-01,  2.25682549e-01,  2.26530263e-01,\n",
       "        2.27667934e-01,  2.32374242e-01,  2.35297985e-01,  2.36533208e-01,\n",
       "        2.37710544e-01,  2.39293033e-01,  2.43140960e-01,  2.43485062e-01,\n",
       "        2.44373110e-01,  2.44883844e-01,  2.45490013e-01,  2.46998885e-01,\n",
       "        2.50566834e-01,  2.54037900e-01,  2.54449282e-01,  2.56225548e-01,\n",
       "        2.57418136e-01,  2.64454560e-01,  2.65710145e-01,  2.66407326e-01,\n",
       "        2.69470459e-01,  2.69590099e-01,  2.72042804e-01,  2.73190906e-01,\n",
       "        2.75793516e-01,  2.77637265e-01,  2.79331787e-01,  2.82421879e-01,\n",
       "        2.83509411e-01,  2.85255734e-01,  2.85658113e-01,  2.89037558e-01,\n",
       "        2.97929656e-01,  2.98180327e-01,  2.98640677e-01,  2.98646038e-01,\n",
       "        2.98704791e-01,  3.00671141e-01,  3.07882950e-01,  3.09522319e-01,\n",
       "        3.16211213e-01,  3.21143630e-01,  3.22942328e-01,  3.29231815e-01,\n",
       "        3.31609932e-01,  3.37593490e-01,  3.38292148e-01,  3.38625117e-01,\n",
       "        3.41124287e-01,  3.41812751e-01,  3.42073646e-01,  3.43229334e-01,\n",
       "        3.45487289e-01,  3.45761722e-01,  3.48238901e-01,  3.51306826e-01,\n",
       "        3.51608876e-01,  3.54651585e-01,  3.55847721e-01,  3.57925182e-01,\n",
       "        3.62543128e-01,  3.63736807e-01,  3.66913876e-01,  3.78727247e-01,\n",
       "        3.78964814e-01,  3.82416702e-01,  3.82989085e-01,  3.87070539e-01,\n",
       "        3.87218338e-01,  3.88167155e-01,  3.88496745e-01,  3.88848575e-01,\n",
       "        3.89727529e-01,  3.91831238e-01,  3.97737100e-01,  3.97753917e-01,\n",
       "        3.99712781e-01,  3.99816493e-01,  4.05131167e-01,  4.05372870e-01,\n",
       "        4.05910040e-01,  4.06059038e-01,  4.07567826e-01,  4.08629445e-01,\n",
       "        4.08926039e-01,  4.14769054e-01,  4.14819027e-01,  4.20199294e-01,\n",
       "        4.23871013e-01,  4.37964447e-01,  4.48736000e-01,  4.52768413e-01,\n",
       "        4.52838273e-01,  4.55377103e-01,  4.55939424e-01,  4.56891304e-01,\n",
       "        4.59640997e-01,  4.60789917e-01,  4.66320579e-01,  4.68846493e-01,\n",
       "        4.71378329e-01,  4.76160231e-01,  4.76614470e-01,  4.76869452e-01,\n",
       "        4.81350813e-01,  4.90950487e-01,  4.91644800e-01,  4.92453773e-01,\n",
       "        4.94156924e-01,  4.98314271e-01,  4.98786954e-01,  4.99046390e-01,\n",
       "        5.01556995e-01,  5.03351089e-01,  5.11470411e-01,  5.25634771e-01,\n",
       "        5.26002109e-01,  5.26347836e-01,  5.28544330e-01,  5.29814259e-01,\n",
       "        5.31335052e-01,  5.37080145e-01,  5.40124211e-01,  5.40523694e-01,\n",
       "        5.43847653e-01,  5.46875457e-01,  5.61911909e-01,  5.69887299e-01,\n",
       "        5.70683020e-01,  5.77664181e-01,  5.81897237e-01,  5.83501957e-01,\n",
       "        5.83506729e-01,  5.86002216e-01,  5.91670365e-01,  5.93234536e-01,\n",
       "        5.94659233e-01,  5.98481636e-01,  6.01629776e-01,  6.09119614e-01,\n",
       "        6.11860533e-01,  6.15427127e-01,  6.15750888e-01,  6.18423516e-01,\n",
       "        6.18801951e-01,  6.19594112e-01,  6.20484754e-01,  6.22730362e-01,\n",
       "        6.30212616e-01,  6.36632870e-01,  6.38597286e-01,  6.42217268e-01,\n",
       "        6.50331615e-01,  6.57571287e-01,  6.59933130e-01,  6.64210872e-01,\n",
       "        6.68437310e-01,  6.69330139e-01,  6.73822184e-01,  6.74664252e-01,\n",
       "        6.75742175e-01,  6.86542392e-01,  7.01543919e-01,  7.05641087e-01,\n",
       "        7.11073412e-01,  7.12835338e-01,  7.19879378e-01,  7.22275674e-01,\n",
       "        7.25444735e-01,  7.31790318e-01,  7.39102820e-01,  7.41371826e-01,\n",
       "        7.42427533e-01,  7.43239858e-01,  7.52149218e-01,  7.53363310e-01,\n",
       "        7.54480531e-01,  7.55603068e-01,  7.56014556e-01,  7.60607704e-01,\n",
       "        7.60677467e-01,  7.61738268e-01,  7.63090799e-01,  7.71626919e-01,\n",
       "        7.75833991e-01,  7.77466222e-01,  7.78936573e-01,  7.81441975e-01,\n",
       "        7.81597410e-01,  7.84372149e-01,  7.87836076e-01,  7.93247820e-01,\n",
       "        8.06735352e-01,  8.07616763e-01,  8.14595838e-01,  8.21361126e-01,\n",
       "        8.27898912e-01,  8.42289534e-01,  8.42408416e-01,  8.43681205e-01,\n",
       "        8.51407307e-01,  8.54516610e-01,  8.55909194e-01,  8.61704937e-01,\n",
       "        8.63932927e-01,  8.67059639e-01,  8.74665140e-01,  8.78611251e-01,\n",
       "        8.79066764e-01,  8.82337554e-01,  8.83256633e-01,  8.85391901e-01,\n",
       "        8.85639980e-01,  8.86060410e-01,  8.87393529e-01,  8.93399342e-01,\n",
       "        9.01219693e-01,  9.03592615e-01,  9.08344329e-01,  9.09185639e-01,\n",
       "        9.09658147e-01,  9.09816263e-01,  9.10720132e-01,  9.12126053e-01,\n",
       "        9.17446681e-01,  9.20411202e-01,  9.24908061e-01,  9.27469150e-01,\n",
       "        9.28184802e-01,  9.33320570e-01,  9.35353072e-01,  9.35968811e-01,\n",
       "        9.40774138e-01,  9.48498868e-01,  9.52160308e-01,  9.54811937e-01,\n",
       "        9.56358398e-01,  9.62412499e-01,  9.64042724e-01,  9.65480652e-01,\n",
       "        9.66464708e-01,  9.69439970e-01,  9.70465804e-01,  9.72613326e-01,\n",
       "        9.76591519e-01,  9.85327284e-01,  9.85677631e-01,  9.88014629e-01,\n",
       "        9.90825887e-01,  9.97204303e-01,  1.00001115e+00,  1.00451534e+00,\n",
       "        1.01415470e+00,  1.01978463e+00,  1.02658885e+00,  1.03292973e+00,\n",
       "        1.03465013e+00,  1.03484927e+00,  1.03701832e+00,  1.04100342e+00,\n",
       "        1.04506639e+00,  1.04520864e+00,  1.04545066e+00,  1.05081419e+00,\n",
       "        1.05608056e+00,  1.06412867e+00,  1.06781902e+00,  1.06887305e+00,\n",
       "        1.07724073e+00,  1.08157562e+00,  1.08336175e+00,  1.08872992e+00,\n",
       "        1.09151832e+00,  1.09379400e+00,  1.09713304e+00,  1.10173374e+00,\n",
       "        1.11131282e+00,  1.11854229e+00,  1.12192012e+00,  1.13346331e+00,\n",
       "        1.13949548e+00,  1.16355155e+00,  1.16366102e+00,  1.16375721e+00,\n",
       "        1.16447566e+00,  1.16522491e+00,  1.17576800e+00,  1.17724701e+00,\n",
       "        1.19077770e+00,  1.19705168e+00,  1.20425479e+00,  1.21081794e+00,\n",
       "        1.21280523e+00,  1.21401051e+00,  1.22693541e+00,  1.22710992e+00,\n",
       "        1.22784189e+00,  1.22843004e+00,  1.23400947e+00,  1.24582277e+00,\n",
       "        1.25574172e+00,  1.26246593e+00,  1.26361043e+00,  1.26393862e+00,\n",
       "        1.27949633e+00,  1.27967145e+00,  1.29068275e+00,  1.29358476e+00,\n",
       "        1.30324823e+00,  1.31317139e+00,  1.32654708e+00,  1.32969044e+00,\n",
       "        1.34321176e+00,  1.34439856e+00,  1.35995123e+00,  1.36647033e+00,\n",
       "        1.37734911e+00,  1.38218312e+00,  1.38969613e+00,  1.39057978e+00,\n",
       "        1.39301486e+00,  1.40213155e+00,  1.40353109e+00,  1.40901098e+00,\n",
       "        1.41725917e+00,  1.42308649e+00,  1.42398501e+00,  1.43446310e+00,\n",
       "        1.44677784e+00,  1.45451994e+00,  1.45937614e+00,  1.46548752e+00,\n",
       "        1.47828703e+00,  1.48599561e+00,  1.49661749e+00,  1.50870488e+00,\n",
       "        1.52340347e+00,  1.52831941e+00,  1.53854884e+00,  1.54344996e+00,\n",
       "        1.55049628e+00,  1.56124945e+00,  1.57276953e+00,  1.57421513e+00,\n",
       "        1.58077133e+00,  1.58721890e+00,  1.59563924e+00,  1.59767754e+00,\n",
       "        1.61326049e+00,  1.61544832e+00,  1.61573873e+00,  1.62501784e+00,\n",
       "        1.66263379e+00,  1.66617085e+00,  1.66753470e+00,  1.67328342e+00,\n",
       "        1.68319487e+00,  1.69578425e+00,  1.69791827e+00,  1.70331699e+00,\n",
       "        1.70629515e+00,  1.71095099e+00,  1.72200304e+00,  1.72206379e+00,\n",
       "        1.74714643e+00,  1.75127266e+00,  1.76640191e+00,  1.77719059e+00,\n",
       "        1.78709322e+00,  1.79223377e+00,  1.79497282e+00,  1.79893628e+00,\n",
       "        1.82866713e+00,  1.84999711e+00,  1.85948810e+00,  1.86764395e+00,\n",
       "        1.86934380e+00,  1.89065881e+00,  1.89119051e+00,  1.89557728e+00,\n",
       "        1.90129480e+00,  2.00265553e+00,  2.00958195e+00,  2.02635249e+00,\n",
       "        2.08156605e+00,  2.18510730e+00,  2.22194538e+00,  2.24224423e+00,\n",
       "        2.25337042e+00,  2.27045665e+00,  2.27521324e+00,  2.27529585e+00,\n",
       "        2.32275160e+00,  2.37401111e+00,  2.38753914e+00,  2.41882852e+00,\n",
       "        2.43524207e+00,  2.43567876e+00,  2.43812171e+00,  2.51217373e+00,\n",
       "        2.51369991e+00,  2.54004473e+00,  2.56755705e+00,  2.59267670e+00,\n",
       "        2.59721109e+00,  2.61740736e+00,  2.61890372e+00,  2.64615754e+00,\n",
       "        2.67284519e+00,  2.67644176e+00,  2.87089355e+00,  3.28998732e+00])"
      ]
     },
     "execution_count": 48,
     "metadata": {},
     "output_type": "execute_result"
    }
   ],
   "source": [
    "large_arr.sort()\n",
    "large_arr"
   ]
  },
  {
   "cell_type": "code",
   "execution_count": 49,
   "metadata": {},
   "outputs": [
    {
     "data": {
      "text/plain": [
       "-1.7040366431891216"
      ]
     },
     "execution_count": 49,
     "metadata": {},
     "output_type": "execute_result"
    }
   ],
   "source": [
    "large_arr[int(0.05 * len(large_arr))] # 5% quantile"
   ]
  },
  {
   "cell_type": "markdown",
   "metadata": {},
   "source": [
    "### Unique and other set logic\n",
    "- 집합 함수"
   ]
  },
  {
   "cell_type": "code",
   "execution_count": 51,
   "metadata": {},
   "outputs": [
    {
     "data": {
      "text/plain": [
       "array(['Bob', 'Joe', 'Will', 'Bob', 'Will', 'Joe', 'Joe'], dtype='<U4')"
      ]
     },
     "execution_count": 51,
     "metadata": {},
     "output_type": "execute_result"
    }
   ],
   "source": [
    "names = np.array(['Bob', 'Joe', 'Will', 'Bob', 'Will', 'Joe', 'Joe'])\n",
    "names"
   ]
  },
  {
   "cell_type": "code",
   "execution_count": 52,
   "metadata": {},
   "outputs": [
    {
     "data": {
      "text/plain": [
       "array(['Bob', 'Joe', 'Will'], dtype='<U4')"
      ]
     },
     "execution_count": 52,
     "metadata": {},
     "output_type": "execute_result"
    }
   ],
   "source": [
    "np.unique(names) #중복 허용 안함"
   ]
  },
  {
   "cell_type": "code",
   "execution_count": 53,
   "metadata": {},
   "outputs": [],
   "source": [
    "ints = np.array([3, 3, 3, 2, 2, 1, 1, 4, 4])"
   ]
  },
  {
   "cell_type": "code",
   "execution_count": 54,
   "metadata": {},
   "outputs": [
    {
     "data": {
      "text/plain": [
       "array([1, 2, 3, 4])"
      ]
     },
     "execution_count": 54,
     "metadata": {},
     "output_type": "execute_result"
    }
   ],
   "source": [
    "np.unique(ints)"
   ]
  },
  {
   "cell_type": "code",
   "execution_count": 55,
   "metadata": {},
   "outputs": [
    {
     "data": {
      "text/plain": [
       "['Bob', 'Joe', 'Will']"
      ]
     },
     "execution_count": 55,
     "metadata": {},
     "output_type": "execute_result"
    }
   ],
   "source": [
    "sorted(set(names)) #alphabetical order"
   ]
  },
  {
   "cell_type": "code",
   "execution_count": 56,
   "metadata": {},
   "outputs": [
    {
     "data": {
      "text/plain": [
       "array([6, 0, 0, 3, 2, 5, 6])"
      ]
     },
     "execution_count": 56,
     "metadata": {},
     "output_type": "execute_result"
    }
   ],
   "source": [
    "values = np.array([6, 0, 0, 3, 2, 5, 6])\n",
    "values"
   ]
  },
  {
   "cell_type": "code",
   "execution_count": 57,
   "metadata": {},
   "outputs": [
    {
     "data": {
      "text/plain": [
       "array([ True, False, False,  True,  True, False,  True])"
      ]
     },
     "execution_count": 57,
     "metadata": {},
     "output_type": "execute_result"
    }
   ],
   "source": [
    "np.in1d(values, [2, 3, 6])\n",
    "#위에 value에 2,3,6이 있으면 true, 아니면 False"
   ]
  },
  {
   "cell_type": "code",
   "execution_count": null,
   "metadata": {},
   "outputs": [],
   "source": []
  }
 ],
 "metadata": {
  "kernelspec": {
   "display_name": "Python 3",
   "language": "python",
   "name": "python3"
  },
  "language_info": {
   "codemirror_mode": {
    "name": "ipython",
    "version": 3
   },
   "file_extension": ".py",
   "mimetype": "text/x-python",
   "name": "python",
   "nbconvert_exporter": "python",
   "pygments_lexer": "ipython3",
   "version": "3.7.3"
  }
 },
 "nbformat": 4,
 "nbformat_minor": 2
}
