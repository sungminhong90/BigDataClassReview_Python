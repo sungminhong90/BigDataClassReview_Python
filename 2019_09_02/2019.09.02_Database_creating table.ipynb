{
 "cells": [
  {
   "cell_type": "markdown",
   "metadata": {},
   "source": [
    "## 데이터베이스, DB SQL\n",
    "- 데이터베이스 및 테이블 생성"
   ]
  },
  {
   "cell_type": "markdown",
   "metadata": {},
   "source": [
    "## SQLITE3"
   ]
  },
  {
   "cell_type": "code",
   "execution_count": 2,
   "metadata": {},
   "outputs": [],
   "source": [
    "import sqlite3\n",
    "\n",
    "db_name = './database/my_books.db'"
   ]
  },
  {
   "cell_type": "markdown",
   "metadata": {},
   "source": [
    "### 테이블생성"
   ]
  },
  {
   "cell_type": "code",
   "execution_count": 3,
   "metadata": {},
   "outputs": [],
   "source": [
    "def create_table(db_name, db_sql):\n",
    "    \"\"\"\n",
    "    데이터베이스 테이블을 생성한느 함수\n",
    "    Args:\n",
    "        db_name:Database Name\n",
    "        db_sql: Query for creating Table\n",
    "    Returns:\n",
    "        is_success: Booleen\n",
    "    \"\"\"\n",
    "    is_success = True\n",
    "    \n",
    "    try:\n",
    "        #데이터베이스 커낵션 생성\n",
    "        conn = sqlite3.connect(db_name)\n",
    "        #커서확보\n",
    "        cur=conn.cursor()\n",
    "        #테이블생성\n",
    "        cur.execute(db_sql)\n",
    "        \n",
    "    #except OperationalError as e:\n",
    "    #     is_success = False\n",
    "    #     print('Error:', e)\n",
    "    \n",
    "    except:\n",
    "        is_success = False\n",
    "        print(\"Database Error!\")\n",
    "        \n",
    "    finally:\n",
    "        if is_success:\n",
    "            #데이터베이스 반영\n",
    "            conn.commit()\n",
    "        else:\n",
    "            #데이터베이스 철회\n",
    "            conn.rollback()\n",
    "            \n",
    "        #데이터베이스 커넥션 닫기\n",
    "        #print('Finish process of function.')\n",
    "        conn.close()\n",
    "        \n",
    "    return is_success"
   ]
  },
  {
   "cell_type": "code",
   "execution_count": 4,
   "metadata": {},
   "outputs": [],
   "source": [
    "import os\n",
    "from os.path import exists"
   ]
  },
  {
   "cell_type": "code",
   "execution_count": 5,
   "metadata": {},
   "outputs": [
    {
     "name": "stdout",
     "output_type": "stream",
     "text": [
      "[database]은(는) 이미 존재합니다.\n"
     ]
    }
   ],
   "source": [
    "dir_name = 'database'\n",
    "\n",
    "if not exists(dir_name):\n",
    "    os.mkdir(dir_name)\n",
    "    print('[%s] 디렉터리를 생성했습니다.' %dir_name)\n",
    "else:\n",
    "    print('[%s]은(는) 이미 존재합니다.' %dir_name)"
   ]
  },
  {
   "cell_type": "code",
   "execution_count": 6,
   "metadata": {},
   "outputs": [],
   "source": [
    "# Database 파일 삭제\n",
    "#db_name= './database/my_books.db'\n",
    "#os.remove(db_name)"
   ]
  },
  {
   "cell_type": "code",
   "execution_count": 7,
   "metadata": {},
   "outputs": [
    {
     "name": "stdout",
     "output_type": "stream",
     "text": [
      "테이블이 성공적으로 생성되었습니다.\n"
     ]
    }
   ],
   "source": [
    "db_sql = '''\n",
    "CREATE TABLE my_books (\n",
    "    title text,\n",
    "    published_date text,\n",
    "    publisher text,\n",
    "    pages integer,\n",
    "    recommendation integer\n",
    ")\n",
    "'''\n",
    "\n",
    "if create_table(db_name, db_sql):\n",
    "    print('테이블이 성공적으로 생성되었습니다.')\n",
    "else:\n",
    "    print('테이블이 생성되지 않았습니다')"
   ]
  },
  {
   "cell_type": "code",
   "execution_count": 8,
   "metadata": {},
   "outputs": [
    {
     "name": "stdout",
     "output_type": "stream",
     "text": [
      " C 드라이브의 볼륨: Windows\n",
      " 볼륨 일련 번호: C4A4-A77A\n",
      "\n",
      " C:\\Users\\LGULTRA\\anaconda_src\\database 디렉터리\n",
      "\n",
      "2019-09-02  오후 06:17    <DIR>          .\n",
      "2019-09-02  오후 06:17    <DIR>          ..\n",
      "2019-09-02  오후 06:17             8,192 my_books.db\n",
      "               1개 파일               8,192 바이트\n",
      "               2개 디렉터리  127,869,906,944 바이트 남음\n"
     ]
    }
   ],
   "source": [
    "%ls database"
   ]
  },
  {
   "cell_type": "code",
   "execution_count": null,
   "metadata": {},
   "outputs": [],
   "source": []
  }
 ],
 "metadata": {
  "kernelspec": {
   "display_name": "Python 3",
   "language": "python",
   "name": "python3"
  },
  "language_info": {
   "codemirror_mode": {
    "name": "ipython",
    "version": 3
   },
   "file_extension": ".py",
   "mimetype": "text/x-python",
   "name": "python",
   "nbconvert_exporter": "python",
   "pygments_lexer": "ipython3",
   "version": "3.7.3"
  }
 },
 "nbformat": 4,
 "nbformat_minor": 2
}
