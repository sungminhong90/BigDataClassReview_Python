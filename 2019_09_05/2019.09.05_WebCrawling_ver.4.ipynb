{
 "cells": [
  {
   "cell_type": "markdown",
   "metadata": {},
   "source": [
    "## 웹 스크레이핑을 위한 기본 지식 \n",
    "### 웹사이트에서 순위 데이터 가져오기"
   ]
  },
  {
   "cell_type": "code",
   "execution_count": 1,
   "metadata": {},
   "outputs": [],
   "source": [
    "import glob\n",
    "import time\n",
    "from datetime import datetime\n",
    "\n",
    "import os\n",
    "from os.path import exists\n",
    "\n",
    "import requests\n",
    "from bs4 import BeautifulSoup"
   ]
  },
  {
   "cell_type": "markdown",
   "metadata": {},
   "source": [
    "#### 주간 음악 순위 : NAVER MUSIC TOP 100 "
   ]
  },
  {
   "cell_type": "code",
   "execution_count": 2,
   "metadata": {},
   "outputs": [
    {
     "data": {
      "text/plain": [
       "<title>TOP 100 차트 히스토리 : 네이버 뮤직</title>"
      ]
     },
     "execution_count": 2,
     "metadata": {},
     "output_type": "execute_result"
    }
   ],
   "source": [
    "url = 'https://music.naver.com/listen/history/index.nhn?type=TOTAL_V2&year=2019&month=08&week=0'\n",
    "\n",
    "html_music = requests.get(url).text\n",
    "soup_music = BeautifulSoup(html_music, 'lxml')\n",
    "soup_music.title"
   ]
  },
  {
   "cell_type": "markdown",
   "metadata": {},
   "source": [
    "### # _title 정보"
   ]
  },
  {
   "cell_type": "code",
   "execution_count": 3,
   "metadata": {},
   "outputs": [
    {
     "data": {
      "text/plain": [
       "50"
      ]
     },
     "execution_count": 3,
     "metadata": {},
     "output_type": "execute_result"
    }
   ],
   "source": [
    "# a 태그의 요소 중에서 class 속성값이 \"_title\" 인 것을 찾고\n",
    "# 그 안에서 span 태그의 요소 중에서 class 속성값이 \"ellipsis\"인 요소를 추출\n",
    "\n",
    "titles = soup_music.select('a._title span.ellipsis')\n",
    "len(titles)"
   ]
  },
  {
   "cell_type": "code",
   "execution_count": 4,
   "metadata": {},
   "outputs": [
    {
     "data": {
      "text/plain": [
       "[<span class=\"ellipsis\">그대라는 시</span>,\n",
       " <span class=\"ellipsis\">술이 문제야</span>,\n",
       " <span class=\"ellipsis\">ICY</span>,\n",
       " <span class=\"ellipsis\">헤어져줘서 고마워</span>,\n",
       " <span class=\"ellipsis\">기억해줘요 내 모든 날과 그때를</span>,\n",
       " <span class=\"ellipsis\">2002</span>,\n",
       " <span class=\"ellipsis\">나의 어깨에 기대어요</span>,\n",
       " <span class=\"ellipsis\">니 소식</span>,\n",
       " <span class=\"ellipsis\">사랑에 연습이 있었다면 (Prod. 2soo)</span>,\n",
       " <span class=\"ellipsis\">Snapping</span>]"
      ]
     },
     "execution_count": 4,
     "metadata": {},
     "output_type": "execute_result"
    }
   ],
   "source": [
    "titles[0:10]"
   ]
  },
  {
   "cell_type": "code",
   "execution_count": 5,
   "metadata": {},
   "outputs": [],
   "source": [
    "music_titles = [title.get_text() for title in titles]"
   ]
  },
  {
   "cell_type": "code",
   "execution_count": 6,
   "metadata": {},
   "outputs": [
    {
     "data": {
      "text/plain": [
       "['그대라는 시',\n",
       " '술이 문제야',\n",
       " 'ICY',\n",
       " '헤어져줘서 고마워',\n",
       " '기억해줘요 내 모든 날과 그때를',\n",
       " '2002',\n",
       " '나의 어깨에 기대어요',\n",
       " '니 소식',\n",
       " '사랑에 연습이 있었다면 (Prod. 2soo)',\n",
       " 'Snapping']"
      ]
     },
     "execution_count": 6,
     "metadata": {},
     "output_type": "execute_result"
    }
   ],
   "source": [
    "music_titles[0:10]"
   ]
  },
  {
   "cell_type": "markdown",
   "metadata": {},
   "source": [
    "### # _artist 정보"
   ]
  },
  {
   "cell_type": "code",
   "execution_count": 8,
   "metadata": {},
   "outputs": [],
   "source": [
    "# a 태그의 요소 중에서 class 속성값이 \"_artist\" 인 것을 찾고\n",
    "# 그 안에서 span 태그의 요소 중에서 class 속성값이 \"ellipsis\"인 요소를 추출\n",
    "artists = soup_music.select('a._artist span.ellipsis') "
   ]
  },
  {
   "cell_type": "code",
   "execution_count": 9,
   "metadata": {},
   "outputs": [
    {
     "data": {
      "text/plain": [
       "'\\r\\n\\t\\t\\t\\r\\n\\t\\t\\t\\r\\n\\t\\t\\t태연 (TAEYEON)\\r\\n\\t\\t'"
      ]
     },
     "execution_count": 9,
     "metadata": {},
     "output_type": "execute_result"
    }
   ],
   "source": [
    "artists[0].get_text()"
   ]
  },
  {
   "cell_type": "code",
   "execution_count": 10,
   "metadata": {},
   "outputs": [
    {
     "data": {
      "text/plain": [
       "'태연 (TAEYEON)'"
      ]
     },
     "execution_count": 10,
     "metadata": {},
     "output_type": "execute_result"
    }
   ],
   "source": [
    "artists[0].get_text().strip()"
   ]
  },
  {
   "cell_type": "code",
   "execution_count": 11,
   "metadata": {},
   "outputs": [],
   "source": [
    "music_artists = [artist.get_text().strip() for artist in artists]"
   ]
  },
  {
   "cell_type": "code",
   "execution_count": 12,
   "metadata": {},
   "outputs": [
    {
     "data": {
      "text/plain": [
       "42"
      ]
     },
     "execution_count": 12,
     "metadata": {},
     "output_type": "execute_result"
    }
   ],
   "source": [
    "len(music_artists) #숫자가 안맞는다 "
   ]
  },
  {
   "cell_type": "code",
   "execution_count": 13,
   "metadata": {},
   "outputs": [
    {
     "data": {
      "text/plain": [
       "['잔나비',\n",
       " '헤이즈 (Heize)',\n",
       " 'Shawn Mendes',\n",
       " '볼빨간사춘기',\n",
       " '벤',\n",
       " '전소미',\n",
       " '먼데이키즈(Monday Kiz)',\n",
       " '장범준',\n",
       " 'TWICE(트와이스)',\n",
       " 'IZ*ONE(아이즈원)']"
      ]
     },
     "execution_count": 13,
     "metadata": {},
     "output_type": "execute_result"
    }
   ],
   "source": [
    "music_artists[-10:]"
   ]
  },
  {
   "cell_type": "markdown",
   "metadata": {},
   "source": [
    "### # _artist 정보 → again"
   ]
  },
  {
   "cell_type": "code",
   "execution_count": 14,
   "metadata": {},
   "outputs": [
    {
     "data": {
      "text/plain": [
       "50"
      ]
     },
     "execution_count": 14,
     "metadata": {},
     "output_type": "execute_result"
    }
   ],
   "source": [
    "# td 태그의 요소 중에서 class 속성값이 \"_artist\" 인 것을 찾고\n",
    "# 그 안에서 a 태그의 요소를 추출\n",
    "artists = soup_music.select('td._artist a')\n",
    "len(artists)"
   ]
  },
  {
   "cell_type": "code",
   "execution_count": 15,
   "metadata": {},
   "outputs": [
    {
     "data": {
      "text/plain": [
       "<a class=\"_artist NPI=a:artist,r:1,i:35551\" href=\"/artist/home.nhn?artistId=35551\" title=\"태연 (TAEYEON)\">\n",
       "<span class=\"ellipsis\">\n",
       "\t\t\t\n",
       "\t\t\t\n",
       "\t\t\t태연 (TAEYEON)\n",
       "\t\t</span>\n",
       "</a>"
      ]
     },
     "execution_count": 15,
     "metadata": {},
     "output_type": "execute_result"
    }
   ],
   "source": [
    "artists[0]"
   ]
  },
  {
   "cell_type": "code",
   "execution_count": 16,
   "metadata": {},
   "outputs": [
    {
     "data": {
      "text/plain": [
       "<a alt=\"\" class=\"NPI=a:layerbtn,r:11\" href=\"javascript:void(0);\" title=\"\">방탄소년단</a>"
      ]
     },
     "execution_count": 16,
     "metadata": {},
     "output_type": "execute_result"
    }
   ],
   "source": [
    "artists[10]"
   ]
  },
  {
   "cell_type": "code",
   "execution_count": 17,
   "metadata": {},
   "outputs": [
    {
     "data": {
      "text/plain": [
       "'태연 (TAEYEON)'"
      ]
     },
     "execution_count": 17,
     "metadata": {},
     "output_type": "execute_result"
    }
   ],
   "source": [
    "artists[0].get_text().strip()"
   ]
  },
  {
   "cell_type": "code",
   "execution_count": 18,
   "metadata": {},
   "outputs": [
    {
     "data": {
      "text/plain": [
       "'방탄소년단'"
      ]
     },
     "execution_count": 18,
     "metadata": {},
     "output_type": "execute_result"
    }
   ],
   "source": [
    "artists[10].get_text().strip()"
   ]
  },
  {
   "cell_type": "code",
   "execution_count": 19,
   "metadata": {},
   "outputs": [
    {
     "data": {
      "text/plain": [
       "50"
      ]
     },
     "execution_count": 19,
     "metadata": {},
     "output_type": "execute_result"
    }
   ],
   "source": [
    "music_artists = [artist.get_text().strip() for artist in artists]\n",
    "len(music_artists)"
   ]
  },
  {
   "cell_type": "code",
   "execution_count": 20,
   "metadata": {},
   "outputs": [
    {
     "data": {
      "text/plain": [
       "['태연 (TAEYEON)',\n",
       " '장혜진',\n",
       " 'ITZY(있지)',\n",
       " '벤',\n",
       " '거미',\n",
       " 'Anne-Marie',\n",
       " '10cm',\n",
       " '송하예',\n",
       " '임재현',\n",
       " '청하']"
      ]
     },
     "execution_count": 20,
     "metadata": {},
     "output_type": "execute_result"
    }
   ],
   "source": [
    "music_artists[0:10]"
   ]
  },
  {
   "cell_type": "markdown",
   "metadata": {},
   "source": [
    "### 한꺼번에 가져와 보쟈!!!!"
   ]
  },
  {
   "cell_type": "code",
   "execution_count": 21,
   "metadata": {},
   "outputs": [
    {
     "name": "stdout",
     "output_type": "stream",
     "text": [
      "1: 그대라는 시 / 태연 (TAEYEON)\n",
      "2: 술이 문제야 / 장혜진\n",
      "3: ICY / ITZY(있지)\n",
      "4: 헤어져줘서 고마워 / 벤\n",
      "5: 기억해줘요 내 모든 날과 그때를 / 거미\n",
      "6: 나의 어깨에 기대어요 / 10cm\n",
      "7: 니 소식 / 송하예\n",
      "8: 사랑에 연습이 있었다면 (Prod. 2soo) / 임재현\n",
      "9: Snapping / 청하\n",
      "10: 작은 것들을 위한 시 (Boy With Luv) (Feat. Halsey) / 방탄소년단\n"
     ]
    }
   ],
   "source": [
    "# url = 'https://music.naver.com/listen/history/index.nhn?type=OVERSEA_V2&year=2019&month=08&week=4'\n",
    "# url = 'https://music.naver.com/listen/history/index.nhn?type=DOMESTIC_V2&year=2019&month=08&week=4'\n",
    "# url = 'https://music.naver.com/listen/history/index.nhn?type=TOTAL_V2&year=2019&month=08&week=0'\n",
    "\n",
    "type_dict = { '종합' : 'TOTAL_V2', \n",
    "              '국내' : 'DOMESTIC_V2', \n",
    "              '해외' : 'OVERSEA_V2'  } \n",
    "\n",
    "url = 'https://music.naver.com/listen/history/index.nhn?type={type}&year={year}&month={month}&week={week}'.format(\n",
    "            type  = type_dict['국내'], \n",
    "            year  = '2019',\n",
    "            month = '08',\n",
    "            week  = '0' \n",
    "       )\n",
    "\n",
    "html_music = requests.get(url).text\n",
    "soup_music = BeautifulSoup(html_music, \"lxml\")\n",
    "\n",
    "titles  = soup_music.select('a._title span.ellipsis') \n",
    "artists = soup_music.select('td._artist a')\n",
    "\n",
    "music_titles  = [title.get_text() for title in titles]\n",
    "music_artists = [artist.get_text().strip() for artist in artists]\n",
    "\n",
    "for k in range(10):\n",
    "    print(\"{0}: {1} / {2}\".format(k+1, music_titles[k], music_artists[k]))"
   ]
  },
  {
   "cell_type": "code",
   "execution_count": 22,
   "metadata": {},
   "outputs": [],
   "source": [
    "music_titles_artists={}\n",
    "ranking = 0\n",
    "\n",
    "for (music_title, music_artist) in zip(music_titles, music_artists):\n",
    "    ranking += 1\n",
    "    music_titles_artists[ranking] = [music_title, music_artist]"
   ]
  },
  {
   "cell_type": "code",
   "execution_count": 23,
   "metadata": {},
   "outputs": [
    {
     "data": {
      "text/plain": [
       "['그대라는 시', '태연 (TAEYEON)']"
      ]
     },
     "execution_count": 23,
     "metadata": {},
     "output_type": "execute_result"
    }
   ],
   "source": [
    "music_titles_artists[1]"
   ]
  },
  {
   "cell_type": "code",
   "execution_count": 24,
   "metadata": {},
   "outputs": [
    {
     "data": {
      "text/plain": [
       "['작은 것들을 위한 시 (Boy With Luv) (Feat. Halsey)', '방탄소년단']"
      ]
     },
     "execution_count": 24,
     "metadata": {},
     "output_type": "execute_result"
    }
   ],
   "source": [
    "music_titles_artists[10]"
   ]
  },
  {
   "cell_type": "code",
   "execution_count": 25,
   "metadata": {},
   "outputs": [
    {
     "data": {
      "text/plain": [
       "(2019, 9, 5)"
      ]
     },
     "execution_count": 25,
     "metadata": {},
     "output_type": "execute_result"
    }
   ],
   "source": [
    "now = datetime.now()\n",
    "now.year, now.month, now.day"
   ]
  },
  {
   "cell_type": "code",
   "execution_count": 26,
   "metadata": {},
   "outputs": [
    {
     "data": {
      "text/plain": [
       "(int, int, int)"
      ]
     },
     "execution_count": 26,
     "metadata": {},
     "output_type": "execute_result"
    }
   ],
   "source": [
    "type(now.year), type(now.month), type(now.day)"
   ]
  },
  {
   "cell_type": "code",
   "execution_count": 27,
   "metadata": {},
   "outputs": [
    {
     "data": {
      "text/plain": [
       "'12'"
      ]
     },
     "execution_count": 27,
     "metadata": {},
     "output_type": "execute_result"
    }
   ],
   "source": [
    "month = now.month\n",
    "month = 12\n",
    "month = str(1) if not str(month).isdigit() else str(month)\n",
    "month = '0'+month if len(month)==1 else month\n",
    "month"
   ]
  },
  {
   "cell_type": "markdown",
   "metadata": {},
   "source": [
    "### # OK, 문제가 없다면 모듈화 해볼까요?"
   ]
  },
  {
   "cell_type": "code",
   "execution_count": 28,
   "metadata": {},
   "outputs": [],
   "source": [
    "type_dict = { '종합' : 'TOTAL_V2', \n",
    "              '국내' : 'DOMESTIC_V2', \n",
    "              '해외' : 'OVERSEA_V2'  } \n",
    "\n",
    "# 네이버 music 주소를 입력하면 노래 제목과 아티스트를 반환\n",
    "# def naver_music(url):\n",
    "def naver_music(type='종합', year=2019, month=1, week=0, page=1):\n",
    "    \n",
    "    now = datetime.now()\n",
    "    year  = str(now.year) if not str(year).isdigit() else str(year)\n",
    "    month = str(1) if not str(month).isdigit() else str(month)\n",
    "    month = '0'+month if len(month)==1 else month\n",
    "    week  = str(0) if not str(week).isdigit() else str(week)\n",
    "    \n",
    "    url = 'https://music.naver.com/listen/history/index.nhn?type={type}&year={year}&month={month}&week={week}&page={page}'\n",
    "    url =  url.format(\n",
    "            type  = type_dict['국내'], \n",
    "            year  = year,\n",
    "            month = month,\n",
    "            week  = week,\n",
    "            page  = page\n",
    "       )\n",
    "    print(url)\n",
    "    \n",
    "    html_music = requests.get(url).text\n",
    "    soup_music = BeautifulSoup(html_music, \"lxml\")\n",
    "\n",
    "    titles = soup_music.select('a._title span.ellipsis') \n",
    "    artists = soup_music.select('td._artist a')\n",
    "\n",
    "    music_titles  = [ title.get_text().strip()  for title  in titles  ]\n",
    "    music_artists = [ artist.get_text().strip() for artist in artists ]\n",
    "    \n",
    "    return music_titles, music_artists"
   ]
  },
  {
   "cell_type": "code",
   "execution_count": 29,
   "metadata": {},
   "outputs": [
    {
     "name": "stdout",
     "output_type": "stream",
     "text": [
      "https://music.naver.com/listen/history/index.nhn?type=DOMESTIC_V2&year=2019&month=08&week=0&page=1\n",
      "https://music.naver.com/listen/history/index.nhn?type=DOMESTIC_V2&year=2019&month=08&week=0&page=2\n"
     ]
    },
    {
     "data": {
      "text/plain": [
       "['./data/NaverMusicTop100.txt']"
      ]
     },
     "execution_count": 29,
     "metadata": {},
     "output_type": "execute_result"
    }
   ],
   "source": [
    "# 노래 제목과 아티스트를 저장할 파일 이름을 폴더와 함께 지정\n",
    "file_name = './data/NaverMusicTop100.txt'\n",
    "if exists(file_name): os.remove(file_name)\n",
    "\n",
    "f = open(file_name,'w') # 파일 열기\n",
    "\n",
    "# 각 page에는 50개의 노래 제목과 아티스트가 추출됨\n",
    "for page in [1, 2]:\n",
    "    # naver_music_url_page = naver_music_url + str(page+1)     # page URL\n",
    "    # nave_music_titles, naver_music_artists = naver_music(naver_music_url_page)\n",
    "    nave_music_titles, naver_music_artists = naver_music(type='종합', year=2019, month=8, week=0, page=page)\n",
    "    \n",
    "    # 추출된 노래 제목과 아티스트를 파일에 저장 \n",
    "    for idx in range(len(music_titles_artists)):\n",
    "        ranking = (page-1)*50 + idx + 1 \n",
    "        f.write(\"{0:3d}: {1}/{2}\\n\".format(ranking, nave_music_titles[idx],  naver_music_artists[idx]))\n",
    "    time.sleep(1)\n",
    "\n",
    "f.close() # 파일 닫기\n",
    "\n",
    "glob.glob(file_name) # 생성된 파일 확인"
   ]
  },
  {
   "cell_type": "code",
   "execution_count": 30,
   "metadata": {},
   "outputs": [
    {
     "name": "stdout",
     "output_type": "stream",
     "text": [
      "  1: 그대라는 시/태연 (TAEYEON)\n",
      "  2: 술이 문제야/장혜진\n",
      "  3: ICY/ITZY(있지)\n",
      "  4: 헤어져줘서 고마워/벤\n",
      "  5: 기억해줘요 내 모든 날과 그때를/거미\n",
      "  6: 나의 어깨에 기대어요/10cm\n",
      "  7: 니 소식/송하예\n",
      "  8: 사랑에 연습이 있었다면 (Prod. 2soo)/임재현\n",
      "  9: Snapping/청하\n",
      " 10: 작은 것들을 위한 시 (Boy With Luv) (Feat. Halsey)/방탄소년단\n",
      " 11: 내 맘을 볼 수 있나요/헤이즈 (Heize)\n",
      " 12: 오늘도 빛나는 너에게 (To You My Light) (Feat. 이라온)/마크툽(Maktub)\n",
      " 13: 포장마차/황인욱\n",
      " 14: 너에게 못했던 내 마지막 말은/다비치\n",
      " 15: 솔직하게 말해서 나/김나영\n",
      " 16: 비가 내리는 날에는/윤하\n",
      " 17: 안녕/폴킴\n",
      " 18: Another Day/먼데이키즈(Mon..\n",
      " 19: FANCY/TWICE(트와이스)\n",
      " 20: 사계 (Four Seasons)/태연 (TAEYEON)\n",
      " 21: 인사/멜로망스(Melomance)\n",
      " 22: 너를 만나/폴킴\n",
      " 23: 열대야 (Fever)/여자친구(GFRIEND)\n",
      " 24: 달라달라/ITZY(있지)\n",
      " 25: 벌써 12시/청하\n",
      " 26: 모든 날, 모든 순간 (Every day, Every Moment)/폴킴\n",
      " 27: Goodbye/박효신\n",
      " 28: 그 끝에 그대/청하\n",
      " 29: 짐살라빔 (Zimzalabim)/Red Velvet (레드벨벳)\n",
      " 30: 너만 너만 너만/양다일\n",
      " 31: 그때가 좋았어/케이시(Kassy)\n",
      " 32: 주저하는 연인들을 위해/잔나비\n",
      " 33: We don't talk together (Feat. 기리보이) (Prod. SUGA)/헤이즈 (Heize)\n",
      " 34: 여행/볼빨간사춘기\n",
      " 35: 내 목소리 들리니/벤\n",
      " 36: BAND/창모(CHANGM..\n",
      " 37: BIRTHDAY/전소미\n",
      " 38: 사랑이 식었다고 말해도 돼/먼데이키즈(Monday Kiz)\n",
      " 39: 노래방에서/장범준\n",
      " 40: Dance The Night Away/TWICE(트와이스)\n",
      " 41: 비올레타/IZ*ONE(아이즈원)\n",
      " 42: 아퍼 (Feat. Kid Milli, Lil tachi, 김승민, NO:EL, C JAMM)/기리보이\n",
      " 43: 옥탑방 (Rooftop)/엔플라잉(N.Flying)\n",
      " 44: Kill This Love/BLACKPINK\n",
      " 45: Done For Me/펀치 (Punch)\n",
      " 46: 밤편지/아이유(IU)\n",
      " 47: 나만, 봄/볼빨간사춘기\n",
      " 48: 넘쳐흘러/M.C THE MAX\n",
      " 49: 신청곡 (Feat. SUGA of BTS)/이소라\n",
      " 50: 누구 없소 (NO ONE) (Feat. B.I of iKON)/이하이\n",
      " 51: Way Back Home/숀(SHAUN)\n",
      " 52: 봄날/방탄소년단\n",
      " 53: 서울 밤 (Feat. 빈지노)/어반 자카파(Urban Zakapa)\n",
      " 54: YES or YES/TWICE(트와이스)\n",
      " 55: 소우주 (Mikrokosmos)/방탄소년단\n",
      " 56: 음파음파 (Umpah Umpah)/Red Velvet (레드벨벳)\n",
      " 57: 시든 꽃에 물을 주듯/HYNN(박혜원)\n",
      " 58: BUNGEE (Fall in Love)/오마이걸(OH MY GIRL)\n",
      " 59: 지나오다/닐로(Nilo)\n",
      " 60: 그건 아마 우리의 잘못은 아닐 거야/백예린\n",
      " 61: 고백/양다일\n",
      " 62: 비/폴킴\n",
      " 63: 180도/벤\n",
      " 64: 다섯 번째 계절 (SSFWL)/오마이걸(OH MY GIRL)\n",
      " 65: IDOL/방탄소년단\n",
      " 66: 비워 (Beer) (Prod. Way Ched)/창모(CHANGM..\n",
      " 67: 사월이 지나면 우리 헤어져요 (Beautiful goodbye)/첸(CHEN)\n",
      " 68: U GOT IT/갓츄 (GOT U)\n",
      " 69: 방에 모기가 있어 (Do You Think Of Me?)/10cm\n",
      " 70: Uh-Oh/(여자) 아이들\n",
      " 71: 뜨거운 여름밤은 가고 남은 건 볼품없지만/잔나비\n",
      " 72: 열애중/벤\n",
      " 73: 사계 (하루살이)/M.C THE MAX\n",
      " 74: 뭐해 (What are you up to)/강다니엘\n",
      " 75: 뿜뿜/모모랜드(MOMOLAND)\n",
      " 76: 당신과는 천천히/장범준\n",
      " 77: 초록빛/폴킴\n",
      " 78: 고고베베 (gogobebe)/마마무(Mamamoo)\n",
      " 79: 괜찮아도 괜찮아 (That's okay)/디오 (D.O.)\n",
      " 80: AH YEAH (아예)/WINNER\n",
      " 81: 멍청이(twit)/화사(Hwa Sa)\n",
      " 82: 움직여 (MOVE) (Prod. by ZICO)/SIXC (6 crazy)\n",
      " 83: 어떤 별보다/Red Velvet (레드벨벳)\n",
      " 84: 가라사대/비와이(BewhY)\n",
      " 85: 선물/멜로망스(Melomance)\n",
      " 86: 신용재/하은(라코스테남)\n",
      " 87: Blue (Feat. Crush, SOLE)/다이나믹 듀오\n",
      " 88: Say Goodbye/송하예\n",
      " 89: 우주선/정승환\n",
      " 90: 이뻐이뻐 (Pretty girl)/크레파스\n",
      " 91: 하루도 그대를 사랑하지 않은 적이 없었다/임창정\n",
      " 92: 별 보러 갈래?/볼빨간사춘기\n",
      " 93: 흔한 이별/허각\n",
      " 94: 내 안부/이우\n",
      " 95: 뚜두뚜두 (DDU-DU DDU-DU)/BLACKPINK\n",
      " 96: 파티피플 (Feat. 염따, Uneducated Kid)/기리보이\n",
      " 97: DNA/방탄소년단\n",
      " 98: 진심이 담긴 노래 (True Song)/케이시(Kassy)\n",
      " 99: 그날처럼/장덕철\n",
      "100: 삐삐/아이유(IU)\n"
     ]
    }
   ],
   "source": [
    "!type .\\data\\NaverMusicTop100.txt"
   ]
  },
  {
   "cell_type": "code",
   "execution_count": null,
   "metadata": {},
   "outputs": [],
   "source": []
  }
 ],
 "metadata": {
  "kernelspec": {
   "display_name": "Python 3",
   "language": "python",
   "name": "python3"
  },
  "language_info": {
   "codemirror_mode": {
    "name": "ipython",
    "version": 3
   },
   "file_extension": ".py",
   "mimetype": "text/x-python",
   "name": "python",
   "nbconvert_exporter": "python",
   "pygments_lexer": "ipython3",
   "version": "3.7.3"
  }
 },
 "nbformat": 4,
 "nbformat_minor": 2
}
