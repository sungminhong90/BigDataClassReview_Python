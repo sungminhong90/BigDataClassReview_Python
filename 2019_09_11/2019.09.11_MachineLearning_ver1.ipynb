{
 "cells": [
  {
   "cell_type": "markdown",
   "metadata": {},
   "source": [
    "## Sect1. TensorFlow 개요\n",
    "- https://www.tensorflow.org/tutorials "
   ]
  },
  {
   "cell_type": "code",
   "execution_count": 1,
   "metadata": {},
   "outputs": [],
   "source": [
    "from IPython.display import Image"
   ]
  },
  {
   "cell_type": "markdown",
   "metadata": {},
   "source": [
    "## Data Flow Graph\n",
    "- Nodes in the graph represent mathematical operations\n",
    "- Edges represent the multidimensional data arrays (tensors) communicated between them."
   ]
  },
  {
   "cell_type": "code",
   "execution_count": 2,
   "metadata": {},
   "outputs": [
    {
     "data": {
      "text/plain": [
       "'1.14.0'"
      ]
     },
     "execution_count": 2,
     "metadata": {},
     "output_type": "execute_result"
    }
   ],
   "source": [
    "import tensorflow as tf\n",
    "tf.__version__"
   ]
  },
  {
   "cell_type": "markdown",
   "metadata": {},
   "source": [
    "## Hello TensorFlow!"
   ]
  },
  {
   "cell_type": "code",
   "execution_count": 4,
   "metadata": {},
   "outputs": [],
   "source": [
    "# Create a constant op\n",
    "# This op is added as a node to the default graph\n",
    "\n",
    "hello = tf.constant(\"Hello, Stephanie\")\n",
    "\n",
    "# Start a TF Session\n",
    "sess = tf.Session()"
   ]
  },
  {
   "cell_type": "code",
   "execution_count": 5,
   "metadata": {},
   "outputs": [
    {
     "data": {
      "text/plain": [
       "<tf.Tensor 'Const:0' shape=() dtype=string>"
      ]
     },
     "execution_count": 5,
     "metadata": {},
     "output_type": "execute_result"
    }
   ],
   "source": [
    "hello"
   ]
  },
  {
   "cell_type": "code",
   "execution_count": 6,
   "metadata": {},
   "outputs": [
    {
     "data": {
      "text/plain": [
       "b'Hello, Stephanie'"
      ]
     },
     "execution_count": 6,
     "metadata": {},
     "output_type": "execute_result"
    }
   ],
   "source": [
    "# run the op and get result\n",
    "sess.run(hello)"
   ]
  },
  {
   "cell_type": "code",
   "execution_count": 7,
   "metadata": {},
   "outputs": [
    {
     "data": {
      "text/plain": [
       "bytes"
      ]
     },
     "execution_count": 7,
     "metadata": {},
     "output_type": "execute_result"
    }
   ],
   "source": [
    "result = sess.run(hello)\n",
    "type(result)"
   ]
  },
  {
   "cell_type": "markdown",
   "metadata": {},
   "source": [
    "[TIP] b 'String'\n",
    "\n",
    "- 'b' indicates Bytes literals.\n",
    "- 참조 : What does the 'b' character do in front of a string literal?"
   ]
  },
  {
   "cell_type": "code",
   "execution_count": 8,
   "metadata": {},
   "outputs": [
    {
     "data": {
      "text/plain": [
       "tensorflow.python.framework.ops.Tensor"
      ]
     },
     "execution_count": 8,
     "metadata": {},
     "output_type": "execute_result"
    }
   ],
   "source": [
    "type(hello)"
   ]
  },
  {
   "cell_type": "code",
   "execution_count": 9,
   "metadata": {},
   "outputs": [
    {
     "data": {
      "text/plain": [
       "tensorflow.python.client.session.Session"
      ]
     },
     "execution_count": 9,
     "metadata": {},
     "output_type": "execute_result"
    }
   ],
   "source": [
    "type(sess)"
   ]
  },
  {
   "cell_type": "code",
   "execution_count": 11,
   "metadata": {},
   "outputs": [],
   "source": [
    "# ? tf.constant\n",
    "# Creates a constant tensor."
   ]
  },
  {
   "cell_type": "markdown",
   "metadata": {},
   "source": [
    "## Computational Graph"
   ]
  },
  {
   "cell_type": "code",
   "execution_count": 15,
   "metadata": {},
   "outputs": [],
   "source": [
    "# node1 = tf.constant(3.0, tf.float32)\n",
    "\n",
    "node1 = tf.constant(4.0)\n",
    "node2 = tf.constant(8.0)\n",
    "# float32 is implicit\n",
    "\n",
    "node3 = tf.add(node1, node2)\n",
    "# node3 = node1 + node2"
   ]
  },
  {
   "cell_type": "code",
   "execution_count": 16,
   "metadata": {},
   "outputs": [
    {
     "name": "stdout",
     "output_type": "stream",
     "text": [
      "node1 : Tensor(\"Const_3:0\", shape=(), dtype=float32)\n",
      "node2 : Tensor(\"Const_4:0\", shape=(), dtype=float32)\n",
      "node3 : Tensor(\"Add_1:0\", shape=(), dtype=float32)\n"
     ]
    }
   ],
   "source": [
    "print(\"node1 :\", node1)\n",
    "print(\"node2 :\", node2)\n",
    "print(\"node3 :\", node3)"
   ]
  },
  {
   "cell_type": "code",
   "execution_count": 17,
   "metadata": {},
   "outputs": [
    {
     "name": "stdout",
     "output_type": "stream",
     "text": [
      "sess.run(node1, node2)\t:  [4.0, 8.0]\n",
      "sess.run(adder_node)  \t:  12.0\n"
     ]
    }
   ],
   "source": [
    "sess = tf.Session()\n",
    "print(\"sess.run(node1, node2)\\t: \", sess.run([node1, node2]))\n",
    "print(\"sess.run(adder_node)  \\t: \", sess.run(node3))"
   ]
  },
  {
   "cell_type": "code",
   "execution_count": 18,
   "metadata": {},
   "outputs": [
    {
     "data": {
      "text/plain": [
       "tensorflow.python.framework.ops.Tensor"
      ]
     },
     "execution_count": 18,
     "metadata": {},
     "output_type": "execute_result"
    }
   ],
   "source": [
    "type(node3)"
   ]
  },
  {
   "cell_type": "code",
   "execution_count": 19,
   "metadata": {},
   "outputs": [
    {
     "data": {
      "text/plain": [
       "numpy.float32"
      ]
     },
     "execution_count": 19,
     "metadata": {},
     "output_type": "execute_result"
    }
   ],
   "source": [
    "type(sess.run(node3))"
   ]
  },
  {
   "cell_type": "markdown",
   "metadata": {},
   "source": [
    "### TensorFlow Mechanics\n",
    "- 그래프 빌드\n",
    "- 세션을 통해 그래프를 실행\n",
    "- 실행결과가 그래프를 업데이트"
   ]
  },
  {
   "cell_type": "markdown",
   "metadata": {},
   "source": [
    "### Placeholder"
   ]
  },
  {
   "cell_type": "code",
   "execution_count": 20,
   "metadata": {},
   "outputs": [],
   "source": [
    "a = tf.placeholder(tf.float32)\n",
    "b = tf.placeholder(tf.float32)\n",
    "\n",
    "# + provides shortcut for tf.add(a,b)\n",
    "adder_node = a + b"
   ]
  },
  {
   "cell_type": "code",
   "execution_count": 21,
   "metadata": {},
   "outputs": [
    {
     "data": {
      "text/plain": [
       "12.5"
      ]
     },
     "execution_count": 21,
     "metadata": {},
     "output_type": "execute_result"
    }
   ],
   "source": [
    "sess.run(adder_node, feed_dict = {a: 5, b:7.5})"
   ]
  },
  {
   "cell_type": "code",
   "execution_count": 22,
   "metadata": {},
   "outputs": [
    {
     "data": {
      "text/plain": [
       "array([ 4., 10.], dtype=float32)"
      ]
     },
     "execution_count": 22,
     "metadata": {},
     "output_type": "execute_result"
    }
   ],
   "source": [
    "sess.run(adder_node, feed_dict = {a: [1,4], b: [3,6]})\n",
    "# 같은 행 순서 -> 1+4/ 4+6"
   ]
  },
  {
   "cell_type": "code",
   "execution_count": 23,
   "metadata": {},
   "outputs": [],
   "source": [
    "add_and_triple = adder_node*4"
   ]
  },
  {
   "cell_type": "code",
   "execution_count": 24,
   "metadata": {},
   "outputs": [
    {
     "data": {
      "text/plain": [
       "50.0"
      ]
     },
     "execution_count": 24,
     "metadata": {},
     "output_type": "execute_result"
    }
   ],
   "source": [
    "sess.run(add_and_triple, feed_dict = {a: 5, b:7.5})"
   ]
  },
  {
   "cell_type": "code",
   "execution_count": 26,
   "metadata": {},
   "outputs": [
    {
     "name": "stdout",
     "output_type": "stream",
     "text": [
      "tf.mul(30, 40) : 1200\n"
     ]
    }
   ],
   "source": [
    "import tensorflow as tf\n",
    "\n",
    "# 변수 a, b는 동적으로 지정\n",
    "# a = tf.placeholder('float32')\n",
    "# b = tf.placeholder('float32')\n",
    "\n",
    "a = tf.placeholder('int32')\n",
    "b = tf.placeholder('int32')\n",
    "\n",
    "# multiply 함수는 입력된 정수 a와 b의 곱셈을 반환한다.\n",
    "# y = tf.mul(a,b)\n",
    "\n",
    "y = tf.multiply(a,b)\n",
    "\n",
    "sess = tf.Session()\n",
    "\n",
    "print(\"tf.mul({a}, {b}) : {y}\".format(\n",
    "    a = 30, b = 40,\n",
    "    y= sess.run(y, feed_dict = {a:30, b:40})\n",
    "))"
   ]
  },
  {
   "cell_type": "markdown",
   "metadata": {},
   "source": [
    "### Constant & Variable"
   ]
  },
  {
   "cell_type": "code",
   "execution_count": 31,
   "metadata": {},
   "outputs": [
    {
     "name": "stdout",
     "output_type": "stream",
     "text": [
      "Check the variable : \n",
      "- constant x: 200 \n",
      "- Variable y : 400\n"
     ]
    }
   ],
   "source": [
    "#first_session_only_tensorflow.py\n",
    "import tensorflow as tf\n",
    "\n",
    "x = tf.constant(200, name = 'x')\n",
    "y = tf.Variable(x*2, name = 'y')\n",
    "\n",
    "# model = tf.global_variables_initializer()\n",
    "model = tf.initialize_all_variables()\n",
    "\n",
    "with tf.Session() as sess:\n",
    "    sess.run(model)\n",
    "    print(\"Check the variable : \\n- constant x: {x} \\n- Variable y : {y}\".format\n",
    "         ( x = sess.run(x),\n",
    "             y = sess.run(y)\n",
    "         ))"
   ]
  },
  {
   "cell_type": "markdown",
   "metadata": {},
   "source": [
    "### Everything is Tensor\n",
    "- Tensor Ranks, Shapes, and Types\n",
    "- n차원 Array == n차원 Tensor"
   ]
  },
  {
   "cell_type": "markdown",
   "metadata": {},
   "source": [
    "#### # a rank 0 tensor; this is a scalar with shape [] 3 # a rank 1 tensor; this is a vector with shape [3] [1. ,2., 3.] # a rank 2 tensor; a matrix with shape [2, 3] [[1., 2., 3.], [4., 5., 6.]] # a rank 3 tensor with shape [2, 1, 3] [[[1., 2., 3.]], [[7., 8., 9.]]]"
   ]
  },
  {
   "cell_type": "code",
   "execution_count": 32,
   "metadata": {},
   "outputs": [
    {
     "data": {
      "text/plain": [
       "3"
      ]
     },
     "execution_count": 32,
     "metadata": {},
     "output_type": "execute_result"
    }
   ],
   "source": [
    "rank0 = 3\n",
    "rank0"
   ]
  },
  {
   "cell_type": "code",
   "execution_count": 33,
   "metadata": {},
   "outputs": [
    {
     "data": {
      "text/plain": [
       "[1.0, 2.0, 3.0]"
      ]
     },
     "execution_count": 33,
     "metadata": {},
     "output_type": "execute_result"
    }
   ],
   "source": [
    "rank1 = [1. ,2., 3.]\n",
    "rank1\n",
    "#1차원"
   ]
  },
  {
   "cell_type": "code",
   "execution_count": 34,
   "metadata": {},
   "outputs": [
    {
     "data": {
      "text/plain": [
       "[[1.0, 2.0, 3.0], [4.0, 5.0, 6.0]]"
      ]
     },
     "execution_count": 34,
     "metadata": {},
     "output_type": "execute_result"
    }
   ],
   "source": [
    "rank2 = [[1., 2., 3.], \n",
    "         [4., 5., 6.]]\n",
    "rank2\n",
    "#2차원"
   ]
  },
  {
   "cell_type": "code",
   "execution_count": 35,
   "metadata": {},
   "outputs": [
    {
     "data": {
      "text/plain": [
       "[[[1.0, 2.0, 3.0]], [[7.0, 8.0, 9.0]]]"
      ]
     },
     "execution_count": 35,
     "metadata": {},
     "output_type": "execute_result"
    }
   ],
   "source": [
    "rank3 = [\n",
    "            [\n",
    "                [1., 2., 3.]\n",
    "            ], \n",
    "            [\n",
    "                [7., 8., 9.]\n",
    "            ]\n",
    "] \n",
    "rank3\n",
    "#3차원"
   ]
  },
  {
   "cell_type": "markdown",
   "metadata": {},
   "source": [
    "## 텐서플로우 연산"
   ]
  },
  {
   "cell_type": "code",
   "execution_count": 36,
   "metadata": {},
   "outputs": [],
   "source": [
    "import tensorflow as tf\n",
    "import numpy as np"
   ]
  },
  {
   "cell_type": "code",
   "execution_count": 37,
   "metadata": {},
   "outputs": [
    {
     "data": {
      "text/plain": [
       "array([1.2, 3.4, 5.6, 7.8])"
      ]
     },
     "execution_count": 37,
     "metadata": {},
     "output_type": "execute_result"
    }
   ],
   "source": [
    "tensor_1d = np.array([1.2, 3.4, 5.6, 7.8])\n",
    "tensor_1d"
   ]
  },
  {
   "cell_type": "code",
   "execution_count": 38,
   "metadata": {},
   "outputs": [
    {
     "data": {
      "text/plain": [
       "array([[ 0,  1,  2,  3],\n",
       "       [ 4,  5,  6,  7],\n",
       "       [ 8,  9, 10, 11],\n",
       "       [12, 13, 14, 15]])"
      ]
     },
     "execution_count": 38,
     "metadata": {},
     "output_type": "execute_result"
    }
   ],
   "source": [
    "tensor_2d = np.arange(16).reshape((4,4))\n",
    "tensor_2d"
   ]
  },
  {
   "cell_type": "code",
   "execution_count": 39,
   "metadata": {},
   "outputs": [],
   "source": [
    "sess = tf.Session()\n",
    "tf_tensor_1d = tf.convert_to_tensor(tensor_1d,dtype=tf.float64)\n",
    "tf_tensor_2d = tf.convert_to_tensor(tensor_2d,dtype=tf.float64)"
   ]
  },
  {
   "cell_type": "code",
   "execution_count": 40,
   "metadata": {},
   "outputs": [
    {
     "data": {
      "text/plain": [
       "array([1.2, 3.4, 5.6, 7.8])"
      ]
     },
     "execution_count": 40,
     "metadata": {},
     "output_type": "execute_result"
    }
   ],
   "source": [
    "sess.run(tf_tensor_1d)"
   ]
  },
  {
   "cell_type": "code",
   "execution_count": 41,
   "metadata": {},
   "outputs": [
    {
     "data": {
      "text/plain": [
       "1.2"
      ]
     },
     "execution_count": 41,
     "metadata": {},
     "output_type": "execute_result"
    }
   ],
   "source": [
    "sess.run(tf_tensor_1d[0])"
   ]
  },
  {
   "cell_type": "code",
   "execution_count": 42,
   "metadata": {},
   "outputs": [
    {
     "data": {
      "text/plain": [
       "array([5.6, 7.8])"
      ]
     },
     "execution_count": 42,
     "metadata": {},
     "output_type": "execute_result"
    }
   ],
   "source": [
    "sess.run(tf_tensor_1d[2:])"
   ]
  },
  {
   "cell_type": "code",
   "execution_count": 43,
   "metadata": {},
   "outputs": [
    {
     "data": {
      "text/plain": [
       "array([[ 0.,  1.,  2.,  3.],\n",
       "       [ 4.,  5.,  6.,  7.],\n",
       "       [ 8.,  9., 10., 11.],\n",
       "       [12., 13., 14., 15.]])"
      ]
     },
     "execution_count": 43,
     "metadata": {},
     "output_type": "execute_result"
    }
   ],
   "source": [
    "sess.run(tf_tensor_2d)"
   ]
  },
  {
   "cell_type": "code",
   "execution_count": 44,
   "metadata": {},
   "outputs": [
    {
     "data": {
      "text/plain": [
       "15.0"
      ]
     },
     "execution_count": 44,
     "metadata": {},
     "output_type": "execute_result"
    }
   ],
   "source": [
    "#sess.run(tf_tensor_2d[3][3])\n",
    "sess.run(tf_tensor_2d[3, 3])"
   ]
  },
  {
   "cell_type": "code",
   "execution_count": 45,
   "metadata": {},
   "outputs": [
    {
     "data": {
      "text/plain": [
       "array([[ 5.,  6.],\n",
       "       [ 9., 10.]])"
      ]
     },
     "execution_count": 45,
     "metadata": {},
     "output_type": "execute_result"
    }
   ],
   "source": [
    "sess.run(tf_tensor_2d[1:3, 1:3])"
   ]
  },
  {
   "cell_type": "code",
   "execution_count": 46,
   "metadata": {},
   "outputs": [
    {
     "name": "stdout",
     "output_type": "stream",
     "text": [
      "matrix3 = [[2. 7. 2.]\n",
      " [1. 4. 2.]\n",
      " [9. 0. 2.]]\n",
      "matrix_dtm = Tensor(\"MatrixDeterminant:0\", shape=(), dtype=float32)\n"
     ]
    }
   ],
   "source": [
    "import tensorflow as tf\n",
    "import numpy as np\n",
    "\n",
    "# 3x3 행렬\n",
    "matrix1 = np.array([(1, 1, 1), (1, 1, 1), (1, 1, 1)])\n",
    "matrix2 = np.array([(2, 2, 2), (2, 2, 2), (2, 2, 2)])\n",
    "\n",
    "# constant, 텐서 자료 구조로 변환\n",
    "# matrix1 = tf.constant(matrix1)\n",
    "# matrix2 = tf.constant(matrix2)\n",
    "matrix1 = tf.constant(matrix1, dtype='int32')\n",
    "matrix2 = tf.constant(matrix2, dtype='int32')\n",
    "\n",
    "# 행렬곱과 행렬합 계산\n",
    "matrix_mul = tf.matmul(matrix1, matrix2)\n",
    "matrix_sum = tf.add(matrix1, matrix2)\n",
    "\n",
    "# 행렬의 행렬식(determinant)\n",
    "matrix3 = np.array([(2, 7, 2), (1, 4, 2), (9, 0, 2)], dtype='float32')\n",
    "print('matrix3 = {}'.format(matrix3))\n",
    "\n",
    "matrix_dtm = tf.matrix_determinant(matrix3)\n",
    "print('matrix_dtm = {}'.format(matrix_dtm))"
   ]
  },
  {
   "cell_type": "code",
   "execution_count": 47,
   "metadata": {},
   "outputs": [
    {
     "name": "stdout",
     "output_type": "stream",
     "text": [
      "matrix_mul = [[6 6 6]\n",
      " [6 6 6]\n",
      " [6 6 6]]\n",
      "matrix_sum = [[3 3 3]\n",
      " [3 3 3]\n",
      " [3 3 3]]\n",
      "matrix_dtm = 55.99999237060547\n"
     ]
    }
   ],
   "source": [
    "# 세션을 열고 그래프 연산\n",
    "with tf.Session() as sess:\n",
    "    result1 = sess.run(matrix_mul)\n",
    "    result2 = sess.run(matrix_sum)\n",
    "    result3 = sess.run(matrix_dtm)\n",
    "    \n",
    "    # tensorboard for graph\n",
    "    # writer = tf.summary.FileWriter(\"./graph/sect01\", sess.graph)\n",
    "\n",
    "# 연산 결과 출력\n",
    "print('matrix_mul = {}'.format(result1))\n",
    "print('matrix_sum = {}'.format(result2))\n",
    "print('matrix_dtm = {}'.format(result3))"
   ]
  },
  {
   "cell_type": "code",
   "execution_count": 48,
   "metadata": {},
   "outputs": [
    {
     "name": "stdout",
     "output_type": "stream",
     "text": [
      "Requirement already satisfied: tensorboard in c:\\python\\anaconda3\\lib\\site-packages (1.14.0)\n",
      "Requirement already satisfied: six>=1.10.0 in c:\\python\\anaconda3\\lib\\site-packages (from tensorboard) (1.12.0)\n",
      "Requirement already satisfied: protobuf>=3.6.0 in c:\\python\\anaconda3\\lib\\site-packages (from tensorboard) (3.8.0)\n",
      "Requirement already satisfied: grpcio>=1.6.3 in c:\\python\\anaconda3\\lib\\site-packages (from tensorboard) (1.16.1)\n",
      "Requirement already satisfied: wheel>=0.26; python_version >= \"3\" in c:\\python\\anaconda3\\lib\\site-packages (from tensorboard) (0.33.4)\n",
      "Requirement already satisfied: absl-py>=0.4 in c:\\python\\anaconda3\\lib\\site-packages (from tensorboard) (0.7.1)\n",
      "Requirement already satisfied: setuptools>=41.0.0 in c:\\python\\anaconda3\\lib\\site-packages (from tensorboard) (41.0.1)\n",
      "Requirement already satisfied: werkzeug>=0.11.15 in c:\\python\\anaconda3\\lib\\site-packages (from tensorboard) (0.15.4)\n",
      "Requirement already satisfied: markdown>=2.6.8 in c:\\python\\anaconda3\\lib\\site-packages (from tensorboard) (3.1.1)\n",
      "Requirement already satisfied: numpy>=1.12.0 in c:\\python\\anaconda3\\lib\\site-packages (from tensorboard) (1.16.4)\n"
     ]
    }
   ],
   "source": [
    "! pip install tensorboard"
   ]
  },
  {
   "cell_type": "code",
   "execution_count": null,
   "metadata": {},
   "outputs": [],
   "source": []
  }
 ],
 "metadata": {
  "kernelspec": {
   "display_name": "Python 3",
   "language": "python",
   "name": "python3"
  },
  "language_info": {
   "codemirror_mode": {
    "name": "ipython",
    "version": 3
   },
   "file_extension": ".py",
   "mimetype": "text/x-python",
   "name": "python",
   "nbconvert_exporter": "python",
   "pygments_lexer": "ipython3",
   "version": "3.7.3"
  }
 },
 "nbformat": 4,
 "nbformat_minor": 2
}
