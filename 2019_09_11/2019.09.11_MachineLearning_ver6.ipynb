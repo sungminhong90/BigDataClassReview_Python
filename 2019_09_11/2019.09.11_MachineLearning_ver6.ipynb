{
 "cells": [
  {
   "cell_type": "markdown",
   "metadata": {},
   "source": [
    "## Sect6. Softmax Regression"
   ]
  },
  {
   "cell_type": "code",
   "execution_count": 1,
   "metadata": {},
   "outputs": [],
   "source": [
    "from IPython.display import Image \n",
    "from tqdm import tqdm_notebook"
   ]
  },
  {
   "cell_type": "markdown",
   "metadata": {},
   "source": [
    "### Softmax Classification\n",
    "Multinomial classification\n",
    "\n",
    "- hypothesis = tf.nn.softmax(tf.matmul(X,W)+b)"
   ]
  },
  {
   "cell_type": "code",
   "execution_count": 2,
   "metadata": {},
   "outputs": [],
   "source": [
    "import tensorflow as tf\n",
    "import numpy as np\n",
    "\n",
    "tf.set_random_seed(777)  # for reproducibility\n",
    "\n",
    "x_data = [[10,5], [9,5], [3,2], [2,4], [11,1]]\n",
    "y_data = [[1, 0, 0], \n",
    "          [1, 0, 0], \n",
    "          [0, 1, 0], \n",
    "          [0, 1, 0],\n",
    "          [0, 0, 1]]\n",
    "\n",
    "X = tf.placeholder(\"float\", [None, 2])\n",
    "Y = tf.placeholder(\"float\", [None, 3])\n",
    "nb_classes = 3\n",
    "\n",
    "W = tf.Variable(tf.random_normal([2, nb_classes]), name='weight')\n",
    "b = tf.Variable(tf.random_normal([nb_classes]), name='bias')\n",
    "\n",
    "# tf.nn.softmax computes softmax activations\n",
    "# softmax = exp(logits) / reduce_sum(exp(logits), dim)\n",
    "hypothesis = tf.nn.softmax(tf.matmul(X, W) + b)\n",
    "\n",
    "# Cross entropy cost/loss\n",
    "cost = tf.reduce_mean(-tf.reduce_sum(Y * tf.log(hypothesis), axis=1))\n",
    "\n",
    "optimizer = tf.train.GradientDescentOptimizer(learning_rate=0.1).minimize(cost)"
   ]
  },
  {
   "cell_type": "code",
   "execution_count": 3,
   "metadata": {},
   "outputs": [
    {
     "data": {
      "application/vnd.jupyter.widget-view+json": {
       "model_id": "62c4f5ce9c0e4f5387f8e1e33d2dfde9",
       "version_major": 2,
       "version_minor": 0
      },
      "text/plain": [
       "HBox(children=(IntProgress(value=0, max=2001), HTML(value='')))"
      ]
     },
     "metadata": {},
     "output_type": "display_data"
    },
    {
     "name": "stdout",
     "output_type": "stream",
     "text": [
      "Step : 0, \t Cost : 5.044024467468262\n",
      "Step : 200, \t Cost : 0.11129350960254669\n",
      "Step : 400, \t Cost : 0.05863405019044876\n",
      "Step : 600, \t Cost : 0.03917430341243744\n",
      "Step : 800, \t Cost : 0.029238993301987648\n",
      "Step : 1000, \t Cost : 0.023261133581399918\n",
      "Step : 1200, \t Cost : 0.019285501912236214\n",
      "Step : 1400, \t Cost : 0.01645708829164505\n",
      "Step : 1600, \t Cost : 0.014344898983836174\n",
      "Step : 1800, \t Cost : 0.012708926573395729\n",
      "Step : 2000, \t Cost : 0.011405272409319878\n",
      "\n"
     ]
    }
   ],
   "source": [
    "# Launch the graph in a session.\n",
    "sess = tf.Session()\n",
    "\n",
    "# Initializes global variables in the graph.\n",
    "sess.run(tf.global_variables_initializer())\n",
    "\n",
    "for step in tqdm_notebook(range(2001)):\n",
    "    sess.run(optimizer, feed_dict={X: x_data, Y: y_data})\n",
    "    if step % 200 == 0:\n",
    "        # print(step, sess.run(cost, feed_dict={X: x_data, Y: y_data}))\n",
    "        print(\"Step : {}, \\t Cost : {}\".format(step, sess.run(cost, feed_dict={X: x_data, Y: y_data})))"
   ]
  },
  {
   "cell_type": "code",
   "execution_count": 4,
   "metadata": {},
   "outputs": [
    {
     "name": "stdout",
     "output_type": "stream",
     "text": [
      "test data : [[9.5, 5.5], [9.9, 1.5], [3.1, 2.1]] \n",
      "\n",
      "predict value : \n",
      " [[9.89088714e-01 1.07102245e-02 2.01088653e-04]\n",
      " [2.56168582e-02 3.51883322e-08 9.74383056e-01]\n",
      " [3.70497778e-02 9.61320758e-01 1.62941683e-03]] \n",
      "\n",
      "predict index : [0 2 1]\n"
     ]
    }
   ],
   "source": [
    "# Testing & One-hot encoding\n",
    "test_data = [[9.5, 5.5], \n",
    "             [9.9, 1.5], \n",
    "             [3.1, 2.1]]\n",
    "\n",
    "pred_val = sess.run(hypothesis, feed_dict={X: test_data})\n",
    "pred_idx = sess.run(tf.argmax(pred_val, 1))\n",
    "\n",
    "# print(\"predict value : \\n {} \\n\\npredict index : {}\".format(pred_val, pred_idx))\n",
    "print(\"test data : {} \\n\\npredict value : \\n {} \\n\\npredict index : {}\".format(test_data, pred_val, pred_idx))"
   ]
  },
  {
   "cell_type": "code",
   "execution_count": 5,
   "metadata": {},
   "outputs": [
    {
     "name": "stderr",
     "output_type": "stream",
     "text": [
      "WARNING: Logging before flag parsing goes to stderr.\n",
      "W0911 21:42:55.691082  7352 deprecation.py:323] From <ipython-input-5-93abe8ccf7f2>:3: arg_max (from tensorflow.python.ops.gen_math_ops) is deprecated and will be removed in a future version.\n",
      "Instructions for updating:\n",
      "Use `tf.math.argmax` instead\n"
     ]
    },
    {
     "name": "stdout",
     "output_type": "stream",
     "text": [
      "['A', 'C', 'B']\n"
     ]
    }
   ],
   "source": [
    "# grade로 예측값 표기\n",
    "grade = ['A', 'B', 'C']\n",
    "arg_val = sess.run(tf.arg_max(pred_val, 1))\n",
    "p_grade = [ grade[val] for val in arg_val ]\n",
    "print(p_grade)"
   ]
  },
  {
   "cell_type": "markdown",
   "metadata": {},
   "source": [
    "### 좀더 복잡한 Classification"
   ]
  },
  {
   "cell_type": "code",
   "execution_count": 6,
   "metadata": {},
   "outputs": [],
   "source": [
    "import tensorflow as tf\n",
    "\n",
    "tf.set_random_seed(777)  # for reproducibility\n",
    "\n",
    "x_data = [[1, 2, 1, 1], \n",
    "          [2, 1, 3, 2], \n",
    "          [3, 1, 3, 4], \n",
    "          [4, 1, 5, 5],\n",
    "          [1, 7, 5, 5], \n",
    "          [1, 2, 5, 6], \n",
    "          [1, 6, 6, 6], \n",
    "          [1, 7, 7, 7]]\n",
    "\n",
    "y_data = [[0, 0, 1], \n",
    "          [0, 0, 1], \n",
    "          [0, 0, 1], \n",
    "          [0, 1, 0],\n",
    "          [0, 1, 0], \n",
    "          [0, 1, 0], \n",
    "          [1, 0, 0], \n",
    "          [1, 0, 0]]\n",
    "\n",
    "X = tf.placeholder(\"float\", [None, 4])\n",
    "Y = tf.placeholder(\"float\", [None, 3])\n",
    "nb_classes = 3\n",
    "\n",
    "W = tf.Variable(tf.random_normal([4, nb_classes]), name='weight')\n",
    "b = tf.Variable(tf.random_normal([nb_classes]), name='bias')\n",
    "\n",
    "# tf.nn.softmax computes softmax activations\n",
    "# softmax = exp(logits) / reduce_sum(exp(logits), dim)\n",
    "hypothesis = tf.nn.softmax(tf.matmul(X, W) + b)\n",
    "\n",
    "# Cross entropy cost/loss\n",
    "cost = tf.reduce_mean(-tf.reduce_sum(Y * tf.log(hypothesis), axis=1))\n",
    "\n",
    "optimizer = tf.train.GradientDescentOptimizer(learning_rate=0.1).minimize(cost)"
   ]
  },
  {
   "cell_type": "code",
   "execution_count": 7,
   "metadata": {},
   "outputs": [
    {
     "data": {
      "application/vnd.jupyter.widget-view+json": {
       "model_id": "629d3ea3d40d420c9db021dd1e7c5923",
       "version_major": 2,
       "version_minor": 0
      },
      "text/plain": [
       "HBox(children=(IntProgress(value=0, max=2001), HTML(value='')))"
      ]
     },
     "metadata": {},
     "output_type": "display_data"
    },
    {
     "name": "stdout",
     "output_type": "stream",
     "text": [
      "Step : 0, \t Cost : 3.4972469806671143\n",
      "Step : 200, \t Cost : 0.5122731924057007\n",
      "Step : 400, \t Cost : 0.4124700129032135\n",
      "Step : 600, \t Cost : 0.3338963985443115\n",
      "Step : 800, \t Cost : 0.26296159625053406\n",
      "Step : 1000, \t Cost : 0.2341730296611786\n",
      "Step : 1200, \t Cost : 0.2127894163131714\n",
      "Step : 1400, \t Cost : 0.19494310021400452\n",
      "Step : 1600, \t Cost : 0.1797902137041092\n",
      "Step : 1800, \t Cost : 0.16675511002540588\n",
      "Step : 2000, \t Cost : 0.15542243421077728\n",
      "\n"
     ]
    }
   ],
   "source": [
    "# Launch the graph in a session.\n",
    "sess = tf.Session()\n",
    "\n",
    "# Initializes global variables in the graph.\n",
    "sess.run(tf.global_variables_initializer())\n",
    "\n",
    "for step in tqdm_notebook(range(2001)):\n",
    "    sess.run(optimizer, feed_dict={X: x_data, Y: y_data})\n",
    "    if step % 200 == 0:\n",
    "        # print(step, sess.run(cost, feed_dict={X: x_data, Y: y_data}))\n",
    "        print(\"Step : {}, \\t Cost : {}\".format(step, sess.run(cost, feed_dict={X: x_data, Y: y_data})))"
   ]
  },
  {
   "cell_type": "code",
   "execution_count": 8,
   "metadata": {},
   "outputs": [
    {
     "name": "stdout",
     "output_type": "stream",
     "text": [
      "[[1.2721679e-01 8.7277490e-01 8.3329805e-06]] \n",
      "예측값 : [1]\n"
     ]
    }
   ],
   "source": [
    "# Testing & One-hot encoding\n",
    "a = sess.run(hypothesis, feed_dict={X: [[1, 11, 7, 9]]})\n",
    "print(a, '\\n예측값 :', sess.run(tf.arg_max(a, 1)))"
   ]
  },
  {
   "cell_type": "code",
   "execution_count": 9,
   "metadata": {},
   "outputs": [
    {
     "name": "stdout",
     "output_type": "stream",
     "text": [
      "[[0.42235976 0.5139027  0.06373748]] \n",
      "예측값 : [1]\n"
     ]
    }
   ],
   "source": [
    "b = sess.run(hypothesis, feed_dict={X: [[1, 3, 4, 3]]})\n",
    "print(b, '\\n예측값 :', sess.run(tf.arg_max(b, 1)))"
   ]
  },
  {
   "cell_type": "code",
   "execution_count": 10,
   "metadata": {},
   "outputs": [
    {
     "name": "stdout",
     "output_type": "stream",
     "text": [
      "[[5.6175442e-09 3.3136643e-04 9.9966860e-01]] \n",
      "예측값 : [2]\n"
     ]
    }
   ],
   "source": [
    "c = sess.run(hypothesis, feed_dict={X: [[1, 1, 0, 1]]})\n",
    "print(c, '\\n예측값 :', sess.run(tf.arg_max(c, 1)))"
   ]
  },
  {
   "cell_type": "code",
   "execution_count": 11,
   "metadata": {},
   "outputs": [
    {
     "name": "stdout",
     "output_type": "stream",
     "text": [
      "[[1.2721679e-01 8.7277490e-01 8.3329805e-06]\n",
      " [4.2235973e-01 5.1390266e-01 6.3737594e-02]\n",
      " [5.6175442e-09 3.3136643e-04 9.9966860e-01]] \n",
      "\n",
      "예측값 : [1 1 2]\n"
     ]
    }
   ],
   "source": [
    "all = sess.run(hypothesis, feed_dict={\n",
    "               X: [[1, 11, 7, 9], [1, 3, 4, 3], [1, 1, 0, 1]]})\n",
    "print(all, '\\n\\n예측값 :', sess.run(tf.arg_max(all, 1)))"
   ]
  },
  {
   "cell_type": "markdown",
   "metadata": {},
   "source": [
    "### Animal classification with softmax_cross_entropy_with_logits\n",
    "- Ref : https://kr.pinterest.com/explore/animal-classification-activity/?lp=true\n",
    "- Data : https://archive.ics.uci.edu/ml/machine-learning-databases/zoo/zoo.data"
   ]
  },
  {
   "cell_type": "code",
   "execution_count": 12,
   "metadata": {},
   "outputs": [
    {
     "name": "stdout",
     "output_type": "stream",
     "text": [
      "(101, 16) (101, 1)\n",
      "\n",
      "x_data :\n",
      " [[1. 0. 0. ... 0. 0. 1.]\n",
      " [1. 0. 0. ... 1. 0. 1.]\n",
      " [0. 0. 1. ... 1. 0. 0.]\n",
      " ...\n",
      " [1. 0. 0. ... 1. 0. 1.]\n",
      " [0. 0. 1. ... 0. 0. 0.]\n",
      " [0. 1. 1. ... 1. 0. 0.]]\n",
      "\n",
      "y_data :\n",
      " [[0.]\n",
      " [0.]\n",
      " [3.]\n",
      " [0.]\n",
      " [0.]\n",
      " [0.]\n",
      " [0.]\n",
      " [3.]\n",
      " [3.]\n",
      " [0.]\n",
      " [0.]\n",
      " [1.]\n",
      " [3.]\n",
      " [6.]\n",
      " [6.]\n",
      " [6.]\n",
      " [1.]\n",
      " [0.]\n",
      " [3.]\n",
      " [0.]\n",
      " [1.]\n",
      " [1.]\n",
      " [0.]\n",
      " [1.]\n",
      " [5.]\n",
      " [4.]\n",
      " [4.]\n",
      " [0.]\n",
      " [0.]\n",
      " [0.]\n",
      " [5.]\n",
      " [0.]\n",
      " [0.]\n",
      " [1.]\n",
      " [3.]\n",
      " [0.]\n",
      " [0.]\n",
      " [1.]\n",
      " [3.]\n",
      " [5.]\n",
      " [5.]\n",
      " [1.]\n",
      " [5.]\n",
      " [1.]\n",
      " [0.]\n",
      " [0.]\n",
      " [6.]\n",
      " [0.]\n",
      " [0.]\n",
      " [0.]\n",
      " [0.]\n",
      " [5.]\n",
      " [4.]\n",
      " [6.]\n",
      " [0.]\n",
      " [0.]\n",
      " [1.]\n",
      " [1.]\n",
      " [1.]\n",
      " [1.]\n",
      " [3.]\n",
      " [3.]\n",
      " [2.]\n",
      " [0.]\n",
      " [0.]\n",
      " [0.]\n",
      " [0.]\n",
      " [0.]\n",
      " [0.]\n",
      " [0.]\n",
      " [0.]\n",
      " [1.]\n",
      " [6.]\n",
      " [3.]\n",
      " [0.]\n",
      " [0.]\n",
      " [2.]\n",
      " [6.]\n",
      " [1.]\n",
      " [1.]\n",
      " [2.]\n",
      " [6.]\n",
      " [3.]\n",
      " [1.]\n",
      " [0.]\n",
      " [6.]\n",
      " [3.]\n",
      " [1.]\n",
      " [5.]\n",
      " [4.]\n",
      " [2.]\n",
      " [2.]\n",
      " [3.]\n",
      " [0.]\n",
      " [0.]\n",
      " [1.]\n",
      " [0.]\n",
      " [5.]\n",
      " [0.]\n",
      " [6.]\n",
      " [1.]]\n",
      "\n",
      "one_hot Tensor(\"one_hot:0\", shape=(?, 1, 7), dtype=float32)\n",
      "\n",
      "reshape Tensor(\"Reshape:0\", shape=(?, 7), dtype=float32)\n"
     ]
    },
    {
     "name": "stderr",
     "output_type": "stream",
     "text": [
      "W0911 21:44:47.471194  7352 deprecation.py:323] From <ipython-input-12-4b953c9a810f>:37: softmax_cross_entropy_with_logits (from tensorflow.python.ops.nn_ops) is deprecated and will be removed in a future version.\n",
      "Instructions for updating:\n",
      "\n",
      "Future major versions of TensorFlow will allow gradients to flow\n",
      "into the labels input on backprop by default.\n",
      "\n",
      "See `tf.nn.softmax_cross_entropy_with_logits_v2`.\n",
      "\n"
     ]
    }
   ],
   "source": [
    "import tensorflow as tf\n",
    "import numpy as np\n",
    "\n",
    "tf.set_random_seed(777)  # for reproducibility\n",
    "\n",
    "# Predicting animal type based on various features\n",
    "xy = np.loadtxt('./data/data-04-zoo.csv', delimiter=',', dtype=np.float32)\n",
    "\n",
    "x_data = xy[:, 0:-1]\n",
    "y_data = xy[:, [-1]]\n",
    "\n",
    "print(x_data.shape, y_data.shape)\n",
    "print('\\nx_data :\\n', x_data)\n",
    "print('\\ny_data :\\n', y_data)\n",
    "\n",
    "nb_classes = 7  # 0 ~ 6\n",
    "\n",
    "X = tf.placeholder(tf.float32, [None, 16])\n",
    "Y = tf.placeholder(tf.int32, [None, 1])  # 0 ~ 6\n",
    "\n",
    "Y_one_hot = tf.one_hot(Y, nb_classes)  # one hot\n",
    "print(\"\\none_hot\", Y_one_hot)\n",
    "\n",
    "Y_one_hot = tf.reshape(Y_one_hot, [-1, nb_classes])\n",
    "print(\"\\nreshape\", Y_one_hot)\n",
    "\n",
    "W = tf.Variable(tf.random_normal([16, nb_classes]), name='weight')\n",
    "b = tf.Variable(tf.random_normal([nb_classes]), name='bias')\n",
    "\n",
    "# tf.nn.softmax computes softmax activations\n",
    "# softmax = exp(logits) / reduce_sum(exp(logits), dim)\n",
    "logits = tf.matmul(X, W) + b\n",
    "hypothesis = tf.nn.softmax(logits)\n",
    "\n",
    "# Cross entropy cost/loss\n",
    "cost_i = tf.nn.softmax_cross_entropy_with_logits(logits=logits,\n",
    "                                                 labels=Y_one_hot)\n",
    "cost = tf.reduce_mean(cost_i)\n",
    "optimizer = tf.train.GradientDescentOptimizer(learning_rate=0.1).minimize(cost)\n",
    "\n",
    "prediction = tf.argmax(hypothesis, 1)\n",
    "correct_prediction = tf.equal(prediction, tf.argmax(Y_one_hot, 1))\n",
    "accuracy = tf.reduce_mean(tf.cast(correct_prediction, tf.float32))"
   ]
  },
  {
   "cell_type": "code",
   "execution_count": 13,
   "metadata": {},
   "outputs": [
    {
     "name": "stdout",
     "output_type": "stream",
     "text": [
      "Step:     0, \t Loss: 4.796, \t Acc: 2.97%\n",
      "Step:   100, \t Loss: 0.635, \t Acc: 83.17%\n",
      "Step:   200, \t Loss: 0.398, \t Acc: 90.10%\n",
      "Step:   300, \t Loss: 0.299, \t Acc: 92.08%\n",
      "Step:   400, \t Loss: 0.239, \t Acc: 93.07%\n",
      "Step:   500, \t Loss: 0.199, \t Acc: 96.04%\n",
      "Step:   600, \t Loss: 0.170, \t Acc: 97.03%\n",
      "Step:   700, \t Loss: 0.148, \t Acc: 98.02%\n",
      "Step:   800, \t Loss: 0.131, \t Acc: 99.01%\n",
      "Step:   900, \t Loss: 0.117, \t Acc: 99.01%\n",
      "Step:  1000, \t Loss: 0.106, \t Acc: 99.01%\n",
      "Step:  1100, \t Loss: 0.097, \t Acc: 99.01%\n",
      "Step:  1200, \t Loss: 0.089, \t Acc: 99.01%\n",
      "Step:  1300, \t Loss: 0.082, \t Acc: 99.01%\n",
      "Step:  1400, \t Loss: 0.077, \t Acc: 99.01%\n",
      "Step:  1500, \t Loss: 0.072, \t Acc: 100.00%\n",
      "Step:  1600, \t Loss: 0.067, \t Acc: 100.00%\n",
      "Step:  1700, \t Loss: 0.064, \t Acc: 100.00%\n",
      "Step:  1800, \t Loss: 0.060, \t Acc: 100.00%\n",
      "Step:  1900, \t Loss: 0.057, \t Acc: 100.00%\n"
     ]
    }
   ],
   "source": [
    "# Launch the graph in a session.\n",
    "sess = tf.Session()\n",
    "\n",
    "# Initializes global variables in the graph.\n",
    "sess.run(tf.global_variables_initializer())\n",
    "\n",
    "for step in range(2000):\n",
    "    sess.run(optimizer, feed_dict={X: x_data, Y: y_data})\n",
    "    if step % 100 == 0:\n",
    "        loss, acc = sess.run([cost, accuracy], feed_dict={\n",
    "                             X: x_data, Y: y_data})\n",
    "        print(\"Step: {:5}, \\t Loss: {:.3f}, \\t Acc: {:.2%}\".format(\n",
    "            step, loss, acc))"
   ]
  },
  {
   "cell_type": "code",
   "execution_count": 14,
   "metadata": {},
   "outputs": [
    {
     "name": "stdout",
     "output_type": "stream",
     "text": [
      "[True]  Prediction : 0,  True Y : 0\n",
      "[True]  Prediction : 0,  True Y : 0\n",
      "[True]  Prediction : 3,  True Y : 3\n",
      "[True]  Prediction : 0,  True Y : 0\n",
      "[True]  Prediction : 0,  True Y : 0\n",
      "[True]  Prediction : 0,  True Y : 0\n",
      "[True]  Prediction : 0,  True Y : 0\n",
      "[True]  Prediction : 3,  True Y : 3\n",
      "[True]  Prediction : 3,  True Y : 3\n",
      "[True]  Prediction : 0,  True Y : 0\n",
      "[True]  Prediction : 0,  True Y : 0\n",
      "[True]  Prediction : 1,  True Y : 1\n",
      "[True]  Prediction : 3,  True Y : 3\n",
      "[True]  Prediction : 6,  True Y : 6\n",
      "[True]  Prediction : 6,  True Y : 6\n",
      "[True]  Prediction : 6,  True Y : 6\n",
      "[True]  Prediction : 1,  True Y : 1\n",
      "[True]  Prediction : 0,  True Y : 0\n",
      "[True]  Prediction : 3,  True Y : 3\n",
      "[True]  Prediction : 0,  True Y : 0\n",
      "[True]  Prediction : 1,  True Y : 1\n",
      "[True]  Prediction : 1,  True Y : 1\n",
      "[True]  Prediction : 0,  True Y : 0\n",
      "[True]  Prediction : 1,  True Y : 1\n",
      "[True]  Prediction : 5,  True Y : 5\n",
      "[True]  Prediction : 4,  True Y : 4\n",
      "[True]  Prediction : 4,  True Y : 4\n",
      "[True]  Prediction : 0,  True Y : 0\n",
      "[True]  Prediction : 0,  True Y : 0\n",
      "[True]  Prediction : 0,  True Y : 0\n",
      "[True]  Prediction : 5,  True Y : 5\n",
      "[True]  Prediction : 0,  True Y : 0\n",
      "[True]  Prediction : 0,  True Y : 0\n",
      "[True]  Prediction : 1,  True Y : 1\n",
      "[True]  Prediction : 3,  True Y : 3\n",
      "[True]  Prediction : 0,  True Y : 0\n",
      "[True]  Prediction : 0,  True Y : 0\n",
      "[True]  Prediction : 1,  True Y : 1\n",
      "[True]  Prediction : 3,  True Y : 3\n",
      "[True]  Prediction : 5,  True Y : 5\n",
      "[True]  Prediction : 5,  True Y : 5\n",
      "[True]  Prediction : 1,  True Y : 1\n",
      "[True]  Prediction : 5,  True Y : 5\n",
      "[True]  Prediction : 1,  True Y : 1\n",
      "[True]  Prediction : 0,  True Y : 0\n",
      "[True]  Prediction : 0,  True Y : 0\n",
      "[True]  Prediction : 6,  True Y : 6\n",
      "[True]  Prediction : 0,  True Y : 0\n",
      "[True]  Prediction : 0,  True Y : 0\n",
      "[True]  Prediction : 0,  True Y : 0\n",
      "[True]  Prediction : 0,  True Y : 0\n",
      "[True]  Prediction : 5,  True Y : 5\n",
      "[True]  Prediction : 4,  True Y : 4\n",
      "[True]  Prediction : 6,  True Y : 6\n",
      "[True]  Prediction : 0,  True Y : 0\n",
      "[True]  Prediction : 0,  True Y : 0\n",
      "[True]  Prediction : 1,  True Y : 1\n",
      "[True]  Prediction : 1,  True Y : 1\n",
      "[True]  Prediction : 1,  True Y : 1\n",
      "[True]  Prediction : 1,  True Y : 1\n",
      "[True]  Prediction : 3,  True Y : 3\n",
      "[True]  Prediction : 3,  True Y : 3\n",
      "[True]  Prediction : 2,  True Y : 2\n",
      "[True]  Prediction : 0,  True Y : 0\n",
      "[True]  Prediction : 0,  True Y : 0\n",
      "[True]  Prediction : 0,  True Y : 0\n",
      "[True]  Prediction : 0,  True Y : 0\n",
      "[True]  Prediction : 0,  True Y : 0\n",
      "[True]  Prediction : 0,  True Y : 0\n",
      "[True]  Prediction : 0,  True Y : 0\n",
      "[True]  Prediction : 0,  True Y : 0\n",
      "[True]  Prediction : 1,  True Y : 1\n",
      "[True]  Prediction : 6,  True Y : 6\n",
      "[True]  Prediction : 3,  True Y : 3\n",
      "[True]  Prediction : 0,  True Y : 0\n",
      "[True]  Prediction : 0,  True Y : 0\n",
      "[True]  Prediction : 2,  True Y : 2\n",
      "[True]  Prediction : 6,  True Y : 6\n",
      "[True]  Prediction : 1,  True Y : 1\n",
      "[True]  Prediction : 1,  True Y : 1\n",
      "[True]  Prediction : 2,  True Y : 2\n",
      "[True]  Prediction : 6,  True Y : 6\n",
      "[True]  Prediction : 3,  True Y : 3\n",
      "[True]  Prediction : 1,  True Y : 1\n",
      "[True]  Prediction : 0,  True Y : 0\n",
      "[True]  Prediction : 6,  True Y : 6\n",
      "[True]  Prediction : 3,  True Y : 3\n",
      "[True]  Prediction : 1,  True Y : 1\n",
      "[True]  Prediction : 5,  True Y : 5\n",
      "[True]  Prediction : 4,  True Y : 4\n",
      "[True]  Prediction : 2,  True Y : 2\n",
      "[True]  Prediction : 2,  True Y : 2\n",
      "[True]  Prediction : 3,  True Y : 3\n",
      "[True]  Prediction : 0,  True Y : 0\n",
      "[True]  Prediction : 0,  True Y : 0\n",
      "[True]  Prediction : 1,  True Y : 1\n",
      "[True]  Prediction : 0,  True Y : 0\n",
      "[True]  Prediction : 5,  True Y : 5\n",
      "[True]  Prediction : 0,  True Y : 0\n",
      "[True]  Prediction : 6,  True Y : 6\n",
      "[True]  Prediction : 1,  True Y : 1\n"
     ]
    }
   ],
   "source": [
    "# Let's see if we can predict\n",
    "pred = sess.run(prediction, feed_dict={X: x_data})\n",
    "\n",
    "# y_data: (N,1) = flatten => (N, ) matches pred.shape\n",
    "for p, y in zip(pred, y_data.flatten()):\n",
    "    print(\"[{}]  Prediction : {},  True Y : {}\".format(p == int(y), p, int(y)))\n",
    "    # print(\"[{}]  Prediction : {},  True Y : {}, y_data : {}\".format(p == int(y), p, int(y), y_data))"
   ]
  },
  {
   "cell_type": "code",
   "execution_count": null,
   "metadata": {},
   "outputs": [],
   "source": []
  }
 ],
 "metadata": {
  "kernelspec": {
   "display_name": "Python 3",
   "language": "python",
   "name": "python3"
  },
  "language_info": {
   "codemirror_mode": {
    "name": "ipython",
    "version": 3
   },
   "file_extension": ".py",
   "mimetype": "text/x-python",
   "name": "python",
   "nbconvert_exporter": "python",
   "pygments_lexer": "ipython3",
   "version": "3.7.3"
  }
 },
 "nbformat": 4,
 "nbformat_minor": 2
}
