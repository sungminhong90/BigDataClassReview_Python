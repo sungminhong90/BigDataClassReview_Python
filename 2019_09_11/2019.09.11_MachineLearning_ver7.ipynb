{
 "cells": [
  {
   "cell_type": "markdown",
   "metadata": {},
   "source": [
    "## Sect7. Learning rate, Evaluation"
   ]
  },
  {
   "cell_type": "code",
   "execution_count": 1,
   "metadata": {},
   "outputs": [],
   "source": [
    "from IPython.display import Image \n",
    "from tqdm import tqdm_notebook"
   ]
  },
  {
   "cell_type": "markdown",
   "metadata": {},
   "source": [
    "### learning_rate 에 따른 학습\n",
    "- Case1 : learning_rate = 0.1\n",
    "- Case2 : learning_rate = 1.5\n",
    "- Case3 : learning_rate = 1e-5"
   ]
  },
  {
   "cell_type": "markdown",
   "metadata": {},
   "source": [
    "### Case1 : learning_rate = 0.1 "
   ]
  },
  {
   "cell_type": "code",
   "execution_count": 2,
   "metadata": {},
   "outputs": [
    {
     "name": "stderr",
     "output_type": "stream",
     "text": [
      "WARNING: Logging before flag parsing goes to stderr.\n",
      "W0911 21:51:09.999814 14776 deprecation.py:323] From <ipython-input-2-5ec3f4625285>:32: arg_max (from tensorflow.python.ops.gen_math_ops) is deprecated and will be removed in a future version.\n",
      "Instructions for updating:\n",
      "Use `tf.math.argmax` instead\n"
     ]
    }
   ],
   "source": [
    "import tensorflow as tf\n",
    "import numpy as np\n",
    "tf.set_random_seed(777)  # for reproducibility\n",
    "\n",
    "learning_rate = 0.1\n",
    "\n",
    "x_data = [[1, 2, 1], [1, 3, 2], [1, 3, 4], [1, 5, 5], [1, 7, 5], [1, 2, 5], [1, 6, 6], [1, 7, 7]]\n",
    "y_data = [[0, 0, 1], [0, 0, 1], [0, 0, 1], [0, 1, 0], [0, 1, 0], [0, 1, 0], [1, 0, 0], [1, 0, 0]]\n",
    "\n",
    "# Evaluation our model using this test dataset\n",
    "x_test = [[2, 1, 1], [3, 1, 2], [3, 3, 4]]\n",
    "y_test = [[0, 0, 1], [0, 0, 1], [0, 0, 1]]\n",
    "\n",
    "X = tf.placeholder(\"float\", [None, 3])\n",
    "Y = tf.placeholder(\"float\", [None, 3])\n",
    "\n",
    "W = tf.Variable(tf.random_normal([3, 3]))\n",
    "b = tf.Variable(tf.random_normal([3]))\n",
    "\n",
    "# tf.nn.softmax computes softmax activations\n",
    "# softmax = exp(logits) / reduce_sum(exp(logits), dim)\n",
    "hypothesis = tf.nn.softmax(tf.matmul(X, W) + b)\n",
    "\n",
    "# Cross entropy cost/loss\n",
    "cost = tf.reduce_mean(-tf.reduce_sum(Y * tf.log(hypothesis), axis=1))\n",
    "\n",
    "# Try to change learning_rate to small numbers\n",
    "optimizer = tf.train.GradientDescentOptimizer(\n",
    "    learning_rate=learning_rate).minimize(cost)\n",
    "\n",
    "# Correct prediction Test model\n",
    "prediction = tf.arg_max(hypothesis, 1)\n",
    "is_correct = tf.equal(prediction, tf.arg_max(Y, 1))\n",
    "accuracy   = tf.reduce_mean(tf.cast(is_correct, tf.float32))"
   ]
  },
  {
   "cell_type": "code",
   "execution_count": 3,
   "metadata": {},
   "outputs": [
    {
     "data": {
      "application/vnd.jupyter.widget-view+json": {
       "model_id": "cbb1ab3c96f54c31b9a3b4cec6d9aa83",
       "version_major": 2,
       "version_minor": 0
      },
      "text/plain": [
       "HBox(children=(IntProgress(value=0, max=201), HTML(value='')))"
      ]
     },
     "metadata": {},
     "output_type": "display_data"
    },
    {
     "name": "stdout",
     "output_type": "stream",
     "text": [
      "\n",
      " Step : 0 \n",
      " Cost : 5.732029914855957 \n",
      " Weight : \n",
      "[[ 0.7288166   0.7153621  -1.1801533 ]\n",
      " [-0.5775373  -0.1298833   1.6072978 ]\n",
      " [ 0.48373488 -0.51433605 -2.02127   ]]\n",
      "\n",
      " Step : 20 \n",
      " Cost : 1.6610023975372314 \n",
      " Weight : \n",
      "[[ 0.35837558  0.7006911  -0.79504126]\n",
      " [-0.52181023 -0.14752221  1.5692097 ]\n",
      " [-0.00524237 -0.21694617 -1.8296825 ]]\n",
      "\n",
      " Step : 40 \n",
      " Cost : 1.4070581197738647 \n",
      " Weight : \n",
      "[[ 0.08632909  0.6441535  -0.4664571 ]\n",
      " [-0.27831438 -0.19541699  1.3736087 ]\n",
      " [-0.1410587  -0.16434793 -1.7464643 ]]\n",
      "\n",
      " Step : 60 \n",
      " Cost : 1.2188071012496948 \n",
      " Weight : \n",
      "[[-0.14574492  0.5804331  -0.17066267]\n",
      " [-0.1107574  -0.17286864  1.1835035 ]\n",
      " [-0.22450283 -0.17601462 -1.6513534 ]]\n",
      "\n",
      " Step : 80 \n",
      " Cost : 1.071008563041687 \n",
      " Weight : \n",
      "[[-0.3455095   0.51687735  0.09265766]\n",
      " [ 0.01382142 -0.11677314  1.0028291 ]\n",
      " [-0.28096488 -0.21812554 -1.5527804 ]]\n",
      "\n",
      " Step : 100 \n",
      " Cost : 0.9537602663040161 \n",
      " Weight : \n",
      "[[-0.52009284  0.45806164  0.3260568 ]\n",
      " [ 0.11236382 -0.04872458  0.836238  ]\n",
      " [-0.3214388  -0.27116385 -1.459268  ]]\n",
      "\n",
      " Step : 120 \n",
      " Cost : 0.8621566891670227 \n",
      " Weight : \n",
      "[[-0.67484623  0.40643018  0.5324416 ]\n",
      " [ 0.1923776   0.01887331  0.6886263 ]\n",
      " [-0.34947643 -0.32348004 -1.3789141 ]]\n",
      "\n",
      " Step : 140 \n",
      " Cost : 0.7924156188964844 \n",
      " Weight : \n",
      "[[-0.8135464   0.3631061   0.71446586]\n",
      " [ 0.25704396  0.07866947  0.5641638 ]\n",
      " [-0.36590376 -0.36808777 -1.3178791 ]]\n",
      "\n",
      " Step : 160 \n",
      " Cost : 0.7402976751327515 \n",
      " Weight : \n",
      "[[-0.9389807   0.32821026  0.87479585]\n",
      " [ 0.30803517  0.12709357  0.46474853]\n",
      " [-0.3713141  -0.40190813 -1.2786481 ]]\n",
      "\n",
      " Step : 180 \n",
      " Cost : 0.7011598944664001 \n",
      " Weight : \n",
      "[[-1.053429    0.30107254  1.0163819 ]\n",
      " [ 0.3470283   0.16383722  0.38901186]\n",
      " [-0.36711124 -0.42523238 -1.2595267 ]]\n",
      "\n",
      " Step : 200 \n",
      " Cost : 0.6709086894989014 \n",
      " Weight : \n",
      "[[-1.1588544   0.28058413  1.1422955 ]\n",
      " [ 0.3760981   0.1907323   0.33304697]\n",
      " [-0.35536587 -0.44033217 -1.2561723 ]]\n",
      "\n",
      "------------------------------------------------------------\n",
      "Prediction \t: [2 2 2]\n",
      "Accuracy \t:  1.0\n"
     ]
    }
   ],
   "source": [
    "# Launch graph\n",
    "with tf.Session() as sess:\n",
    "    # Initialize TensorFlow variables\n",
    "    sess.run(tf.global_variables_initializer())\n",
    "\n",
    "    for step in tqdm_notebook(range(201)):\n",
    "        cost_val, W_val, _ = sess.run(\n",
    "            [cost, W, optimizer], feed_dict={X: x_data, Y: y_data})\n",
    "        if step%20 == 0:\n",
    "            print(\"\\n Step : {} \\n Cost : {} \\n Weight : \\n{}\".format(step, cost_val, W_val))\n",
    "\n",
    "    print(\"-\"*60)\n",
    "    # predict\n",
    "    print(\"Prediction \\t:\", sess.run(prediction, feed_dict={X: x_test}))\n",
    "    # Calculate the accuracy\n",
    "    print(\"Accuracy \\t: \", sess.run(accuracy, feed_dict={X: x_test, Y: y_test}))"
   ]
  },
  {
   "cell_type": "markdown",
   "metadata": {},
   "source": [
    "### Case2 : learning_rate = 1.5 "
   ]
  },
  {
   "cell_type": "code",
   "execution_count": 4,
   "metadata": {},
   "outputs": [],
   "source": [
    "import tensorflow as tf\n",
    "import numpy as np\n",
    "\n",
    "tf.set_random_seed(777)  # for reproducibility\n",
    "\n",
    "learning_rate = 1.5\n",
    "\n",
    "x_data = [[1, 2, 1], [1, 3, 2], [1, 3, 4], [1, 5, 5], [1, 7, 5], [1, 2, 5], [1, 6, 6], [1, 7, 7]]\n",
    "y_data = [[0, 0, 1], [0, 0, 1], [0, 0, 1], [0, 1, 0], [0, 1, 0], [0, 1, 0], [1, 0, 0], [1, 0, 0]]\n",
    "\n",
    "# Evaluation our model using this test dataset\n",
    "x_test = [[2, 1, 1], [3, 1, 2], [3, 3, 4]]\n",
    "y_test = [[0, 0, 1], [0, 0, 1], [0, 0, 1]]\n",
    "\n",
    "X = tf.placeholder(\"float\", [None, 3])\n",
    "Y = tf.placeholder(\"float\", [None, 3])\n",
    "\n",
    "W = tf.Variable(tf.random_normal([3, 3]))\n",
    "b = tf.Variable(tf.random_normal([3]))\n",
    "\n",
    "# tf.nn.softmax computes softmax activations\n",
    "# softmax = exp(logits) / reduce_sum(exp(logits), dim)\n",
    "hypothesis = tf.nn.softmax(tf.matmul(X, W) + b)\n",
    "\n",
    "# Cross entropy cost/loss\n",
    "cost = tf.reduce_mean(-tf.reduce_sum(Y * tf.log(hypothesis), axis=1))\n",
    "\n",
    "# Try to change learning_rate to small numbers\n",
    "optimizer = tf.train.GradientDescentOptimizer(\n",
    "    learning_rate=learning_rate).minimize(cost)\n",
    "\n",
    "# Correct prediction Test model\n",
    "prediction = tf.arg_max(hypothesis, 1)\n",
    "is_correct = tf.equal(prediction, tf.arg_max(Y, 1))\n",
    "accuracy = tf.reduce_mean(tf.cast(is_correct, tf.float32))"
   ]
  },
  {
   "cell_type": "code",
   "execution_count": 5,
   "metadata": {},
   "outputs": [
    {
     "name": "stdout",
     "output_type": "stream",
     "text": [
      "\n",
      " Step : 0 \n",
      " Cost : 4.536120414733887 \n",
      " Weight : \n",
      "[[-1.9139316   1.1026288   1.794597  ]\n",
      " [-1.9765704   3.0702064   0.45361483]\n",
      " [-4.111822    1.2449876   0.32312405]]\n",
      "\n",
      " Step : 1 \n",
      " Cost : 22.07525634765625 \n",
      " Weight : \n",
      "[[-1.5389316   0.16525811  2.3569677 ]\n",
      " [ 0.46092963 -0.86703086  1.953352  ]\n",
      " [-1.6743221  -2.5048656   1.6354772 ]]\n",
      "\n",
      " Step : 2 \n",
      " Cost : 22.286514282226562 \n",
      " Weight : \n",
      "[[-1.1639359   0.72775644  1.4194736 ]\n",
      " [ 2.898421    1.7579658  -3.109136  ]\n",
      " [ 0.7631736   0.30763245 -3.6145172 ]]\n",
      "\n",
      " Step : 3 \n",
      " Cost : 11.074289321899414 \n",
      " Weight : \n",
      "[[-2.095823    1.0971437   1.9819736 ]\n",
      " [-0.77930856  3.9356956  -1.6091362 ]\n",
      " [-2.9448996   2.703206   -2.3020172 ]]\n",
      "\n",
      " Step : 4 \n",
      " Cost : 28.454132080078125 \n",
      " Weight : \n",
      "[[-1.72082305e+00  1.59643650e-01  2.54447365e+00]\n",
      " [ 1.65819144e+00 -1.80435181e-03 -1.09136224e-01]\n",
      " [-5.07399559e-01 -1.04679394e+00 -9.89517212e-01]]\n",
      "\n",
      " Step : 20 \n",
      " Cost : nan \n",
      " Weight : \n",
      "[[nan nan nan]\n",
      " [nan nan nan]\n",
      " [nan nan nan]]\n",
      "\n",
      " Step : 40 \n",
      " Cost : nan \n",
      " Weight : \n",
      "[[nan nan nan]\n",
      " [nan nan nan]\n",
      " [nan nan nan]]\n",
      "\n",
      " Step : 60 \n",
      " Cost : nan \n",
      " Weight : \n",
      "[[nan nan nan]\n",
      " [nan nan nan]\n",
      " [nan nan nan]]\n",
      "\n",
      " Step : 80 \n",
      " Cost : nan \n",
      " Weight : \n",
      "[[nan nan nan]\n",
      " [nan nan nan]\n",
      " [nan nan nan]]\n",
      "\n",
      " Step : 100 \n",
      " Cost : nan \n",
      " Weight : \n",
      "[[nan nan nan]\n",
      " [nan nan nan]\n",
      " [nan nan nan]]\n",
      "\n",
      " Step : 120 \n",
      " Cost : nan \n",
      " Weight : \n",
      "[[nan nan nan]\n",
      " [nan nan nan]\n",
      " [nan nan nan]]\n",
      "\n",
      " Step : 140 \n",
      " Cost : nan \n",
      " Weight : \n",
      "[[nan nan nan]\n",
      " [nan nan nan]\n",
      " [nan nan nan]]\n",
      "\n",
      " Step : 160 \n",
      " Cost : nan \n",
      " Weight : \n",
      "[[nan nan nan]\n",
      " [nan nan nan]\n",
      " [nan nan nan]]\n",
      "\n",
      " Step : 180 \n",
      " Cost : nan \n",
      " Weight : \n",
      "[[nan nan nan]\n",
      " [nan nan nan]\n",
      " [nan nan nan]]\n",
      "\n",
      " Step : 200 \n",
      " Cost : nan \n",
      " Weight : \n",
      "[[nan nan nan]\n",
      " [nan nan nan]\n",
      " [nan nan nan]]\n",
      "------------------------------------------------------------\n",
      "Prediction \t: [0 0 0]\n",
      "Accuracy \t:  0.0\n"
     ]
    }
   ],
   "source": [
    "# Launch graph\n",
    "with tf.Session() as sess:\n",
    "    # Initialize TensorFlow variables\n",
    "    sess.run(tf.global_variables_initializer())\n",
    "\n",
    "    for step in range(201):\n",
    "        cost_val, W_val, _ = sess.run(\n",
    "            [cost, W, optimizer], feed_dict={X: x_data, Y: y_data})\n",
    "        if step%20 == 0 or step<5:\n",
    "            print(\"\\n Step : {} \\n Cost : {} \\n Weight : \\n{}\".format(step, cost_val, W_val))\n",
    "    print(\"-\"*60)\n",
    "    # predict\n",
    "    print(\"Prediction \\t:\", sess.run(prediction, feed_dict={X: x_test}))\n",
    "    # Calculate the accuracy\n",
    "    print(\"Accuracy \\t: \", sess.run(accuracy, feed_dict={X: x_test, Y: y_test}))"
   ]
  },
  {
   "cell_type": "markdown",
   "metadata": {},
   "source": [
    "### Case3 : learning_rate = 1e-5"
   ]
  },
  {
   "cell_type": "code",
   "execution_count": 6,
   "metadata": {},
   "outputs": [],
   "source": [
    "import tensorflow as tf\n",
    "import numpy as np\n",
    "\n",
    "tf.set_random_seed(777)  # for reproducibility\n",
    "\n",
    "learning_rate = 1e-5\n",
    "\n",
    "x_data = [[1, 2, 1], [1, 3, 2], [1, 3, 4], [1, 5, 5], [1, 7, 5], [1, 2, 5], [1, 6, 6], [1, 7, 7]]\n",
    "y_data = [[0, 0, 1], [0, 0, 1], [0, 0, 1], [0, 1, 0], [0, 1, 0], [0, 1, 0], [1, 0, 0], [1, 0, 0]]\n",
    "\n",
    "# Evaluation our model using this test dataset\n",
    "x_test = [[2, 1, 1], [3, 1, 2], [3, 3, 4]]\n",
    "y_test = [[0, 0, 1], [0, 0, 1], [0, 0, 1]]\n",
    "\n",
    "X = tf.placeholder(\"float\", [None, 3])\n",
    "Y = tf.placeholder(\"float\", [None, 3])\n",
    "\n",
    "W = tf.Variable(tf.random_normal([3, 3]))\n",
    "b = tf.Variable(tf.random_normal([3]))\n",
    "\n",
    "# tf.nn.softmax computes softmax activations\n",
    "# softmax = exp(logits) / reduce_sum(exp(logits), dim)\n",
    "hypothesis = tf.nn.softmax(tf.matmul(X, W) + b)\n",
    "\n",
    "# Cross entropy cost/loss\n",
    "cost = tf.reduce_mean(-tf.reduce_sum(Y * tf.log(hypothesis), axis=1))\n",
    "\n",
    "# Try to change learning_rate to small numbers\n",
    "optimizer = tf.train.GradientDescentOptimizer(\n",
    "    learning_rate=learning_rate).minimize(cost)\n",
    "\n",
    "# Correct prediction Test model\n",
    "prediction = tf.arg_max(hypothesis, 1)\n",
    "is_correct = tf.equal(prediction, tf.arg_max(Y, 1))\n",
    "accuracy = tf.reduce_mean(tf.cast(is_correct, tf.float32))"
   ]
  },
  {
   "cell_type": "code",
   "execution_count": 7,
   "metadata": {},
   "outputs": [
    {
     "name": "stdout",
     "output_type": "stream",
     "text": [
      "\n",
      " Step : 0 \n",
      " Cost : 3.1290576457977295 \n",
      " Weight : \n",
      "[[-1.3092784   0.9677886   1.614925  ]\n",
      " [ 0.30826908  0.32995102 -0.39388904]\n",
      " [ 0.96012723  1.6256702  -0.1544437 ]]\n",
      "\n",
      " Step : 20 \n",
      " Cost : 3.125328540802002 \n",
      " Weight : \n",
      "[[-1.3092378   0.9676765   1.6149966 ]\n",
      " [ 0.3085638   0.32946226 -0.39369473]\n",
      " [ 0.96042883  1.6251981  -0.15427174]]\n",
      "\n",
      " Step : 40 \n",
      " Cost : 3.1216015815734863 \n",
      " Weight : \n",
      "[[-1.3091987   0.96756446  1.6150681 ]\n",
      " [ 0.30885825  0.3289735  -0.39350042]\n",
      " [ 0.96073043  1.624726   -0.15409978]]\n",
      "\n",
      " Step : 60 \n",
      " Cost : 3.1178762912750244 \n",
      " Weight : \n",
      "[[-1.3091606   0.9674524   1.6151396 ]\n",
      " [ 0.3091527   0.32848474 -0.3933061 ]\n",
      " [ 0.9610315   1.624254   -0.15392782]]\n",
      "\n",
      " Step : 80 \n",
      " Cost : 3.1141550540924072 \n",
      " Weight : \n",
      "[[-1.3091224   0.96734154  1.6152111 ]\n",
      " [ 0.30944714  0.32799646 -0.3931118 ]\n",
      " [ 0.9613319   1.6237819  -0.15375586]]\n",
      "\n",
      " Step : 100 \n",
      " Cost : 3.110436201095581 \n",
      " Weight : \n",
      "[[-1.3090843   0.9672307   1.6152827 ]\n",
      " [ 0.30974135  0.3275083  -0.39291748]\n",
      " [ 0.9616323   1.6233099  -0.1535839 ]]\n",
      "\n",
      " Step : 120 \n",
      " Cost : 3.1067185401916504 \n",
      " Weight : \n",
      "[[-1.3090461   0.9671198   1.6153542 ]\n",
      " [ 0.3100352   0.32702014 -0.39272317]\n",
      " [ 0.9619327   1.6228378  -0.15341194]]\n",
      "\n",
      " Step : 140 \n",
      " Cost : 3.1030020713806152 \n",
      " Weight : \n",
      "[[-1.309008    0.96700895  1.6154257 ]\n",
      " [ 0.31032905  0.32653198 -0.39252886]\n",
      " [ 0.9622331   1.6223657  -0.15323998]]\n",
      "\n",
      " Step : 160 \n",
      " Cost : 3.0992887020111084 \n",
      " Weight : \n",
      "[[-1.3089699   0.9668981   1.6154972 ]\n",
      " [ 0.3106229   0.3260444  -0.39233455]\n",
      " [ 0.96253353  1.6218936  -0.15306802]]\n",
      "\n",
      " Step : 180 \n",
      " Cost : 3.095576763153076 \n",
      " Weight : \n",
      "[[-1.3089317   0.9667872   1.6155688 ]\n",
      " [ 0.31091657  0.32555684 -0.39214024]\n",
      " [ 0.96283394  1.6214216  -0.15289606]]\n",
      "\n",
      " Step : 200 \n",
      " Cost : 3.0918667316436768 \n",
      " Weight : \n",
      "[[-1.3088936   0.96667635  1.6156403 ]\n",
      " [ 0.31120983  0.32506928 -0.39194593]\n",
      " [ 0.96313435  1.6209495  -0.1527241 ]]\n",
      "------------------------------------------------------------\n",
      "Prediction \t: [1 1 1]\n",
      "Accuracy \t:  0.0\n"
     ]
    }
   ],
   "source": [
    "# Launch graph\n",
    "with tf.Session() as sess:\n",
    "    # Initialize TensorFlow variables\n",
    "    sess.run(tf.global_variables_initializer())\n",
    "\n",
    "    for step in range(201):\n",
    "        cost_val, W_val, _ = sess.run(\n",
    "            [cost, W, optimizer], feed_dict={X: x_data, Y: y_data})\n",
    "        if step%20 == 0:\n",
    "            print(\"\\n Step : {} \\n Cost : {} \\n Weight : \\n{}\".format(step, cost_val, W_val))\n",
    "\n",
    "    print(\"-\"*60)\n",
    "    # predict\n",
    "    print(\"Prediction \\t:\", sess.run(prediction, feed_dict={X: x_test}))\n",
    "    # Calculate the accuracy\n",
    "    print(\"Accuracy \\t: \", sess.run(accuracy, feed_dict={X: x_test, Y: y_test}))"
   ]
  },
  {
   "cell_type": "markdown",
   "metadata": {},
   "source": [
    "### Non-normalized inputs\n",
    "Linear regression without min, max\n",
    "\n",
    "- 너무나 심플하고 멋진 모델임에도 불구하고 학습해보면 NaN 이 발생\n",
    "- 해결방안 : Nomalized 한다거나, MinMaxScaler 함수 사용"
   ]
  },
  {
   "cell_type": "code",
   "execution_count": 9,
   "metadata": {},
   "outputs": [
    {
     "name": "stdout",
     "output_type": "stream",
     "text": [
      " x_data : \n",
      "[[8.28659973e+02 8.33450012e+02 9.08100000e+05 8.28349976e+02]\n",
      " [8.23020020e+02 8.28070007e+02 1.82810000e+06 8.21655029e+02]\n",
      " [8.19929993e+02 8.24400024e+02 1.43810000e+06 8.18979980e+02]\n",
      " [8.16000000e+02 8.20958984e+02 1.00810000e+06 8.15489990e+02]\n",
      " [8.19359985e+02 8.23000000e+02 1.18810000e+06 8.18469971e+02]\n",
      " [8.19000000e+02 8.23000000e+02 1.19810000e+06 8.16000000e+02]\n",
      " [8.11700012e+02 8.15250000e+02 1.09810000e+06 8.09780029e+02]\n",
      " [8.09510010e+02 8.16659973e+02 1.39810000e+06 8.04539978e+02]]  \n",
      "\n",
      " y_data : \n",
      "[[831.659973]\n",
      " [828.070007]\n",
      " [824.159973]\n",
      " [819.23999 ]\n",
      " [818.97998 ]\n",
      " [820.450012]\n",
      " [813.669983]\n",
      " [809.559998]]\n"
     ]
    }
   ],
   "source": [
    "import tensorflow as tf\n",
    "import numpy as np\n",
    "\n",
    "tf.set_random_seed(777)  # for reproducibility\n",
    "\n",
    "xy = np.array([[828.659973, 833.450012, 908100,  828.349976, 831.659973],\n",
    "               [823.02002,  828.070007, 1828100, 821.655029, 828.070007],\n",
    "               [819.929993, 824.400024, 1438100, 818.97998,  824.159973],\n",
    "               [816,        820.958984, 1008100, 815.48999,  819.23999 ],\n",
    "               [819.359985, 823,        1188100, 818.469971, 818.97998 ],\n",
    "               [819,        823,        1198100, 816,        820.450012],\n",
    "               [811.700012, 815.25,     1098100, 809.780029, 813.669983],\n",
    "               [809.51001,  816.659973, 1398100, 804.539978, 809.559998]])\n",
    "# print(xy)\n",
    "\n",
    "x_data = xy[:, 0:-1]\n",
    "y_data = xy[:, [-1]]\n",
    "print(\" x_data : \\n{}  \\n\\n y_data : \\n{}\".format(x_data, y_data))\n",
    "\n",
    "# placeholders for a tensor that will be always fed.\n",
    "X = tf.placeholder(tf.float32, shape=[None, 4])\n",
    "Y = tf.placeholder(tf.float32, shape=[None, 1])\n",
    "\n",
    "W = tf.Variable(tf.random_normal([4, 1]), name='weight')\n",
    "b = tf.Variable(tf.random_normal([1]), name='bias')\n",
    "\n",
    "# Hypothesis\n",
    "hypothesis = tf.matmul(X, W) + b\n",
    "\n",
    "# Simplified cost/loss function\n",
    "cost = tf.reduce_mean(tf.square(hypothesis - Y))\n",
    "\n",
    "# Minimize\n",
    "optimizer = tf.train.GradientDescentOptimizer(learning_rate=1e-5)\n",
    "train = optimizer.minimize(cost)"
   ]
  },
  {
   "cell_type": "code",
   "execution_count": 10,
   "metadata": {},
   "outputs": [
    {
     "name": "stdout",
     "output_type": "stream",
     "text": [
      "Step : 0, \t Cost : 164811898880.0\n",
      "Step : 1, \t Cost : 1.8107558256403032e+26\n",
      "Step : 2, \t Cost : inf\n",
      "Step : 3, \t Cost : inf\n",
      "Step : 4, \t Cost : inf\n",
      "Step : 5, \t Cost : inf\n",
      "Step : 6, \t Cost : nan\n",
      "Step : 7, \t Cost : nan\n",
      "Step : 8, \t Cost : nan\n",
      "Step : 9, \t Cost : nan\n",
      "Step : 10, \t Cost : nan\n",
      "Step : 11, \t Cost : nan\n",
      "Step : 12, \t Cost : nan\n",
      "Step : 13, \t Cost : nan\n",
      "Step : 14, \t Cost : nan\n",
      "Step : 15, \t Cost : nan\n",
      "Step : 16, \t Cost : nan\n",
      "Step : 17, \t Cost : nan\n",
      "Step : 18, \t Cost : nan\n",
      "Step : 19, \t Cost : nan\n",
      "Step : 20, \t Cost : nan\n",
      "Step : 21, \t Cost : nan\n",
      "Step : 22, \t Cost : nan\n",
      "Step : 23, \t Cost : nan\n",
      "Step : 24, \t Cost : nan\n",
      "Step : 25, \t Cost : nan\n",
      "Step : 26, \t Cost : nan\n",
      "Step : 27, \t Cost : nan\n",
      "Step : 28, \t Cost : nan\n",
      "Step : 29, \t Cost : nan\n",
      "Step : 30, \t Cost : nan\n",
      "Step : 31, \t Cost : nan\n",
      "Step : 32, \t Cost : nan\n",
      "Step : 33, \t Cost : nan\n",
      "Step : 34, \t Cost : nan\n",
      "Step : 35, \t Cost : nan\n",
      "Step : 36, \t Cost : nan\n",
      "Step : 37, \t Cost : nan\n",
      "Step : 38, \t Cost : nan\n",
      "Step : 39, \t Cost : nan\n",
      "Step : 40, \t Cost : nan\n",
      "Step : 41, \t Cost : nan\n",
      "Step : 42, \t Cost : nan\n",
      "Step : 43, \t Cost : nan\n",
      "Step : 44, \t Cost : nan\n",
      "Step : 45, \t Cost : nan\n",
      "Step : 46, \t Cost : nan\n",
      "Step : 47, \t Cost : nan\n",
      "Step : 48, \t Cost : nan\n",
      "Step : 49, \t Cost : nan\n",
      "Step : 50, \t Cost : nan\n",
      "Step : 51, \t Cost : nan\n",
      "Step : 52, \t Cost : nan\n",
      "Step : 53, \t Cost : nan\n",
      "Step : 54, \t Cost : nan\n",
      "Step : 55, \t Cost : nan\n",
      "Step : 56, \t Cost : nan\n",
      "Step : 57, \t Cost : nan\n",
      "Step : 58, \t Cost : nan\n",
      "Step : 59, \t Cost : nan\n",
      "Step : 60, \t Cost : nan\n",
      "Step : 61, \t Cost : nan\n",
      "Step : 62, \t Cost : nan\n",
      "Step : 63, \t Cost : nan\n",
      "Step : 64, \t Cost : nan\n",
      "Step : 65, \t Cost : nan\n",
      "Step : 66, \t Cost : nan\n",
      "Step : 67, \t Cost : nan\n",
      "Step : 68, \t Cost : nan\n",
      "Step : 69, \t Cost : nan\n",
      "Step : 70, \t Cost : nan\n",
      "Step : 71, \t Cost : nan\n",
      "Step : 72, \t Cost : nan\n",
      "Step : 73, \t Cost : nan\n",
      "Step : 74, \t Cost : nan\n",
      "Step : 75, \t Cost : nan\n",
      "Step : 76, \t Cost : nan\n",
      "Step : 77, \t Cost : nan\n",
      "Step : 78, \t Cost : nan\n",
      "Step : 79, \t Cost : nan\n",
      "Step : 80, \t Cost : nan\n",
      "Step : 81, \t Cost : nan\n",
      "Step : 82, \t Cost : nan\n",
      "Step : 83, \t Cost : nan\n",
      "Step : 84, \t Cost : nan\n",
      "Step : 85, \t Cost : nan\n",
      "Step : 86, \t Cost : nan\n",
      "Step : 87, \t Cost : nan\n",
      "Step : 88, \t Cost : nan\n",
      "Step : 89, \t Cost : nan\n",
      "Step : 90, \t Cost : nan\n",
      "Step : 91, \t Cost : nan\n",
      "Step : 92, \t Cost : nan\n",
      "Step : 93, \t Cost : nan\n",
      "Step : 94, \t Cost : nan\n",
      "Step : 95, \t Cost : nan\n",
      "Step : 96, \t Cost : nan\n",
      "Step : 97, \t Cost : nan\n",
      "Step : 98, \t Cost : nan\n",
      "Step : 99, \t Cost : nan\n",
      "Step : 100, \t Cost : nan\n"
     ]
    }
   ],
   "source": [
    "# Launch the graph in a session.\n",
    "sess = tf.Session()\n",
    "# Initializes global variables in the graph.\n",
    "sess.run(tf.global_variables_initializer())\n",
    "\n",
    "for step in range(101):\n",
    "    cost_val, hy_val, _ = sess.run(\n",
    "        [cost, hypothesis, train], feed_dict={X: x_data, Y: y_data})\n",
    "    print(\"Step : {}, \\t Cost : {}\".format(step, cost_val))\n",
    "    # print(\"\\n step : {}, \\n Cost : {} \\n Prediction : {}\".format(step, cost_val, hy_val))"
   ]
  },
  {
   "cell_type": "code",
   "execution_count": 11,
   "metadata": {},
   "outputs": [],
   "source": [
    "### Linear regression with min, max"
   ]
  },
  {
   "cell_type": "code",
   "execution_count": 12,
   "metadata": {},
   "outputs": [
    {
     "data": {
      "text/plain": [
       "array([[0, 1],\n",
       "       [2, 3]])"
      ]
     },
     "execution_count": 12,
     "metadata": {},
     "output_type": "execute_result"
    }
   ],
   "source": [
    "a = np.arange(4).reshape((2,2))\n",
    "a"
   ]
  },
  {
   "cell_type": "code",
   "execution_count": 13,
   "metadata": {},
   "outputs": [
    {
     "data": {
      "text/plain": [
       "0"
      ]
     },
     "execution_count": 13,
     "metadata": {},
     "output_type": "execute_result"
    }
   ],
   "source": [
    "np.min(a)"
   ]
  },
  {
   "cell_type": "code",
   "execution_count": 14,
   "metadata": {},
   "outputs": [
    {
     "data": {
      "text/plain": [
       "array([0, 1])"
      ]
     },
     "execution_count": 14,
     "metadata": {},
     "output_type": "execute_result"
    }
   ],
   "source": [
    "np.min(a, axis=0)"
   ]
  },
  {
   "cell_type": "code",
   "execution_count": 15,
   "metadata": {},
   "outputs": [
    {
     "data": {
      "text/plain": [
       "array([0, 2])"
      ]
     },
     "execution_count": 15,
     "metadata": {},
     "output_type": "execute_result"
    }
   ],
   "source": [
    "np.min(a, axis=1)"
   ]
  },
  {
   "cell_type": "code",
   "execution_count": 16,
   "metadata": {},
   "outputs": [
    {
     "name": "stdout",
     "output_type": "stream",
     "text": [
      " max.data :\n",
      " [8.28659973e+02 8.33450012e+02 1.82810000e+06 8.28349976e+02\n",
      " 8.31659973e+02], \n",
      "\n",
      " min.data :\n",
      " [8.09510010e+02 8.15250000e+02 9.08100000e+05 8.04539978e+02\n",
      " 8.09559998e+02], \n",
      "\n",
      " numerator :\n",
      " [[1.9149963e+01 1.8200012e+01 0.0000000e+00 2.3809998e+01 2.2099975e+01]\n",
      " [1.3510010e+01 1.2820007e+01 9.2000000e+05 1.7115051e+01 1.8510009e+01]\n",
      " [1.0419983e+01 9.1500240e+00 5.3000000e+05 1.4440002e+01 1.4599975e+01]\n",
      " [6.4899900e+00 5.7089840e+00 1.0000000e+05 1.0950012e+01 9.6799920e+00]\n",
      " [9.8499750e+00 7.7500000e+00 2.8000000e+05 1.3929993e+01 9.4199820e+00]\n",
      " [9.4899900e+00 7.7500000e+00 2.9000000e+05 1.1460022e+01 1.0890014e+01]\n",
      " [2.1900020e+00 0.0000000e+00 1.9000000e+05 5.2400510e+00 4.1099850e+00]\n",
      " [0.0000000e+00 1.4099730e+00 4.9000000e+05 0.0000000e+00 0.0000000e+00]], \n",
      "\n",
      " denominator :\n",
      " [1.9149963e+01 1.8200012e+01 9.2000000e+05 2.3809998e+01 2.2099975e+01] \n",
      "\n",
      " xy : MinMaxScaler(xy) = numerator / (denominator + 1e-7) \n",
      " [[0.99999948 0.99999945 0.         0.99999958 0.99999955]\n",
      " [0.70548455 0.70439514 1.         0.71881752 0.83755754]\n",
      " [0.54412521 0.50274796 0.57608696 0.60646775 0.6606328 ]\n",
      " [0.33890335 0.31368006 0.10869565 0.45989115 0.43800899]\n",
      " [0.51435973 0.42582366 0.30434783 0.58504781 0.42624382]\n",
      " [0.49556153 0.42582366 0.31521739 0.48131114 0.49276115]\n",
      " [0.11436058 0.         0.20652174 0.22007767 0.1859723 ]\n",
      " [0.         0.07747095 0.5326087  0.         0.        ]]\n",
      "\n",
      " x_data : \n",
      "[[0.99999948 0.99999945 0.         0.99999958]\n",
      " [0.70548455 0.70439514 1.         0.71881752]\n",
      " [0.54412521 0.50274796 0.57608696 0.60646775]\n",
      " [0.33890335 0.31368006 0.10869565 0.45989115]\n",
      " [0.51435973 0.42582366 0.30434783 0.58504781]\n",
      " [0.49556153 0.42582366 0.31521739 0.48131114]\n",
      " [0.11436058 0.         0.20652174 0.22007767]\n",
      " [0.         0.07747095 0.5326087  0.        ]]  \n",
      "\n",
      " y_data : \n",
      "[[0.99999955]\n",
      " [0.83755754]\n",
      " [0.6606328 ]\n",
      " [0.43800899]\n",
      " [0.42624382]\n",
      " [0.49276115]\n",
      " [0.1859723 ]\n",
      " [0.        ]]\n"
     ]
    }
   ],
   "source": [
    "import tensorflow as tf\n",
    "import numpy as np\n",
    "\n",
    "tf.set_random_seed(777)  # for reproducibility\n",
    "\n",
    "def MinMaxScaler(data):\n",
    "    numerator = data - np.min(data, 0)\n",
    "    denominator = np.max(data, 0) - np.min(data, 0)\n",
    "    print(\" max.data :\\n {max}, \\n\\n min.data :\\n {min}, \\n\\n numerator :\\n {numerator}, \\n\\n denominator :\\n {denominator} \\n\".format(\n",
    "            max = np.max(data, 0), \n",
    "            min = np.min(data, 0),\n",
    "            numerator = numerator,\n",
    "            denominator = denominator\n",
    "        ))\n",
    "\n",
    "    # noise term prevents the zero division\n",
    "    return numerator / (denominator + 1e-5)\n",
    "\n",
    "\n",
    "xy = np.array([[828.659973, 833.450012, 908100,  828.349976, 831.659973],\n",
    "               [823.02002,  828.070007, 1828100, 821.655029, 828.070007],\n",
    "               [819.929993, 824.400024, 1438100, 818.97998,  824.159973],\n",
    "               [816,        820.958984, 1008100, 815.48999,  819.23999 ],\n",
    "               [819.359985, 823,        1188100, 818.469971, 818.97998 ],\n",
    "               [819,        823,        1198100, 816,        820.450012],\n",
    "               [811.700012, 815.25,     1098100, 809.780029, 813.669983],\n",
    "               [809.51001,  816.659973, 1398100, 804.539978, 809.559998]])\n",
    "\n",
    "# print(\"np.max(xy, 0) :\", np.max(xy, 0))\n",
    "# print(\"np.min(xy, 0) :\", np.min(xy, 0))\n",
    "\n",
    "# very important. It does not work without it.\n",
    "xy = MinMaxScaler(xy)\n",
    "print(\" xy : MinMaxScaler(xy) = numerator / (denominator + 1e-7) \\n\", xy)\n",
    "\n",
    "x_data = xy[:, 0:-1]\n",
    "y_data = xy[:, [-1]]\n",
    "print(\"\\n x_data : \\n{}  \\n\\n y_data : \\n{}\".format(x_data, y_data))\n",
    "\n",
    "# placeholders for a tensor that will be always fed.\n",
    "X = tf.placeholder(tf.float32, shape=[None, 4])\n",
    "Y = tf.placeholder(tf.float32, shape=[None, 1])\n",
    "\n",
    "W = tf.Variable(tf.random_normal([4, 1]), name='weight')\n",
    "b = tf.Variable(tf.random_normal([1]), name='bias')\n",
    "\n",
    "# Hypothesis\n",
    "hypothesis = tf.matmul(X, W) + b\n",
    "\n",
    "# Simplified cost/loss function\n",
    "cost = tf.reduce_mean(tf.square(hypothesis - Y))\n",
    "\n",
    "# Minimize\n",
    "optimizer = tf.train.GradientDescentOptimizer(learning_rate=1e-5)\n",
    "train = optimizer.minimize(cost)"
   ]
  },
  {
   "cell_type": "code",
   "execution_count": 17,
   "metadata": {},
   "outputs": [
    {
     "data": {
      "application/vnd.jupyter.widget-view+json": {
       "model_id": "41ade848dcc144c08e1a88e834a0cabf",
       "version_major": 2,
       "version_minor": 0
      },
      "text/plain": [
       "HBox(children=(IntProgress(value=0, max=1001), HTML(value='')))"
      ]
     },
     "metadata": {},
     "output_type": "display_data"
    },
    {
     "name": "stdout",
     "output_type": "stream",
     "text": [
      "Step : 0, \t Cost : 1.3435487747192383, \t Improvement : -0.3435487747192383\n",
      "Step : 10, \t Cost : 1.342635154724121, \t Improvement : 0.0009136199951171875\n",
      "Step : 20, \t Cost : 1.341722011566162, \t Improvement : 0.0009131431579589844\n",
      "Step : 30, \t Cost : 1.3408093452453613, \t Improvement : 0.0009126663208007812\n",
      "Step : 40, \t Cost : 1.33989679813385, \t Improvement : 0.0009125471115112305\n",
      "Step : 50, \t Cost : 1.338984727859497, \t Improvement : 0.0009120702743530273\n",
      "Step : 60, \t Cost : 1.3380730152130127, \t Improvement : 0.000911712646484375\n",
      "Step : 70, \t Cost : 1.3371620178222656, \t Improvement : 0.0009109973907470703\n",
      "Step : 80, \t Cost : 1.3362514972686768, \t Improvement : 0.0009105205535888672\n",
      "Step : 90, \t Cost : 1.3353418111801147, \t Improvement : 0.0009096860885620117\n",
      "Step : 100, \t Cost : 1.334432601928711, \t Improvement : 0.0009092092514038086\n",
      "Step : 110, \t Cost : 1.3335241079330444, \t Improvement : 0.0009084939956665039\n",
      "Step : 120, \t Cost : 1.3326157331466675, \t Improvement : 0.0009083747863769531\n",
      "Step : 130, \t Cost : 1.3317081928253174, \t Improvement : 0.0009075403213500977\n",
      "Step : 140, \t Cost : 1.3308025598526, \t Improvement : 0.0009056329727172852\n",
      "Step : 150, \t Cost : 1.3298988342285156, \t Improvement : 0.0009037256240844727\n",
      "Step : 160, \t Cost : 1.3289952278137207, \t Improvement : 0.0009036064147949219\n",
      "Step : 170, \t Cost : 1.328092098236084, \t Improvement : 0.0009031295776367188\n",
      "Step : 180, \t Cost : 1.3271890878677368, \t Improvement : 0.000903010368347168\n",
      "Step : 190, \t Cost : 1.326286792755127, \t Improvement : 0.0009022951126098633\n",
      "Step : 200, \t Cost : 1.3253848552703857, \t Improvement : 0.0009019374847412109\n",
      "Step : 210, \t Cost : 1.3244833946228027, \t Improvement : 0.0009014606475830078\n",
      "Step : 220, \t Cost : 1.323582649230957, \t Improvement : 0.0009007453918457031\n",
      "Step : 230, \t Cost : 1.3226827383041382, \t Improvement : 0.0008999109268188477\n",
      "Step : 240, \t Cost : 1.321783423423767, \t Improvement : 0.0008993148803710938\n",
      "Step : 250, \t Cost : 1.320884346961975, \t Improvement : 0.0008990764617919922\n",
      "Step : 260, \t Cost : 1.3199859857559204, \t Improvement : 0.0008983612060546875\n",
      "Step : 270, \t Cost : 1.3190882205963135, \t Improvement : 0.0008977651596069336\n",
      "Step : 280, \t Cost : 1.3181910514831543, \t Improvement : 0.0008971691131591797\n",
      "Step : 290, \t Cost : 1.317296028137207, \t Improvement : 0.0008950233459472656\n",
      "Step : 300, \t Cost : 1.3164023160934448, \t Improvement : 0.000893712043762207\n",
      "Step : 310, \t Cost : 1.3155089616775513, \t Improvement : 0.0008933544158935547\n",
      "Step : 320, \t Cost : 1.3146158456802368, \t Improvement : 0.0008931159973144531\n",
      "Step : 330, \t Cost : 1.313723087310791, \t Improvement : 0.0008927583694458008\n",
      "Step : 340, \t Cost : 1.3128306865692139, \t Improvement : 0.0008924007415771484\n",
      "Step : 350, \t Cost : 1.3119386434555054, \t Improvement : 0.0008920431137084961\n",
      "Step : 360, \t Cost : 1.3110469579696655, \t Improvement : 0.0008916854858398438\n",
      "Step : 370, \t Cost : 1.3101565837860107, \t Improvement : 0.0008903741836547852\n",
      "Step : 380, \t Cost : 1.3092668056488037, \t Improvement : 0.0008897781372070312\n",
      "Step : 390, \t Cost : 1.308377981185913, \t Improvement : 0.000888824462890625\n",
      "Step : 400, \t Cost : 1.3074896335601807, \t Improvement : 0.0008883476257324219\n",
      "Step : 410, \t Cost : 1.306601643562317, \t Improvement : 0.0008879899978637695\n",
      "Step : 420, \t Cost : 1.3057140111923218, \t Improvement : 0.0008876323699951172\n",
      "Step : 430, \t Cost : 1.3048266172409058, \t Improvement : 0.0008873939514160156\n",
      "Step : 440, \t Cost : 1.3039419651031494, \t Improvement : 0.0008846521377563477\n",
      "Step : 450, \t Cost : 1.3030579090118408, \t Improvement : 0.0008840560913085938\n",
      "Step : 460, \t Cost : 1.3021742105484009, \t Improvement : 0.0008836984634399414\n",
      "Step : 470, \t Cost : 1.3012911081314087, \t Improvement : 0.0008831024169921875\n",
      "Step : 480, \t Cost : 1.3004083633422852, \t Improvement : 0.0008827447891235352\n",
      "Step : 490, \t Cost : 1.2995262145996094, \t Improvement : 0.0008821487426757812\n",
      "Step : 500, \t Cost : 1.2986440658569336, \t Improvement : 0.0008821487426757812\n",
      "Step : 510, \t Cost : 1.2977628707885742, \t Improvement : 0.000881195068359375\n",
      "Step : 520, \t Cost : 1.2968828678131104, \t Improvement : 0.0008800029754638672\n",
      "Step : 530, \t Cost : 1.2960035800933838, \t Improvement : 0.0008792877197265625\n",
      "Step : 540, \t Cost : 1.2951245307922363, \t Improvement : 0.0008790493011474609\n",
      "Step : 550, \t Cost : 1.2942460775375366, \t Improvement : 0.000878453254699707\n",
      "Step : 560, \t Cost : 1.293367862701416, \t Improvement : 0.0008782148361206055\n",
      "Step : 570, \t Cost : 1.2924902439117432, \t Improvement : 0.0008776187896728516\n",
      "Step : 580, \t Cost : 1.291612982749939, \t Improvement : 0.0008772611618041992\n",
      "Step : 590, \t Cost : 1.2907381057739258, \t Improvement : 0.0008748769760131836\n",
      "Step : 600, \t Cost : 1.289864182472229, \t Improvement : 0.0008739233016967773\n",
      "Step : 610, \t Cost : 1.2889904975891113, \t Improvement : 0.0008736848831176758\n",
      "Step : 620, \t Cost : 1.2881171703338623, \t Improvement : 0.0008733272552490234\n",
      "Step : 630, \t Cost : 1.287244200706482, \t Improvement : 0.0008729696273803711\n",
      "Step : 640, \t Cost : 1.2863714694976807, \t Improvement : 0.0008727312088012695\n",
      "Step : 650, \t Cost : 1.2854995727539062, \t Improvement : 0.0008718967437744141\n",
      "Step : 660, \t Cost : 1.2846288681030273, \t Improvement : 0.0008707046508789062\n",
      "Step : 670, \t Cost : 1.2837592363357544, \t Improvement : 0.0008696317672729492\n",
      "Step : 680, \t Cost : 1.2828898429870605, \t Improvement : 0.0008693933486938477\n",
      "Step : 690, \t Cost : 1.282020926475525, \t Improvement : 0.0008689165115356445\n",
      "Step : 700, \t Cost : 1.2811522483825684, \t Improvement : 0.000868678092956543\n",
      "Step : 710, \t Cost : 1.280283808708191, \t Improvement : 0.0008684396743774414\n",
      "Step : 720, \t Cost : 1.2794158458709717, \t Improvement : 0.0008679628372192383\n",
      "Step : 730, \t Cost : 1.278548240661621, \t Improvement : 0.0008676052093505859\n",
      "Step : 740, \t Cost : 1.2776830196380615, \t Improvement : 0.0008652210235595703\n",
      "Step : 750, \t Cost : 1.2768187522888184, \t Improvement : 0.0008642673492431641\n",
      "Step : 760, \t Cost : 1.275955080986023, \t Improvement : 0.0008636713027954102\n",
      "Step : 770, \t Cost : 1.275091528892517, \t Improvement : 0.0008635520935058594\n",
      "Step : 780, \t Cost : 1.2742284536361694, \t Improvement : 0.0008630752563476562\n",
      "Step : 790, \t Cost : 1.2733662128448486, \t Improvement : 0.0008622407913208008\n",
      "Step : 800, \t Cost : 1.2725050449371338, \t Improvement : 0.0008611679077148438\n",
      "Step : 810, \t Cost : 1.271644115447998, \t Improvement : 0.0008609294891357422\n",
      "Step : 820, \t Cost : 1.2707839012145996, \t Improvement : 0.0008602142333984375\n",
      "Step : 830, \t Cost : 1.2699241638183594, \t Improvement : 0.0008597373962402344\n",
      "Step : 840, \t Cost : 1.2690646648406982, \t Improvement : 0.0008594989776611328\n",
      "Step : 850, \t Cost : 1.268206000328064, \t Improvement : 0.0008586645126342773\n",
      "Step : 860, \t Cost : 1.2673473358154297, \t Improvement : 0.0008586645126342773\n",
      "Step : 870, \t Cost : 1.2664892673492432, \t Improvement : 0.0008580684661865234\n",
      "Step : 880, \t Cost : 1.2656313180923462, \t Improvement : 0.0008579492568969727\n",
      "Step : 890, \t Cost : 1.2647757530212402, \t Improvement : 0.000855565071105957\n",
      "Step : 900, \t Cost : 1.2639210224151611, \t Improvement : 0.0008547306060791016\n",
      "Step : 910, \t Cost : 1.2630670070648193, \t Improvement : 0.0008540153503417969\n",
      "Step : 920, \t Cost : 1.2622133493423462, \t Improvement : 0.0008536577224731445\n",
      "Step : 930, \t Cost : 1.2613604068756104, \t Improvement : 0.0008529424667358398\n",
      "Step : 940, \t Cost : 1.2605082988739014, \t Improvement : 0.0008521080017089844\n",
      "Step : 950, \t Cost : 1.2596569061279297, \t Improvement : 0.0008513927459716797\n",
      "Step : 960, \t Cost : 1.258805751800537, \t Improvement : 0.0008511543273925781\n",
      "Step : 970, \t Cost : 1.2579550743103027, \t Improvement : 0.000850677490234375\n",
      "Step : 980, \t Cost : 1.2571051120758057, \t Improvement : 0.0008499622344970703\n",
      "Step : 990, \t Cost : 1.2562553882598877, \t Improvement : 0.0008497238159179688\n",
      "Step : 1000, \t Cost : 1.2554060220718384, \t Improvement : 0.0008493661880493164\n",
      "\n"
     ]
    }
   ],
   "source": [
    "# Launch the graph in a session.\n",
    "sess = tf.Session()\n",
    "# Initializes global variables in the graph.\n",
    "sess.run(tf.global_variables_initializer())\n",
    "\n",
    "prev_cost = 1\n",
    "for step in tqdm_notebook(range(1001)):\n",
    "    cost_val, hy_val, _ = sess.run(\n",
    "        [cost, hypothesis, train], feed_dict={X: x_data, Y: y_data})\n",
    "    \n",
    "    if step%10 == 0:\n",
    "        # print(\"\\nStep\", step, \"\\nCost:\", cost_val, \"\\nPrediction:\\n\", hy_val)\n",
    "        # print(\"Step : {}, \\t Cost : {}\".format(step, cost_val))\n",
    "        improvement =  prev_cost - cost_val\n",
    "        prev_cost = cost_val\n",
    "        print(\"Step : {}, \\t Cost : {}, \\t Improvement : {}\".format(step, cost_val,  improvement))\n"
   ]
  },
  {
   "cell_type": "markdown",
   "metadata": {},
   "source": [
    "## Solution for Overfitting \n",
    "- More training Data !\n",
    "- Reduce the number of features\n",
    "- Regularization"
   ]
  },
  {
   "cell_type": "markdown",
   "metadata": {},
   "source": [
    "### Mnist Introduction"
   ]
  },
  {
   "cell_type": "markdown",
   "metadata": {},
   "source": [
    "### MNIST\n",
    "MNIST (Modified National Institute of Standards and Technology)\n",
    "\n",
    "- MNIST is the de facto “hello world” dataset of computer vision. Since its release in 1999, this classic dataset of handwritten images has served as the basis for benchmarking classification algorithms.\n",
    "- As new machine learning techniques emerge, MNIST remains a reliable resource for researchers and learners alike."
   ]
  },
  {
   "cell_type": "markdown",
   "metadata": {},
   "source": [
    "#### 손글씨 숫자데이터\n",
    "미국 우편국에서 우편번호를 분리하기 위해 손글씨 데이터를 머신러닝에 적용"
   ]
  },
  {
   "cell_type": "markdown",
   "metadata": {},
   "source": [
    "#### In the Neural Network terminology\n",
    "- one epoch = one forward pass and one backward pass of all the training examples\n",
    "- batch size = the number of training examples in one forward/backward pass. The higher the batch size, the more memory space you'll need.\n",
    "- number of iterations = number of passes, each pass using [batch size] number of examples. To be clear, one pass = one forward pass + one backward pass (we do not count the forward pass and backward pass as two different passes).\n",
    "\n",
    "- Example: if you have 1000 training examples, and your batch size is 500, then it will take 2 iterations to complete 1 epoch.\n",
    "\n",
    "- In digital circuits, one-hot refers to a group of bits among which the legal combinations of values are only those with a single high (1) bit and all the others low (0)."
   ]
  },
  {
   "cell_type": "code",
   "execution_count": 19,
   "metadata": {},
   "outputs": [
    {
     "name": "stderr",
     "output_type": "stream",
     "text": [
      "W0911 22:05:37.667365 14776 deprecation.py:323] From <ipython-input-19-71e1ea4e1c78>:12: read_data_sets (from tensorflow.contrib.learn.python.learn.datasets.mnist) is deprecated and will be removed in a future version.\n",
      "Instructions for updating:\n",
      "Please use alternatives such as official/mnist/dataset.py from tensorflow/models.\n",
      "W0911 22:05:37.674361 14776 deprecation.py:323] From C:\\Python\\Anaconda3\\lib\\site-packages\\tensorflow\\contrib\\learn\\python\\learn\\datasets\\mnist.py:260: maybe_download (from tensorflow.contrib.learn.python.learn.datasets.base) is deprecated and will be removed in a future version.\n",
      "Instructions for updating:\n",
      "Please write your own downloading logic.\n",
      "W0911 22:05:37.684357 14776 deprecation.py:323] From C:\\Python\\Anaconda3\\lib\\site-packages\\tensorflow\\contrib\\learn\\python\\learn\\datasets\\base.py:252: _internal_retry.<locals>.wrap.<locals>.wrapped_fn (from tensorflow.contrib.learn.python.learn.datasets.base) is deprecated and will be removed in a future version.\n",
      "Instructions for updating:\n",
      "Please use urllib or similar directly.\n"
     ]
    },
    {
     "name": "stdout",
     "output_type": "stream",
     "text": [
      "Successfully downloaded train-images-idx3-ubyte.gz 9912422 bytes.\n"
     ]
    },
    {
     "name": "stderr",
     "output_type": "stream",
     "text": [
      "W0911 22:05:41.810998 14776 deprecation.py:323] From C:\\Python\\Anaconda3\\lib\\site-packages\\tensorflow\\contrib\\learn\\python\\learn\\datasets\\mnist.py:262: extract_images (from tensorflow.contrib.learn.python.learn.datasets.mnist) is deprecated and will be removed in a future version.\n",
      "Instructions for updating:\n",
      "Please use tf.data to implement this functionality.\n"
     ]
    },
    {
     "name": "stdout",
     "output_type": "stream",
     "text": [
      "Extracting data/MNIST_data/train-images-idx3-ubyte.gz\n",
      "Successfully downloaded train-labels-idx1-ubyte.gz 28881 bytes.\n"
     ]
    },
    {
     "name": "stderr",
     "output_type": "stream",
     "text": [
      "W0911 22:05:43.566994 14776 deprecation.py:323] From C:\\Python\\Anaconda3\\lib\\site-packages\\tensorflow\\contrib\\learn\\python\\learn\\datasets\\mnist.py:267: extract_labels (from tensorflow.contrib.learn.python.learn.datasets.mnist) is deprecated and will be removed in a future version.\n",
      "Instructions for updating:\n",
      "Please use tf.data to implement this functionality.\n"
     ]
    },
    {
     "name": "stdout",
     "output_type": "stream",
     "text": [
      "Extracting data/MNIST_data/train-labels-idx1-ubyte.gz\n"
     ]
    },
    {
     "name": "stderr",
     "output_type": "stream",
     "text": [
      "W0911 22:05:43.595985 14776 deprecation.py:323] From C:\\Python\\Anaconda3\\lib\\site-packages\\tensorflow\\contrib\\learn\\python\\learn\\datasets\\mnist.py:110: dense_to_one_hot (from tensorflow.contrib.learn.python.learn.datasets.mnist) is deprecated and will be removed in a future version.\n",
      "Instructions for updating:\n",
      "Please use tf.one_hot on tensors.\n"
     ]
    },
    {
     "name": "stdout",
     "output_type": "stream",
     "text": [
      "Successfully downloaded t10k-images-idx3-ubyte.gz 1648877 bytes.\n",
      "Extracting data/MNIST_data/t10k-images-idx3-ubyte.gz\n",
      "Successfully downloaded t10k-labels-idx1-ubyte.gz 4542 bytes.\n",
      "Extracting data/MNIST_data/t10k-labels-idx1-ubyte.gz\n"
     ]
    },
    {
     "name": "stderr",
     "output_type": "stream",
     "text": [
      "W0911 22:05:45.309996 14776 deprecation.py:323] From C:\\Python\\Anaconda3\\lib\\site-packages\\tensorflow\\contrib\\learn\\python\\learn\\datasets\\mnist.py:290: DataSet.__init__ (from tensorflow.contrib.learn.python.learn.datasets.mnist) is deprecated and will be removed in a future version.\n",
      "Instructions for updating:\n",
      "Please use alternatives such as official/mnist/dataset.py from tensorflow/models.\n"
     ]
    }
   ],
   "source": [
    "# Learning rate and Evaluation\n",
    "import tensorflow as tf\n",
    "import random\n",
    "import matplotlib.pyplot as plt\n",
    "\n",
    "tf.set_random_seed(777)  # for reproducibility\n",
    "\n",
    "from tensorflow.examples.tutorials.mnist import input_data\n",
    "# Check out https://www.tensorflow.org/get_started/mnist/beginners for\n",
    "# more information about the mnist dataset\n",
    "# 맨처음 최초한번만 mnist 다운로딩 이후는 로컬데이터 사용\n",
    "mnist = input_data.read_data_sets(\"data/MNIST_data/\", one_hot=True)\n",
    "\n",
    "nb_classes = 10\n",
    "\n",
    "# MNIST data image of shape 28 * 28 = 784L\n",
    "X = tf.placeholder(tf.float32, [None, 784])\n",
    "\n",
    "# 0 - 9 digits recognition = 10 classes\n",
    "Y = tf.placeholder(tf.float32, [None, nb_classes])\n",
    "\n",
    "W = tf.Variable(tf.random_normal([784, nb_classes]))\n",
    "b = tf.Variable(tf.random_normal([nb_classes]))\n",
    "\n",
    "# Hypothesis (using softmax)\n",
    "hypothesis = tf.nn.softmax(tf.matmul(X, W) + b)\n",
    "\n",
    "cost = tf.reduce_mean(-tf.reduce_sum(Y * tf.log(hypothesis), axis=1))\n",
    "optimizer = tf.train.GradientDescentOptimizer(learning_rate=0.1).minimize(cost)\n",
    "\n",
    "# Test model\n",
    "is_correct = tf.equal(tf.arg_max(hypothesis, 1), tf.arg_max(Y, 1))\n",
    "\n",
    "# Calculate accuracy\n",
    "accuracy = tf.reduce_mean(tf.cast(is_correct, tf.float32))"
   ]
  },
  {
   "cell_type": "markdown",
   "metadata": {},
   "source": [
    "#### Training epoch / batch\n",
    "- epoch : one forward pass and one backward pass of all the training examples\n",
    "- batch : the number of training examples in one forward/backward pass\n",
    "- iterations : number of passes, each pass using [batch size] number of examples\n",
    "\n",
    "Ex.\n",
    "if you have 1000 training examples, and your batch size is 500,\n",
    "then it will take 2 iterations to complete 1 epoch."
   ]
  },
  {
   "cell_type": "code",
   "execution_count": 20,
   "metadata": {},
   "outputs": [
    {
     "data": {
      "text/plain": [
       "55000"
      ]
     },
     "execution_count": 20,
     "metadata": {},
     "output_type": "execute_result"
    }
   ],
   "source": [
    "mnist.train.num_examples"
   ]
  },
  {
   "cell_type": "code",
   "execution_count": 21,
   "metadata": {},
   "outputs": [
    {
     "data": {
      "application/vnd.jupyter.widget-view+json": {
       "model_id": "229a3f0fcf6f49dd9604c37626189240",
       "version_major": 2,
       "version_minor": 0
      },
      "text/plain": [
       "HBox(children=(IntProgress(value=0, max=15), HTML(value='')))"
      ]
     },
     "metadata": {},
     "output_type": "display_data"
    },
    {
     "name": "stdout",
     "output_type": "stream",
     "text": [
      "Epoch: 0001\tCost = 2.790057581\n",
      "Epoch: 0002\tCost = 1.113939186\n",
      "Epoch: 0003\tCost = 0.893628877\n",
      "Epoch: 0004\tCost = 0.783293055\n",
      "Epoch: 0005\tCost = 0.712660906\n",
      "Epoch: 0006\tCost = 0.661626897\n",
      "Epoch: 0007\tCost = 0.622002021\n",
      "Epoch: 0008\tCost = 0.590741366\n",
      "Epoch: 0009\tCost = 0.564863793\n",
      "Epoch: 0010\tCost = 0.543150559\n",
      "Epoch: 0011\tCost = 0.524163541\n",
      "Epoch: 0012\tCost = 0.508022577\n",
      "Epoch: 0013\tCost = 0.493696242\n",
      "Epoch: 0014\tCost = 0.481428243\n",
      "Epoch: 0015\tCost = 0.469707388\n",
      "\n",
      "Learning finished\n",
      "----------------------------------------------------------------\n",
      "Accuracy:  0.8903\n",
      "Label:  [4]\n",
      "Prediction:  [4]\n"
     ]
    },
    {
     "data": {
      "image/png": "[encoded data removed]",
      "text/plain": [
       "<Figure size 432x288 with 1 Axes>"
      ]
     },
     "metadata": {
      "needs_background": "light"
     },
     "output_type": "display_data"
    }
   ],
   "source": [
    "# parameters\n",
    "training_epochs = 15\n",
    "batch_size = 100\n",
    "\n",
    "with tf.Session() as sess:\n",
    "    # Initialize TensorFlow variables\n",
    "    sess.run(tf.global_variables_initializer())\n",
    "    \n",
    "    # Training cycle\n",
    "    for epoch in tqdm_notebook(range(training_epochs)):\n",
    "        avg_cost = 0\n",
    "        total_batch = int(mnist.train.num_examples / batch_size)\n",
    "\n",
    "        for i in range(total_batch):\n",
    "            batch_xs, batch_ys = mnist.train.next_batch(batch_size)\n",
    "            c, _ = sess.run([cost, optimizer], feed_dict={\n",
    "                            X: batch_xs, Y: batch_ys})\n",
    "            avg_cost += c / total_batch\n",
    "\n",
    "        # print('Epoch:', '%04d' % (epoch + 1),\n",
    "        #       '\\t cost =', '{:.9f}'.format(avg_cost))\n",
    "        print('Epoch:', '%04d' % (epoch + 1), end='\\t')\n",
    "        print('Cost =', '{:.9f}'.format(avg_cost))\n",
    "\n",
    "        \n",
    "    print(\"Learning finished\")\n",
    "    print(\"-\"*2**6)\n",
    "\n",
    "    # Test the model using test sets\n",
    "    print(\"Accuracy: \", accuracy.eval(session=sess, feed_dict={\n",
    "          X: mnist.test.images, Y: mnist.test.labels}))\n",
    "\n",
    "    # Get one and predict\n",
    "    r = random.randint(0, mnist.test.num_examples - 1)\n",
    "    print(\"Label: \", sess.run(tf.argmax(mnist.test.labels[r:r + 1], 1)))\n",
    "    print(\"Prediction: \", sess.run(\n",
    "        tf.argmax(hypothesis, 1), feed_dict={X: mnist.test.images[r:r + 1]}))\n",
    "\n",
    "    plt.imshow(mnist.test.images[r:r + 1].reshape(28,28), cmap='Greys', interpolation='nearest')\n",
    "    plt.show()"
   ]
  },
  {
   "cell_type": "code",
   "execution_count": 22,
   "metadata": {},
   "outputs": [
    {
     "name": "stdout",
     "output_type": "stream",
     "text": [
      "▒▒▒▒▒▒▒▒▒▒▒▒▒▒▒▒▒▒▒▒▒▒▒▒▒▒▒▒▒▒▒▒▒▒▒▒▒▒▒▒▒▒▒▒▒▒▒▒▒▒ 100% \n",
      "Epoch: 0001\tCost = 2.786916230\n",
      "▒▒▒▒▒▒▒▒▒▒▒▒▒▒▒▒▒▒▒▒▒▒▒▒▒▒▒▒▒▒▒▒▒▒▒▒▒▒▒▒▒▒▒▒▒▒▒▒▒▒ 100% \n",
      "Epoch: 0002\tCost = 1.114659648\n",
      "▒▒▒▒▒▒▒▒▒▒▒▒▒▒▒▒▒▒▒▒▒▒▒▒▒▒▒▒▒▒▒▒▒▒▒▒▒▒▒▒▒▒▒▒▒▒▒▒▒▒ 100% \n",
      "Epoch: 0003\tCost = 0.893498639\n",
      "▒▒▒▒▒▒▒▒▒▒▒▒▒▒▒▒▒▒▒▒▒▒▒▒▒▒▒▒▒▒▒▒▒▒▒▒▒▒▒▒▒▒▒▒▒▒▒▒▒▒ 100% \n",
      "Epoch: 0004\tCost = 0.783550556\n",
      "▒▒▒▒▒▒▒▒▒▒▒▒▒▒▒▒▒▒▒▒▒▒▒▒▒▒▒▒▒▒▒▒▒▒▒▒▒▒▒▒▒▒▒▒▒▒▒▒▒▒ 100% \n",
      "Epoch: 0005\tCost = 0.712596882\n",
      "▒▒▒▒▒▒▒▒▒▒▒▒▒▒▒▒▒▒▒▒▒▒▒▒▒▒▒▒▒▒▒▒▒▒▒▒▒▒▒▒▒▒▒▒▒▒▒▒▒▒ 100% \n",
      "Epoch: 0006\tCost = 0.661214466\n",
      "▒▒▒▒▒▒▒▒▒▒▒▒▒▒▒▒▒▒▒▒▒▒▒▒▒▒▒▒▒▒▒▒▒▒▒▒▒▒▒▒▒▒▒▒▒▒▒▒▒▒ 100% \n",
      "Epoch: 0007\tCost = 0.622180100\n",
      "▒▒▒▒▒▒▒▒▒▒▒▒▒▒▒▒▒▒▒▒▒▒▒▒▒▒▒▒▒▒▒▒▒▒▒▒▒▒▒▒▒▒▒▒▒▒▒▒▒▒ 100% \n",
      "Epoch: 0008\tCost = 0.590205638\n",
      "▒▒▒▒▒▒▒▒▒▒▒▒▒▒▒▒▒▒▒▒▒▒▒▒▒▒▒▒▒▒▒▒▒▒▒▒▒▒▒▒▒▒▒▒▒▒▒▒▒▒ 100% \n",
      "Epoch: 0009\tCost = 0.564297977\n",
      "▒▒▒▒▒▒▒▒▒▒▒▒▒▒▒▒▒▒▒▒▒▒▒▒▒▒▒▒▒▒▒▒▒▒▒▒▒▒▒▒▒▒▒▒▒▒▒▒▒▒ 100% \n",
      "Epoch: 0010\tCost = 0.542580001\n",
      "▒▒▒▒▒▒▒▒▒▒▒▒▒▒▒▒▒▒▒▒▒▒▒▒▒▒▒▒▒▒▒▒▒▒▒▒▒▒▒▒▒▒▒▒▒▒▒▒▒▒ 100% \n",
      "Epoch: 0011\tCost = 0.524187736\n",
      "▒▒▒▒▒▒▒▒▒▒▒▒▒▒▒▒▒▒▒▒▒▒▒▒▒▒▒▒▒▒▒▒▒▒▒▒▒▒▒▒▒▒▒▒▒▒▒▒▒▒ 100% \n",
      "Epoch: 0012\tCost = 0.508089182\n",
      "▒▒▒▒▒▒▒▒▒▒▒▒▒▒▒▒▒▒▒▒▒▒▒▒▒▒▒▒▒▒▒▒▒▒▒▒▒▒▒▒▒▒▒▒▒▒▒▒▒▒ 100% \n",
      "Epoch: 0013\tCost = 0.493955440\n",
      "▒▒▒▒▒▒▒▒▒▒▒▒▒▒▒▒▒▒▒▒▒▒▒▒▒▒▒▒▒▒▒▒▒▒▒▒▒▒▒▒▒▒▒▒▒▒▒▒▒▒ 100% \n",
      "Epoch: 0014\tCost = 0.481253584\n",
      "▒▒▒▒▒▒▒▒▒▒▒▒▒▒▒▒▒▒▒▒▒▒▒▒▒▒▒▒▒▒▒▒▒▒▒▒▒▒▒▒▒▒▒▒▒▒▒▒▒▒ 100% \n",
      "Epoch: 0015\tCost = 0.470136110\n",
      "\n",
      "Learning finished\n"
     ]
    }
   ],
   "source": [
    "# parameters\n",
    "training_epochs = 15\n",
    "batch_size = 100\n",
    "\n",
    "sess = tf.Session()\n",
    "# Initialize TensorFlow variables\n",
    "sess.run(tf.global_variables_initializer())\n",
    "# Training cycle\n",
    "for epoch in range(training_epochs):\n",
    "    avg_cost = 0\n",
    "    total_batch = int(mnist.train.num_examples / batch_size)\n",
    "\n",
    "    for i in range(total_batch):\n",
    "        batch_xs, batch_ys = mnist.train.next_batch(batch_size)\n",
    "        c, _ = sess.run([cost, optimizer], feed_dict={\n",
    "                        X: batch_xs, Y: batch_ys})\n",
    "        avg_cost += c / total_batch\n",
    "        \n",
    "        if i % (total_batch/100) == 0:\n",
    "            print('▒', end='')\n",
    "    \n",
    "    print(' 100% ')\n",
    "    print('Epoch:', '%04d' % (epoch + 1), end='\\t')\n",
    "    print('Cost =', '{:.9f}'.format(avg_cost))\n",
    "\n",
    "print()\n",
    "print(\"Learning finished\")\n",
    "\n",
    "# Test the model using test sets\n",
    "# print(\"Accuracy: \", accuracy.eval(session=sess, feed_dict={\n",
    "#       X: mnist.test.images, Y: mnist.test.labels}))"
   ]
  },
  {
   "cell_type": "markdown",
   "metadata": {},
   "source": [
    "### Report result on test dataset"
   ]
  },
  {
   "cell_type": "code",
   "execution_count": 23,
   "metadata": {},
   "outputs": [
    {
     "name": "stdout",
     "output_type": "stream",
     "text": [
      "Accuracy:  0.8911\n"
     ]
    }
   ],
   "source": [
    "# Test the model using test sets\n",
    "print(\"Accuracy: \", accuracy.eval(session=sess, feed_dict={\n",
    "      X: mnist.test.images, Y: mnist.test.labels}))"
   ]
  },
  {
   "cell_type": "markdown",
   "metadata": {},
   "source": [
    "#### Sample image show and prediction\n",
    "- 랜덤하게 읽어온 이미지를 예측하여 실제 맞는지를 확인한다."
   ]
  },
  {
   "cell_type": "code",
   "execution_count": 24,
   "metadata": {},
   "outputs": [
    {
     "name": "stdout",
     "output_type": "stream",
     "text": [
      "Label:  [6]\n",
      "Prediction:  [6]\n"
     ]
    },
    {
     "data": {
      "image/png": "[encoded data removed]",
      "text/plain": [
       "<Figure size 432x288 with 1 Axes>"
      ]
     },
     "metadata": {
      "needs_background": "light"
     },
     "output_type": "display_data"
    }
   ],
   "source": [
    "# Get one and predict\n",
    "r = random.randint(0, mnist.test.num_examples - 1)\n",
    "print(\"Label: \", sess.run(tf.argmax(mnist.test.labels[r:r + 1], 1)))\n",
    "print(\"Prediction: \", sess.run(\n",
    "    tf.argmax(hypothesis, 1), feed_dict={X: mnist.test.images[r:r + 1]}))\n",
    "\n",
    "plt.imshow(mnist.test.images[r:r + 1].reshape(28,28), cmap='Greys', interpolation='nearest')\n",
    "plt.show()"
   ]
  },
  {
   "cell_type": "code",
   "execution_count": 25,
   "metadata": {},
   "outputs": [
    {
     "data": {
      "text/plain": [
       "int"
      ]
     },
     "execution_count": 25,
     "metadata": {},
     "output_type": "execute_result"
    }
   ],
   "source": [
    "type(mnist.test.num_examples)"
   ]
  },
  {
   "cell_type": "code",
   "execution_count": 26,
   "metadata": {},
   "outputs": [
    {
     "data": {
      "text/plain": [
       "10000"
      ]
     },
     "execution_count": 26,
     "metadata": {},
     "output_type": "execute_result"
    }
   ],
   "source": [
    "mnist.test.num_examples"
   ]
  },
  {
   "cell_type": "code",
   "execution_count": 27,
   "metadata": {},
   "outputs": [
    {
     "name": "stdout",
     "output_type": "stream",
     "text": [
      "r: 4497\n",
      "Label:  [8]\n",
      "Prediction:  [7]\n"
     ]
    },
    {
     "data": {
      "image/png": "[encoded data removed]",
      "text/plain": [
       "<Figure size 432x288 with 1 Axes>"
      ]
     },
     "metadata": {
      "needs_background": "light"
     },
     "output_type": "display_data"
    }
   ],
   "source": [
    "# Get one and predict\n",
    "r = random.randint(0, mnist.test.num_examples - 1)\n",
    "print(\"r:\", r)\n",
    "print(\"Label: \", sess.run(tf.argmax(mnist.test.labels[r:r + 1], 1)))\n",
    "print(\"Prediction: \", sess.run(\n",
    "    tf.argmax(hypothesis, 1), feed_dict={X: mnist.test.images[r:r + 1]}))\n",
    "\n",
    "plt.imshow(mnist.test.images[r:r + 1].reshape(28,28), cmap='Greys', interpolation='nearest')\n",
    "plt.show()"
   ]
  },
  {
   "cell_type": "code",
   "execution_count": 28,
   "metadata": {},
   "outputs": [
    {
     "name": "stdout",
     "output_type": "stream",
     "text": [
      "r: 1710\n",
      "Label:  [7]\n",
      "Prediction:  [7]\n"
     ]
    },
    {
     "data": {
      "image/png": "[encoded data removed]",
      "text/plain": [
       "<Figure size 432x288 with 1 Axes>"
      ]
     },
     "metadata": {
      "needs_background": "light"
     },
     "output_type": "display_data"
    },
    {
     "name": "stdout",
     "output_type": "stream",
     "text": [
      "r: 266\n",
      "Label:  [8]\n",
      "Prediction:  [8]\n"
     ]
    },
    {
     "data": {
      "image/png": "[encoded data removed]",
      "text/plain": [
       "<Figure size 432x288 with 1 Axes>"
      ]
     },
     "metadata": {
      "needs_background": "light"
     },
     "output_type": "display_data"
    },
    {
     "name": "stdout",
     "output_type": "stream",
     "text": [
      "r: 5036\n",
      "Label:  [1]\n",
      "Prediction:  [1]\n"
     ]
    },
    {
     "data": {
      "image/png": "[encoded data removed]",
      "text/plain": [
       "<Figure size 432x288 with 1 Axes>"
      ]
     },
     "metadata": {
      "needs_background": "light"
     },
     "output_type": "display_data"
    },
    {
     "name": "stdout",
     "output_type": "stream",
     "text": [
      "r: 3008\n",
      "Label:  [9]\n",
      "Prediction:  [9]\n"
     ]
    },
    {
     "data": {
      "image/png": "[encoded data removed]",
      "text/plain": [
       "<Figure size 432x288 with 1 Axes>"
      ]
     },
     "metadata": {
      "needs_background": "light"
     },
     "output_type": "display_data"
    },
    {
     "name": "stdout",
     "output_type": "stream",
     "text": [
      "r: 4059\n",
      "Label:  [5]\n",
      "Prediction:  [5]\n"
     ]
    },
    {
     "data": {
      "image/png": "[encoded data removed]",
      "text/plain": [
       "<Figure size 432x288 with 1 Axes>"
      ]
     },
     "metadata": {
      "needs_background": "light"
     },
     "output_type": "display_data"
    },
    {
     "name": "stdout",
     "output_type": "stream",
     "text": [
      "r: 4573\n",
      "Label:  [2]\n",
      "Prediction:  [3]\n"
     ]
    },
    {
     "data": {
      "image/png": "[encoded data removed]",
      "text/plain": [
       "<Figure size 432x288 with 1 Axes>"
      ]
     },
     "metadata": {
      "needs_background": "light"
     },
     "output_type": "display_data"
    },
    {
     "name": "stdout",
     "output_type": "stream",
     "text": [
      "r: 6373\n",
      "Label:  [4]\n",
      "Prediction:  [4]\n"
     ]
    },
    {
     "data": {
      "image/png": "[encoded data removed]",
      "text/plain": [
       "<Figure size 432x288 with 1 Axes>"
      ]
     },
     "metadata": {
      "needs_background": "light"
     },
     "output_type": "display_data"
    },
    {
     "name": "stdout",
     "output_type": "stream",
     "text": [
      "r: 3321\n",
      "Label:  [5]\n",
      "Prediction:  [5]\n"
     ]
    },
    {
     "data": {
      "image/png": "[encoded data removed]",
      "text/plain": [
       "<Figure size 432x288 with 1 Axes>"
      ]
     },
     "metadata": {
      "needs_background": "light"
     },
     "output_type": "display_data"
    },
    {
     "name": "stdout",
     "output_type": "stream",
     "text": [
      "r: 1904\n",
      "Label:  [9]\n",
      "Prediction:  [9]\n"
     ]
    },
    {
     "data": {
      "image/png": "[encoded data removed]",
      "text/plain": [
       "<Figure size 432x288 with 1 Axes>"
      ]
     },
     "metadata": {
      "needs_background": "light"
     },
     "output_type": "display_data"
    },
    {
     "name": "stdout",
     "output_type": "stream",
     "text": [
      "r: 8135\n",
      "Label:  [8]\n",
      "Prediction:  [8]\n"
     ]
    },
    {
     "data": {
      "image/png": "[encoded data removed]",
      "text/plain": [
       "<Figure size 432x288 with 1 Axes>"
      ]
     },
     "metadata": {
      "needs_background": "light"
     },
     "output_type": "display_data"
    }
   ],
   "source": [
    "for i in range(10):\n",
    "    # Get one and predict\n",
    "    r = random.randint(0, mnist.test.num_examples - 1)\n",
    "    print(\"r:\", r)\n",
    "    print(\"Label: \", sess.run(tf.argmax(mnist.test.labels[r:r + 1], 1)))\n",
    "    print(\"Prediction: \", sess.run(\n",
    "        tf.argmax(hypothesis, 1), feed_dict={X: mnist.test.images[r:r + 1]}))\n",
    "\n",
    "    plt.imshow(mnist.test.images[r:r + 1].reshape(28,28), cmap='Greys', interpolation='nearest')\n",
    "    plt.show()"
   ]
  },
  {
   "cell_type": "code",
   "execution_count": null,
   "metadata": {},
   "outputs": [],
   "source": []
  }
 ],
 "metadata": {
  "kernelspec": {
   "display_name": "Python 3",
   "language": "python",
   "name": "python3"
  },
  "language_info": {
   "codemirror_mode": {
    "name": "ipython",
    "version": 3
   },
   "file_extension": ".py",
   "mimetype": "text/x-python",
   "name": "python",
   "nbconvert_exporter": "python",
   "pygments_lexer": "ipython3",
   "version": "3.7.3"
  }
 },
 "nbformat": 4,
 "nbformat_minor": 2
}
