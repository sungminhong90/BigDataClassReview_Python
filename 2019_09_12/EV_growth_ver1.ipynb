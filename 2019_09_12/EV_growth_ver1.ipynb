{
 "cells": [
  {
   "cell_type": "code",
   "execution_count": 1,
   "metadata": {},
   "outputs": [],
   "source": [
    "import pandas as pd"
   ]
  },
  {
   "cell_type": "code",
   "execution_count": 2,
   "metadata": {},
   "outputs": [],
   "source": [
    "train = pd.read_excel(\"./data/project/train.xlsx\")\n",
    "test = pd.read_excel(\"./data/project/test.xlsx\")\n",
    "sub = pd.read_excel(\"./data/project/sub.xlsx\")"
   ]
  },
  {
   "cell_type": "code",
   "execution_count": 3,
   "metadata": {},
   "outputs": [
    {
     "data": {
      "text/plain": [
       "Index(['year', 'vehicle', 'Unnamed: 2', 'Unnamed: 3', 'actual'], dtype='object')"
      ]
     },
     "execution_count": 3,
     "metadata": {},
     "output_type": "execute_result"
    }
   ],
   "source": [
    "train.columns"
   ]
  },
  {
   "cell_type": "code",
   "execution_count": 4,
   "metadata": {},
   "outputs": [
    {
     "data": {
      "text/plain": [
       "(10, 5)"
      ]
     },
     "execution_count": 4,
     "metadata": {},
     "output_type": "execute_result"
    }
   ],
   "source": [
    "train.shape"
   ]
  },
  {
   "cell_type": "code",
   "execution_count": 5,
   "metadata": {},
   "outputs": [],
   "source": [
    "sel_feature = ['year']\n",
    "X_train = train[ sel_feature ]\n",
    "y_train = train['vehicle']\n",
    "\n",
    "X_test =test[sel_feature]"
   ]
  },
  {
   "cell_type": "code",
   "execution_count": 6,
   "metadata": {},
   "outputs": [],
   "source": [
    "from sklearn.linear_model import LinearRegression"
   ]
  },
  {
   "cell_type": "code",
   "execution_count": 7,
   "metadata": {},
   "outputs": [],
   "source": [
    "#모델생성단계\n",
    "#1. 모델을 생성한다.\n",
    "#2. 데이터를 이용해서 모델을 학습시킨다.\n",
    "#3. 학습된 모델을 이용해수 예측한다.\n",
    "\n",
    "Model= LinearRegression()\n",
    "Model.fit(X_train, y_train)\n",
    "pred = Model.predict(X_test)"
   ]
  },
  {
   "cell_type": "code",
   "execution_count": 8,
   "metadata": {},
   "outputs": [
    {
     "name": "stdout",
     "output_type": "stream",
     "text": [
      "[2747.09090909]\n",
      "-8321.199999999997\n"
     ]
    }
   ],
   "source": [
    "print(Model.coef_)\n",
    "print(Model.intercept_)"
   ]
  },
  {
   "cell_type": "code",
   "execution_count": 9,
   "metadata": {},
   "outputs": [],
   "source": [
    "test['vehicle']=pred"
   ]
  },
  {
   "cell_type": "code",
   "execution_count": 10,
   "metadata": {},
   "outputs": [
    {
     "data": {
      "text/html": [
       "<div>\n",
       "<style scoped>\n",
       "    .dataframe tbody tr th:only-of-type {\n",
       "        vertical-align: middle;\n",
       "    }\n",
       "\n",
       "    .dataframe tbody tr th {\n",
       "        vertical-align: top;\n",
       "    }\n",
       "\n",
       "    .dataframe thead th {\n",
       "        text-align: right;\n",
       "    }\n",
       "</style>\n",
       "<table border=\"1\" class=\"dataframe\">\n",
       "  <thead>\n",
       "    <tr style=\"text-align: right;\">\n",
       "      <th></th>\n",
       "      <th>year</th>\n",
       "      <th>vehicle</th>\n",
       "    </tr>\n",
       "  </thead>\n",
       "  <tbody>\n",
       "    <tr>\n",
       "      <th>0</th>\n",
       "      <td>11</td>\n",
       "      <td>21896.800000</td>\n",
       "    </tr>\n",
       "    <tr>\n",
       "      <th>1</th>\n",
       "      <td>12</td>\n",
       "      <td>24643.890909</td>\n",
       "    </tr>\n",
       "    <tr>\n",
       "      <th>2</th>\n",
       "      <td>13</td>\n",
       "      <td>27390.981818</td>\n",
       "    </tr>\n",
       "    <tr>\n",
       "      <th>3</th>\n",
       "      <td>14</td>\n",
       "      <td>30138.072727</td>\n",
       "    </tr>\n",
       "    <tr>\n",
       "      <th>4</th>\n",
       "      <td>15</td>\n",
       "      <td>32885.163636</td>\n",
       "    </tr>\n",
       "  </tbody>\n",
       "</table>\n",
       "</div>"
      ],
      "text/plain": [
       "   year       vehicle\n",
       "0    11  21896.800000\n",
       "1    12  24643.890909\n",
       "2    13  27390.981818\n",
       "3    14  30138.072727\n",
       "4    15  32885.163636"
      ]
     },
     "execution_count": 10,
     "metadata": {},
     "output_type": "execute_result"
    }
   ],
   "source": [
    "test.head()"
   ]
  },
  {
   "cell_type": "code",
   "execution_count": 11,
   "metadata": {},
   "outputs": [
    {
     "name": "stderr",
     "output_type": "stream",
     "text": [
      "Using TensorFlow backend.\n"
     ]
    }
   ],
   "source": [
    "import tensorflow as tf\n",
    "import keras \n",
    "import numpy as np"
   ]
  },
  {
   "cell_type": "code",
   "execution_count": 12,
   "metadata": {},
   "outputs": [],
   "source": [
    "input_col = ['year']\n",
    "labeled_col = ['vehicle']"
   ]
  },
  {
   "cell_type": "code",
   "execution_count": 13,
   "metadata": {},
   "outputs": [],
   "source": [
    "X=train[ input_col ]\n",
    "Y=train[ labeled_col ]\n",
    "X_test= test[input_col]"
   ]
  },
  {
   "cell_type": "code",
   "execution_count": 14,
   "metadata": {},
   "outputs": [],
   "source": [
    "from keras.models import Sequential\n",
    "from keras.layers import Dense"
   ]
  },
  {
   "cell_type": "code",
   "execution_count": 15,
   "metadata": {},
   "outputs": [
    {
     "name": "stderr",
     "output_type": "stream",
     "text": [
      "WARNING: Logging before flag parsing goes to stderr.\n",
      "W0912 00:31:46.618319   784 deprecation_wrapper.py:119] From C:\\Python\\Anaconda3\\lib\\site-packages\\keras\\backend\\tensorflow_backend.py:66: The name tf.get_default_graph is deprecated. Please use tf.compat.v1.get_default_graph instead.\n",
      "\n",
      "W0912 00:31:46.717263   784 deprecation_wrapper.py:119] From C:\\Python\\Anaconda3\\lib\\site-packages\\keras\\backend\\tensorflow_backend.py:541: The name tf.placeholder is deprecated. Please use tf.compat.v1.placeholder instead.\n",
      "\n",
      "W0912 00:31:46.731248   784 deprecation_wrapper.py:119] From C:\\Python\\Anaconda3\\lib\\site-packages\\keras\\backend\\tensorflow_backend.py:4432: The name tf.random_uniform is deprecated. Please use tf.random.uniform instead.\n",
      "\n"
     ]
    }
   ],
   "source": [
    "##모델 생성\n",
    "##모델 학습\n",
    "##모델 예측\n",
    "model = Sequential()\n",
    "model.add(Dense(1000, input_dim=1, activation=\"relu\"))\n",
    "model.add(Dense(5000, activation ='relu'))\n",
    "model.add(Dense(9000, activation='relu'))\n",
    "model.add(Dense(1))"
   ]
  },
  {
   "cell_type": "code",
   "execution_count": 16,
   "metadata": {},
   "outputs": [
    {
     "name": "stderr",
     "output_type": "stream",
     "text": [
      "W0912 00:31:47.968542   784 deprecation_wrapper.py:119] From C:\\Python\\Anaconda3\\lib\\site-packages\\keras\\optimizers.py:793: The name tf.train.Optimizer is deprecated. Please use tf.compat.v1.train.Optimizer instead.\n",
      "\n",
      "W0912 00:31:48.851035   784 deprecation_wrapper.py:119] From C:\\Python\\Anaconda3\\lib\\site-packages\\keras\\backend\\tensorflow_backend.py:1033: The name tf.assign_add is deprecated. Please use tf.compat.v1.assign_add instead.\n",
      "\n",
      "W0912 00:31:48.861029   784 deprecation_wrapper.py:119] From C:\\Python\\Anaconda3\\lib\\site-packages\\keras\\backend\\tensorflow_backend.py:1020: The name tf.assign is deprecated. Please use tf.compat.v1.assign instead.\n",
      "\n"
     ]
    },
    {
     "name": "stdout",
     "output_type": "stream",
     "text": [
      "Epoch 1/100\n",
      "10/10 [==============================] - 11s 1s/step - loss: 86580362.2805\n",
      "Epoch 2/100\n",
      "10/10 [==============================] - 7s 719ms/step - loss: 62524275.0000\n",
      "Epoch 3/100\n",
      "10/10 [==============================] - 7s 732ms/step - loss: 58695372.7125\n",
      "Epoch 4/100\n",
      "10/10 [==============================] - 7s 730ms/step - loss: 56681138.2500\n",
      "Epoch 5/100\n",
      "10/10 [==============================] - 7s 724ms/step - loss: 56949374.2836\n",
      "Epoch 6/100\n",
      "10/10 [==============================] - 7s 729ms/step - loss: 50697975.9773\n",
      "Epoch 7/100\n",
      "10/10 [==============================] - 7s 726ms/step - loss: 56542868.1500\n",
      "Epoch 8/100\n",
      "10/10 [==============================] - 7s 744ms/step - loss: 54070224.1000\n",
      "Epoch 9/100\n",
      "10/10 [==============================] - 7s 724ms/step - loss: 54600195.1187\n",
      "Epoch 10/100\n",
      "10/10 [==============================] - 7s 725ms/step - loss: 53775609.1750\n",
      "Epoch 11/100\n",
      "10/10 [==============================] - 7s 724ms/step - loss: 54294735.0625\n",
      "Epoch 12/100\n",
      "10/10 [==============================] - 7s 735ms/step - loss: 54035687.1625\n",
      "Epoch 13/100\n",
      "10/10 [==============================] - 7s 725ms/step - loss: 54162804.9365\n",
      "Epoch 14/100\n",
      "10/10 [==============================] - 7s 720ms/step - loss: 50711190.9000\n",
      "Epoch 15/100\n",
      "10/10 [==============================] - 7s 725ms/step - loss: 48475130.6187\n",
      "Epoch 16/100\n",
      "10/10 [==============================] - 7s 719ms/step - loss: 56808057.3312\n",
      "Epoch 17/100\n",
      "10/10 [==============================] - 7s 720ms/step - loss: 54690409.3531\n",
      "Epoch 18/100\n",
      "10/10 [==============================] - 7s 723ms/step - loss: 52309177.7375\n",
      "Epoch 19/100\n",
      "10/10 [==============================] - 7s 726ms/step - loss: 51916291.6094\n",
      "Epoch 20/100\n",
      "10/10 [==============================] - 7s 726ms/step - loss: 50381364.5250\n",
      "Epoch 21/100\n",
      "10/10 [==============================] - 7s 724ms/step - loss: 52518859.3460\n",
      "Epoch 22/100\n",
      "10/10 [==============================] - 7s 726ms/step - loss: 46926317.9156\n",
      "Epoch 23/100\n",
      "10/10 [==============================] - 7s 730ms/step - loss: 52696737.7281\n",
      "Epoch 24/100\n",
      "10/10 [==============================] - 7s 725ms/step - loss: 45286349.7453\n",
      "Epoch 25/100\n",
      "10/10 [==============================] - 7s 736ms/step - loss: 49232098.7437\n",
      "Epoch 26/100\n",
      "10/10 [==============================] - 7s 748ms/step - loss: 48574032.2742\n",
      "Epoch 27/100\n",
      "10/10 [==============================] - 7s 723ms/step - loss: 50630370.4579\n",
      "Epoch 28/100\n",
      "10/10 [==============================] - 7s 724ms/step - loss: 51259067.2560\n",
      "Epoch 29/100\n",
      "10/10 [==============================] - 7s 721ms/step - loss: 47463307.5712\n",
      "Epoch 30/100\n",
      "10/10 [==============================] - 7s 723ms/step - loss: 50797913.3472\n",
      "Epoch 31/100\n",
      "10/10 [==============================] - 8s 803ms/step - loss: 50084633.3021\n",
      "Epoch 32/100\n",
      "10/10 [==============================] - 8s 762ms/step - loss: 48986015.1883\n",
      "Epoch 33/100\n",
      "10/10 [==============================] - 7s 729ms/step - loss: 47937036.8289\n",
      "Epoch 34/100\n",
      "10/10 [==============================] - 7s 722ms/step - loss: 47705623.6881\n",
      "Epoch 35/100\n",
      "10/10 [==============================] - 7s 722ms/step - loss: 47416322.2391\n",
      "Epoch 36/100\n",
      "10/10 [==============================] - 7s 724ms/step - loss: 48004903.4688\n",
      "Epoch 37/100\n",
      "10/10 [==============================] - 7s 723ms/step - loss: 42910441.8910\n",
      "Epoch 38/100\n",
      "10/10 [==============================] - 7s 723ms/step - loss: 45911345.1407\n",
      "Epoch 39/100\n",
      "10/10 [==============================] - 7s 723ms/step - loss: 44668293.1115\n",
      "Epoch 40/100\n",
      "10/10 [==============================] - 7s 728ms/step - loss: 48000720.3128\n",
      "Epoch 41/100\n",
      "10/10 [==============================] - 7s 731ms/step - loss: 40908132.2939\n",
      "Epoch 42/100\n",
      "10/10 [==============================] - 7s 722ms/step - loss: 43160918.0189\n",
      "Epoch 43/100\n",
      "10/10 [==============================] - 7s 727ms/step - loss: 40790001.8647\n",
      "Epoch 44/100\n",
      "10/10 [==============================] - 7s 725ms/step - loss: 45376301.3002\n",
      "Epoch 45/100\n",
      "10/10 [==============================] - 7s 726ms/step - loss: 44869317.4189\n",
      "Epoch 46/100\n",
      "10/10 [==============================] - 7s 722ms/step - loss: 43280433.7535\n",
      "Epoch 47/100\n",
      "10/10 [==============================] - 8s 767ms/step - loss: 44461266.5378\n",
      "Epoch 48/100\n",
      "10/10 [==============================] - 7s 731ms/step - loss: 39279656.3126\n",
      "Epoch 49/100\n",
      "10/10 [==============================] - 7s 719ms/step - loss: 41284457.4641\n",
      "Epoch 50/100\n",
      "10/10 [==============================] - 7s 728ms/step - loss: 42230337.9094\n",
      "Epoch 51/100\n",
      "10/10 [==============================] - 7s 723ms/step - loss: 41022579.2676\n",
      "Epoch 52/100\n",
      "10/10 [==============================] - 7s 720ms/step - loss: 41450072.9525\n",
      "Epoch 53/100\n",
      "10/10 [==============================] - 7s 720ms/step - loss: 41813115.9136\n",
      "Epoch 54/100\n",
      "10/10 [==============================] - 7s 719ms/step - loss: 38773550.8680\n",
      "Epoch 55/100\n",
      "10/10 [==============================] - 7s 721ms/step - loss: 38853961.4644\n",
      "Epoch 56/100\n",
      "10/10 [==============================] - 7s 735ms/step - loss: 39750597.0194\n",
      "Epoch 57/100\n",
      "10/10 [==============================] - 7s 726ms/step - loss: 39696408.3276\n",
      "Epoch 58/100\n",
      "10/10 [==============================] - 7s 724ms/step - loss: 36223455.6677\n",
      "Epoch 59/100\n",
      "10/10 [==============================] - 7s 723ms/step - loss: 37984612.0837\n",
      "Epoch 60/100\n",
      "10/10 [==============================] - 7s 723ms/step - loss: 37898127.5322\n",
      "Epoch 61/100\n",
      "10/10 [==============================] - 7s 719ms/step - loss: 35682391.8893\n",
      "Epoch 62/100\n",
      "10/10 [==============================] - 7s 721ms/step - loss: 37658711.4913\n",
      "Epoch 63/100\n",
      "10/10 [==============================] - 7s 727ms/step - loss: 35938400.3678\n",
      "Epoch 64/100\n",
      "10/10 [==============================] - 7s 727ms/step - loss: 33801345.3800\n",
      "Epoch 65/100\n",
      "10/10 [==============================] - 7s 719ms/step - loss: 37949816.4724\n",
      "Epoch 66/100\n",
      "10/10 [==============================] - 7s 724ms/step - loss: 35479492.1522\n",
      "Epoch 67/100\n",
      "10/10 [==============================] - 7s 733ms/step - loss: 32831972.3306\n",
      "Epoch 68/100\n",
      "10/10 [==============================] - 7s 721ms/step - loss: 35481533.3510\n",
      "Epoch 69/100\n",
      "10/10 [==============================] - 7s 721ms/step - loss: 32281729.9226\n",
      "Epoch 70/100\n",
      "10/10 [==============================] - 7s 721ms/step - loss: 30824848.5055\n",
      "Epoch 71/100\n",
      "10/10 [==============================] - 7s 723ms/step - loss: 29140442.8580\n",
      "Epoch 72/100\n",
      "10/10 [==============================] - 7s 728ms/step - loss: 30139181.7960\n",
      "Epoch 73/100\n",
      "10/10 [==============================] - 7s 736ms/step - loss: 32947478.4580\n",
      "Epoch 74/100\n",
      "10/10 [==============================] - 7s 745ms/step - loss: 34440046.3681\n",
      "Epoch 75/100\n",
      "10/10 [==============================] - 7s 719ms/step - loss: 27307510.0903\n",
      "Epoch 76/100\n",
      "10/10 [==============================] - 7s 722ms/step - loss: 25750990.2927\n",
      "Epoch 77/100\n",
      "10/10 [==============================] - 7s 721ms/step - loss: 29222586.5298\n",
      "Epoch 78/100\n",
      "10/10 [==============================] - 7s 733ms/step - loss: 31474430.7313\n",
      "Epoch 79/100\n",
      "10/10 [==============================] - 7s 726ms/step - loss: 29063920.7113\n",
      "Epoch 80/100\n",
      "10/10 [==============================] - 7s 730ms/step - loss: 28962599.8384\n",
      "Epoch 81/100\n",
      "10/10 [==============================] - 7s 724ms/step - loss: 29983852.4911\n",
      "Epoch 82/100\n",
      "10/10 [==============================] - 7s 722ms/step - loss: 27891789.7367\n",
      "Epoch 83/100\n",
      "10/10 [==============================] - 7s 734ms/step - loss: 23330985.7596\n",
      "Epoch 84/100\n",
      "10/10 [==============================] - 7s 730ms/step - loss: 30410102.0291\n",
      "Epoch 85/100\n",
      "10/10 [==============================] - 7s 720ms/step - loss: 27784740.5108\n",
      "Epoch 86/100\n",
      "10/10 [==============================] - 7s 719ms/step - loss: 25483837.2205\n",
      "Epoch 87/100\n",
      "10/10 [==============================] - 7s 720ms/step - loss: 29109017.9671\n",
      "Epoch 88/100\n",
      "10/10 [==============================] - 7s 729ms/step - loss: 25445245.3855\n",
      "Epoch 89/100\n",
      "10/10 [==============================] - 7s 720ms/step - loss: 28613043.3658\n",
      "Epoch 90/100\n",
      "10/10 [==============================] - 7s 720ms/step - loss: 25077282.1747\n",
      "Epoch 91/100\n",
      "10/10 [==============================] - 7s 737ms/step - loss: 21754274.0668\n",
      "Epoch 92/100\n",
      "10/10 [==============================] - 7s 731ms/step - loss: 27114663.8244\n",
      "Epoch 93/100\n",
      "10/10 [==============================] - 7s 726ms/step - loss: 25796619.4767\n",
      "Epoch 94/100\n",
      "10/10 [==============================] - 7s 721ms/step - loss: 19264035.0288\n",
      "Epoch 95/100\n",
      "10/10 [==============================] - 7s 717ms/step - loss: 20099101.8365\n",
      "Epoch 96/100\n",
      "10/10 [==============================] - 7s 720ms/step - loss: 24066975.8024\n",
      "Epoch 97/100\n",
      "10/10 [==============================] - 7s 726ms/step - loss: 14928404.1013\n",
      "Epoch 98/100\n",
      "10/10 [==============================] - 7s 729ms/step - loss: 25134490.1542\n",
      "Epoch 99/100\n",
      "10/10 [==============================] - 7s 716ms/step - loss: 23376735.4170\n",
      "Epoch 100/100\n",
      "10/10 [==============================] - 7s 724ms/step - loss: 18692730.3568\n"
     ]
    },
    {
     "data": {
      "text/plain": [
       "<keras.callbacks.History at 0x199b6075048>"
      ]
     },
     "execution_count": 16,
     "metadata": {},
     "output_type": "execute_result"
    }
   ],
   "source": [
    "model.compile(loss=\"mean_squared_error\", optimizer='rmsprop')\n",
    "model.fit(X, Y, epochs=100, batch_size=1)"
   ]
  },
  {
   "cell_type": "code",
   "execution_count": 17,
   "metadata": {},
   "outputs": [],
   "source": [
    "pred = model.predict(X_test)"
   ]
  },
  {
   "cell_type": "code",
   "execution_count": 18,
   "metadata": {},
   "outputs": [],
   "source": [
    "sub['vehicle'] = pred"
   ]
  },
  {
   "cell_type": "code",
   "execution_count": 19,
   "metadata": {},
   "outputs": [],
   "source": [
    "sub.to_csv(\"trial_last_0912.csv\", index=False)"
   ]
  },
  {
   "cell_type": "code",
   "execution_count": null,
   "metadata": {},
   "outputs": [],
   "source": []
  }
 ],
 "metadata": {
  "kernelspec": {
   "display_name": "Python 3",
   "language": "python",
   "name": "python3"
  },
  "language_info": {
   "codemirror_mode": {
    "name": "ipython",
    "version": 3
   },
   "file_extension": ".py",
   "mimetype": "text/x-python",
   "name": "python",
   "nbconvert_exporter": "python",
   "pygments_lexer": "ipython3",
   "version": "3.7.3"
  }
 },
 "nbformat": 4,
 "nbformat_minor": 2
}
